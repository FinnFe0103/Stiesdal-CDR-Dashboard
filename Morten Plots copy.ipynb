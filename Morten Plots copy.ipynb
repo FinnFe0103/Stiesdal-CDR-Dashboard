{
 "cells": [
  {
   "cell_type": "code",
   "execution_count": 66,
   "metadata": {},
   "outputs": [],
   "source": [
    "from datetime import datetime\n",
    "from datetime import timedelta\n",
    "import matplotlib.pyplot as plt\n",
    "import matplotlib as mlp\n",
    "import pandas as pd\n",
    "import numpy as np\n",
    "import seaborn as sns"
   ]
  },
  {
   "cell_type": "code",
   "execution_count": 67,
   "metadata": {},
   "outputs": [],
   "source": [
    "SHEET_ID = '1BH_B_Df_7e2l6AH8_8a0aK70nlAJXfCTwfyCgxkL5C8'\n",
    "SHEET_NAME = 'cdr.fyi_raw'\n",
    "url = f'https://docs.google.com/spreadsheets/d/{SHEET_ID}/gviz/tq?tqx=out:csv&sheet={SHEET_NAME}'\n",
    "cdr_fyi = pd.read_csv(url, decimal=\",\")"
   ]
  },
  {
   "cell_type": "code",
   "execution_count": 68,
   "metadata": {},
   "outputs": [
    {
     "data": {
      "text/html": [
       "<div>\n",
       "<style scoped>\n",
       "    .dataframe tbody tr th:only-of-type {\n",
       "        vertical-align: middle;\n",
       "    }\n",
       "\n",
       "    .dataframe tbody tr th {\n",
       "        vertical-align: top;\n",
       "    }\n",
       "\n",
       "    .dataframe thead th {\n",
       "        text-align: right;\n",
       "    }\n",
       "</style>\n",
       "<table border=\"1\" class=\"dataframe\">\n",
       "  <thead>\n",
       "    <tr style=\"text-align: right;\">\n",
       "      <th></th>\n",
       "      <th>Announcement Date</th>\n",
       "      <th>Announcement Link</th>\n",
       "      <th>Demand-side Marketplace</th>\n",
       "      <th>Supply-side Marketplace</th>\n",
       "      <th>CDR Method</th>\n",
       "      <th>Total price (USD)</th>\n",
       "      <th>Purchaser</th>\n",
       "      <th>Status</th>\n",
       "      <th>Supplier</th>\n",
       "      <th>Tons Delivered</th>\n",
       "      <th>Tons Purchased</th>\n",
       "      <th>Price per Ton</th>\n",
       "    </tr>\n",
       "  </thead>\n",
       "  <tbody>\n",
       "    <tr>\n",
       "      <th>0</th>\n",
       "      <td>2021-04-13</td>\n",
       "      <td>https://charmindustrial.com/order?orderId=rec9...</td>\n",
       "      <td>NaN</td>\n",
       "      <td>NaN</td>\n",
       "      <td>Biooil</td>\n",
       "      <td>NaN</td>\n",
       "      <td>Cosora</td>\n",
       "      <td>delivered</td>\n",
       "      <td>Charm Industrial</td>\n",
       "      <td>1.000000</td>\n",
       "      <td>1.000000</td>\n",
       "      <td>NaN</td>\n",
       "    </tr>\n",
       "    <tr>\n",
       "      <th>1</th>\n",
       "      <td>2022-04-08</td>\n",
       "      <td>https://registry.puro.earth/carbon-sequestration</td>\n",
       "      <td>Pledge</td>\n",
       "      <td>Puro</td>\n",
       "      <td>Biochar</td>\n",
       "      <td>NaN</td>\n",
       "      <td>Orkestro</td>\n",
       "      <td>delivered</td>\n",
       "      <td>Bussme</td>\n",
       "      <td>0.999999</td>\n",
       "      <td>0.999999</td>\n",
       "      <td>NaN</td>\n",
       "    </tr>\n",
       "    <tr>\n",
       "      <th>2</th>\n",
       "      <td>2021-06-30</td>\n",
       "      <td>https://charmindustrial.com/order?orderId=recW...</td>\n",
       "      <td>NaN</td>\n",
       "      <td>Carbon Removed</td>\n",
       "      <td>Biooil</td>\n",
       "      <td>NaN</td>\n",
       "      <td>Aggregate Purchase</td>\n",
       "      <td>delivered</td>\n",
       "      <td>Charm Industrial</td>\n",
       "      <td>2.000000</td>\n",
       "      <td>2.000000</td>\n",
       "      <td>NaN</td>\n",
       "    </tr>\n",
       "    <tr>\n",
       "      <th>3</th>\n",
       "      <td>2022-01-17</td>\n",
       "      <td>https://registry.puro.earth/carbon-sequestration</td>\n",
       "      <td>NaN</td>\n",
       "      <td>Puro</td>\n",
       "      <td>Biochar</td>\n",
       "      <td>NaN</td>\n",
       "      <td>Swiss Re</td>\n",
       "      <td>delivered</td>\n",
       "      <td>Hjelmsäters Egendom</td>\n",
       "      <td>11.999989</td>\n",
       "      <td>11.999989</td>\n",
       "      <td>NaN</td>\n",
       "    </tr>\n",
       "    <tr>\n",
       "      <th>4</th>\n",
       "      <td>2022-12-19</td>\n",
       "      <td>https://registry.puro.earth/carbon-sequestrati...</td>\n",
       "      <td>NaN</td>\n",
       "      <td>Puro</td>\n",
       "      <td>Biochar</td>\n",
       "      <td>4290.0</td>\n",
       "      <td>Blackrock</td>\n",
       "      <td>delivered</td>\n",
       "      <td>Freres Biochar</td>\n",
       "      <td>39.000000</td>\n",
       "      <td>39.000000</td>\n",
       "      <td>110.0</td>\n",
       "    </tr>\n",
       "    <tr>\n",
       "      <th>...</th>\n",
       "      <td>...</td>\n",
       "      <td>...</td>\n",
       "      <td>...</td>\n",
       "      <td>...</td>\n",
       "      <td>...</td>\n",
       "      <td>...</td>\n",
       "      <td>...</td>\n",
       "      <td>...</td>\n",
       "      <td>...</td>\n",
       "      <td>...</td>\n",
       "      <td>...</td>\n",
       "      <td>...</td>\n",
       "    </tr>\n",
       "    <tr>\n",
       "      <th>982</th>\n",
       "      <td>2023-04-04</td>\n",
       "      <td>https://docs.google.com/spreadsheets/d/1yz9AG2...</td>\n",
       "      <td>Patch</td>\n",
       "      <td>Carbonfuture</td>\n",
       "      <td>Biochar</td>\n",
       "      <td>1000.0</td>\n",
       "      <td>Aggregate Purchase (Supplier Report)</td>\n",
       "      <td>delivered</td>\n",
       "      <td>NovoCarbo</td>\n",
       "      <td>5.000000</td>\n",
       "      <td>5.000000</td>\n",
       "      <td>200.0</td>\n",
       "    </tr>\n",
       "    <tr>\n",
       "      <th>983</th>\n",
       "      <td>2023-05-24</td>\n",
       "      <td>https://charmindustrial.com/order?orderId=recU...</td>\n",
       "      <td>NaN</td>\n",
       "      <td>NaN</td>\n",
       "      <td>Biooil</td>\n",
       "      <td>600000.0</td>\n",
       "      <td>Shopify</td>\n",
       "      <td>partial</td>\n",
       "      <td>Charm Industrial</td>\n",
       "      <td>123.327000</td>\n",
       "      <td>1000.000000</td>\n",
       "      <td>600.0</td>\n",
       "    </tr>\n",
       "    <tr>\n",
       "      <th>984</th>\n",
       "      <td>2022-01-11</td>\n",
       "      <td>https://registry.puro.earth/carbon-sequestration</td>\n",
       "      <td>Pledge</td>\n",
       "      <td>Puro</td>\n",
       "      <td>Biochar</td>\n",
       "      <td>NaN</td>\n",
       "      <td>Checkout</td>\n",
       "      <td>delivered</td>\n",
       "      <td>Oregon Biochar Solutions</td>\n",
       "      <td>149.999865</td>\n",
       "      <td>149.999865</td>\n",
       "      <td>NaN</td>\n",
       "    </tr>\n",
       "    <tr>\n",
       "      <th>985</th>\n",
       "      <td>2023-03-27</td>\n",
       "      <td>supercritical report</td>\n",
       "      <td>NaN</td>\n",
       "      <td>Supercritical</td>\n",
       "      <td>Enhanced Weathering</td>\n",
       "      <td>NaN</td>\n",
       "      <td>Trafalgar House Penseions Administration Limited</td>\n",
       "      <td>undelivered</td>\n",
       "      <td>UNDO</td>\n",
       "      <td>0.000000</td>\n",
       "      <td>2.000000</td>\n",
       "      <td>NaN</td>\n",
       "    </tr>\n",
       "    <tr>\n",
       "      <th>986</th>\n",
       "      <td>2022-01-11</td>\n",
       "      <td>https://charmindustrial.com/order?orderId=recY...</td>\n",
       "      <td>NaN</td>\n",
       "      <td>Stripe Climate</td>\n",
       "      <td>Biooil</td>\n",
       "      <td>NaN</td>\n",
       "      <td>Wise</td>\n",
       "      <td>partial</td>\n",
       "      <td>Charm Industrial</td>\n",
       "      <td>1.000000</td>\n",
       "      <td>14.000000</td>\n",
       "      <td>NaN</td>\n",
       "    </tr>\n",
       "  </tbody>\n",
       "</table>\n",
       "<p>987 rows × 12 columns</p>\n",
       "</div>"
      ],
      "text/plain": [
       "    Announcement Date                                  Announcement Link   \n",
       "0          2021-04-13  https://charmindustrial.com/order?orderId=rec9...  \\\n",
       "1          2022-04-08   https://registry.puro.earth/carbon-sequestration   \n",
       "2          2021-06-30  https://charmindustrial.com/order?orderId=recW...   \n",
       "3          2022-01-17   https://registry.puro.earth/carbon-sequestration   \n",
       "4          2022-12-19  https://registry.puro.earth/carbon-sequestrati...   \n",
       "..                ...                                                ...   \n",
       "982        2023-04-04  https://docs.google.com/spreadsheets/d/1yz9AG2...   \n",
       "983        2023-05-24  https://charmindustrial.com/order?orderId=recU...   \n",
       "984        2022-01-11   https://registry.puro.earth/carbon-sequestration   \n",
       "985        2023-03-27                               supercritical report   \n",
       "986        2022-01-11  https://charmindustrial.com/order?orderId=recY...   \n",
       "\n",
       "    Demand-side Marketplace Supply-side Marketplace           CDR Method   \n",
       "0                       NaN                     NaN               Biooil  \\\n",
       "1                    Pledge                    Puro              Biochar   \n",
       "2                       NaN          Carbon Removed               Biooil   \n",
       "3                       NaN                    Puro              Biochar   \n",
       "4                       NaN                    Puro              Biochar   \n",
       "..                      ...                     ...                  ...   \n",
       "982                   Patch            Carbonfuture              Biochar   \n",
       "983                     NaN                     NaN               Biooil   \n",
       "984                  Pledge                    Puro              Biochar   \n",
       "985                     NaN           Supercritical  Enhanced Weathering   \n",
       "986                     NaN          Stripe Climate               Biooil   \n",
       "\n",
       "     Total price (USD)                                         Purchaser   \n",
       "0                  NaN                                            Cosora  \\\n",
       "1                  NaN                                          Orkestro   \n",
       "2                  NaN                                Aggregate Purchase   \n",
       "3                  NaN                                         Swiss Re    \n",
       "4               4290.0                                         Blackrock   \n",
       "..                 ...                                               ...   \n",
       "982             1000.0              Aggregate Purchase (Supplier Report)   \n",
       "983           600000.0                                           Shopify   \n",
       "984                NaN                                          Checkout   \n",
       "985                NaN  Trafalgar House Penseions Administration Limited   \n",
       "986                NaN                                              Wise   \n",
       "\n",
       "          Status                   Supplier  Tons Delivered  Tons Purchased   \n",
       "0      delivered           Charm Industrial        1.000000        1.000000  \\\n",
       "1      delivered                     Bussme        0.999999        0.999999   \n",
       "2      delivered           Charm Industrial        2.000000        2.000000   \n",
       "3      delivered        Hjelmsäters Egendom       11.999989       11.999989   \n",
       "4      delivered             Freres Biochar       39.000000       39.000000   \n",
       "..           ...                        ...             ...             ...   \n",
       "982    delivered                  NovoCarbo        5.000000        5.000000   \n",
       "983      partial           Charm Industrial      123.327000     1000.000000   \n",
       "984    delivered  Oregon Biochar Solutions       149.999865      149.999865   \n",
       "985  undelivered                       UNDO        0.000000        2.000000   \n",
       "986      partial           Charm Industrial        1.000000       14.000000   \n",
       "\n",
       "     Price per Ton  \n",
       "0              NaN  \n",
       "1              NaN  \n",
       "2              NaN  \n",
       "3              NaN  \n",
       "4            110.0  \n",
       "..             ...  \n",
       "982          200.0  \n",
       "983          600.0  \n",
       "984            NaN  \n",
       "985            NaN  \n",
       "986            NaN  \n",
       "\n",
       "[987 rows x 12 columns]"
      ]
     },
     "execution_count": 68,
     "metadata": {},
     "output_type": "execute_result"
    }
   ],
   "source": [
    "cdr_fyi[\"Total price (USD)\"].replace(0.0, np.NaN, inplace=True)\n",
    "cdr_fyi[\"Price per Ton\"] = cdr_fyi[\"Total price (USD)\"] / cdr_fyi[\"Tons Purchased\"]\n",
    "cdr_fyi[\"Announcement Date\"] = cdr_fyi[\"Announcement Date\"].str.split(\" \", n=1).str[0]\n",
    "cdr_fyi"
   ]
  },
  {
   "cell_type": "code",
   "execution_count": 69,
   "metadata": {},
   "outputs": [
    {
     "data": {
      "text/html": [
       "<div>\n",
       "<style scoped>\n",
       "    .dataframe tbody tr th:only-of-type {\n",
       "        vertical-align: middle;\n",
       "    }\n",
       "\n",
       "    .dataframe tbody tr th {\n",
       "        vertical-align: top;\n",
       "    }\n",
       "\n",
       "    .dataframe thead th {\n",
       "        text-align: right;\n",
       "    }\n",
       "</style>\n",
       "<table border=\"1\" class=\"dataframe\">\n",
       "  <thead>\n",
       "    <tr style=\"text-align: right;\">\n",
       "      <th></th>\n",
       "      <th>Announcement Date</th>\n",
       "      <th>Announcement Link</th>\n",
       "      <th>Demand-side Marketplace</th>\n",
       "      <th>Supply-side Marketplace</th>\n",
       "      <th>CDR Method</th>\n",
       "      <th>Total price (USD)</th>\n",
       "      <th>Purchaser</th>\n",
       "      <th>Status</th>\n",
       "      <th>Supplier</th>\n",
       "      <th>Tons Delivered</th>\n",
       "      <th>Tons Purchased</th>\n",
       "      <th>Price per Ton</th>\n",
       "    </tr>\n",
       "  </thead>\n",
       "  <tbody>\n",
       "    <tr>\n",
       "      <th>681</th>\n",
       "      <td>2021-06-28</td>\n",
       "      <td>https://registry.puro.earth/carbon-sequestration</td>\n",
       "      <td>NaN</td>\n",
       "      <td>Puro</td>\n",
       "      <td>Biochar</td>\n",
       "      <td>NaN</td>\n",
       "      <td>AquaGreen</td>\n",
       "      <td>delivered</td>\n",
       "      <td>Carbofex</td>\n",
       "      <td>4.999995</td>\n",
       "      <td>4.999995</td>\n",
       "      <td>NaN</td>\n",
       "    </tr>\n",
       "  </tbody>\n",
       "</table>\n",
       "</div>"
      ],
      "text/plain": [
       "    Announcement Date                                 Announcement Link   \n",
       "681        2021-06-28  https://registry.puro.earth/carbon-sequestration  \\\n",
       "\n",
       "    Demand-side Marketplace Supply-side Marketplace CDR Method   \n",
       "681                     NaN                    Puro    Biochar  \\\n",
       "\n",
       "     Total price (USD)  Purchaser     Status  Supplier  Tons Delivered   \n",
       "681                NaN  AquaGreen  delivered  Carbofex        4.999995  \\\n",
       "\n",
       "     Tons Purchased  Price per Ton  \n",
       "681        4.999995            NaN  "
      ]
     },
     "execution_count": 69,
     "metadata": {},
     "output_type": "execute_result"
    }
   ],
   "source": [
    "cdr_fyi[cdr_fyi[\"Purchaser\"] == \"AquaGreen\"]"
   ]
  },
  {
   "cell_type": "code",
   "execution_count": 70,
   "metadata": {},
   "outputs": [
    {
     "name": "stdout",
     "output_type": "stream",
     "text": [
      "77\n"
     ]
    },
    {
     "data": {
      "text/html": [
       "<div>\n",
       "<style scoped>\n",
       "    .dataframe tbody tr th:only-of-type {\n",
       "        vertical-align: middle;\n",
       "    }\n",
       "\n",
       "    .dataframe tbody tr th {\n",
       "        vertical-align: top;\n",
       "    }\n",
       "\n",
       "    .dataframe thead th {\n",
       "        text-align: right;\n",
       "    }\n",
       "</style>\n",
       "<table border=\"1\" class=\"dataframe\">\n",
       "  <thead>\n",
       "    <tr style=\"text-align: right;\">\n",
       "      <th></th>\n",
       "      <th>Total price (USD)</th>\n",
       "      <th>Tons Delivered</th>\n",
       "      <th>Tons Purchased</th>\n",
       "      <th>Price per Ton</th>\n",
       "    </tr>\n",
       "    <tr>\n",
       "      <th>Supplier</th>\n",
       "      <th></th>\n",
       "      <th></th>\n",
       "      <th></th>\n",
       "      <th></th>\n",
       "    </tr>\n",
       "  </thead>\n",
       "  <tbody>\n",
       "    <tr>\n",
       "      <th>Wakefield Biochar</th>\n",
       "      <td>3000.00</td>\n",
       "      <td>20934.000000</td>\n",
       "      <td>34450.000000</td>\n",
       "      <td>200.000000</td>\n",
       "    </tr>\n",
       "    <tr>\n",
       "      <th>Douglas County Forest Products</th>\n",
       "      <td>490531.00</td>\n",
       "      <td>11403.001295</td>\n",
       "      <td>13148.001295</td>\n",
       "      <td>2356.213788</td>\n",
       "    </tr>\n",
       "    <tr>\n",
       "      <th>Aggregate Supplier (Marketplace Report)</th>\n",
       "      <td>1000000.00</td>\n",
       "      <td>8881.890000</td>\n",
       "      <td>203010.890000</td>\n",
       "      <td>inf</td>\n",
       "    </tr>\n",
       "    <tr>\n",
       "      <th>Aperam BioEnergia</th>\n",
       "      <td>118400.00</td>\n",
       "      <td>7300.000000</td>\n",
       "      <td>7300.000000</td>\n",
       "      <td>148.000000</td>\n",
       "    </tr>\n",
       "    <tr>\n",
       "      <th>Freres Biochar</th>\n",
       "      <td>161977.00</td>\n",
       "      <td>7092.996923</td>\n",
       "      <td>15655.104173</td>\n",
       "      <td>757.344437</td>\n",
       "    </tr>\n",
       "    <tr>\n",
       "      <th>Charm Industrial</th>\n",
       "      <td>76700912.29</td>\n",
       "      <td>6116.324400</td>\n",
       "      <td>162248.695000</td>\n",
       "      <td>NaN</td>\n",
       "    </tr>\n",
       "    <tr>\n",
       "      <th>Oregon Biochar Solutions</th>\n",
       "      <td>255485.00</td>\n",
       "      <td>4098.997384</td>\n",
       "      <td>6506.182384</td>\n",
       "      <td>185.000000</td>\n",
       "    </tr>\n",
       "    <tr>\n",
       "      <th>Carbofex</th>\n",
       "      <td>1685092.00</td>\n",
       "      <td>3975.997829</td>\n",
       "      <td>8047.308829</td>\n",
       "      <td>2950.008825</td>\n",
       "    </tr>\n",
       "    <tr>\n",
       "      <th>GreenSand</th>\n",
       "      <td>119071.00</td>\n",
       "      <td>2228.000000</td>\n",
       "      <td>3154.000000</td>\n",
       "      <td>973.180000</td>\n",
       "    </tr>\n",
       "    <tr>\n",
       "      <th>NovoCarbo</th>\n",
       "      <td>228074.51</td>\n",
       "      <td>1986.809946</td>\n",
       "      <td>1986.809855</td>\n",
       "      <td>4582.752494</td>\n",
       "    </tr>\n",
       "  </tbody>\n",
       "</table>\n",
       "</div>"
      ],
      "text/plain": [
       "                                         Total price (USD)  Tons Delivered   \n",
       "Supplier                                                                     \n",
       "Wakefield Biochar                                  3000.00    20934.000000  \\\n",
       "Douglas County Forest Products                   490531.00    11403.001295   \n",
       "Aggregate Supplier (Marketplace Report)         1000000.00     8881.890000   \n",
       "Aperam BioEnergia                                118400.00     7300.000000   \n",
       "Freres Biochar                                   161977.00     7092.996923   \n",
       "Charm Industrial                               76700912.29     6116.324400   \n",
       "Oregon Biochar Solutions                         255485.00     4098.997384   \n",
       "Carbofex                                        1685092.00     3975.997829   \n",
       "GreenSand                                        119071.00     2228.000000   \n",
       "NovoCarbo                                        228074.51     1986.809946   \n",
       "\n",
       "                                         Tons Purchased  Price per Ton  \n",
       "Supplier                                                                \n",
       "Wakefield Biochar                          34450.000000     200.000000  \n",
       "Douglas County Forest Products             13148.001295    2356.213788  \n",
       "Aggregate Supplier (Marketplace Report)   203010.890000            inf  \n",
       "Aperam BioEnergia                           7300.000000     148.000000  \n",
       "Freres Biochar                             15655.104173     757.344437  \n",
       "Charm Industrial                          162248.695000            NaN  \n",
       "Oregon Biochar Solutions                    6506.182384     185.000000  \n",
       "Carbofex                                    8047.308829    2950.008825  \n",
       "GreenSand                                   3154.000000     973.180000  \n",
       "NovoCarbo                                   1986.809855    4582.752494  "
      ]
     },
     "execution_count": 70,
     "metadata": {},
     "output_type": "execute_result"
    }
   ],
   "source": [
    "print(cdr_fyi['Supplier'].nunique())\n",
    "cdr_fyi.groupby([\"Supplier\"]).sum(\"Tons Delivered\").sort_values(\"Tons Delivered\", ascending=False).head(10)"
   ]
  },
  {
   "cell_type": "code",
   "execution_count": 71,
   "metadata": {},
   "outputs": [
    {
     "data": {
      "text/html": [
       "<div>\n",
       "<style scoped>\n",
       "    .dataframe tbody tr th:only-of-type {\n",
       "        vertical-align: middle;\n",
       "    }\n",
       "\n",
       "    .dataframe tbody tr th {\n",
       "        vertical-align: top;\n",
       "    }\n",
       "\n",
       "    .dataframe thead th {\n",
       "        text-align: right;\n",
       "    }\n",
       "</style>\n",
       "<table border=\"1\" class=\"dataframe\">\n",
       "  <thead>\n",
       "    <tr style=\"text-align: right;\">\n",
       "      <th></th>\n",
       "      <th>Total price (USD)</th>\n",
       "      <th>Tons Delivered</th>\n",
       "      <th>Tons Purchased</th>\n",
       "      <th>Price per Ton</th>\n",
       "    </tr>\n",
       "    <tr>\n",
       "      <th>Supplier</th>\n",
       "      <th></th>\n",
       "      <th></th>\n",
       "      <th></th>\n",
       "      <th></th>\n",
       "    </tr>\n",
       "  </thead>\n",
       "  <tbody>\n",
       "    <tr>\n",
       "      <th>Wakefield Biochar</th>\n",
       "      <td>3000.00</td>\n",
       "      <td>20934.000000</td>\n",
       "      <td>34450.000000</td>\n",
       "      <td>200.000000</td>\n",
       "    </tr>\n",
       "    <tr>\n",
       "      <th>Douglas County Forest Products</th>\n",
       "      <td>490531.00</td>\n",
       "      <td>11403.001295</td>\n",
       "      <td>13148.001295</td>\n",
       "      <td>2356.213788</td>\n",
       "    </tr>\n",
       "    <tr>\n",
       "      <th>Aggregate Supplier (Marketplace Report)</th>\n",
       "      <td>1000000.00</td>\n",
       "      <td>8881.890000</td>\n",
       "      <td>203010.890000</td>\n",
       "      <td>inf</td>\n",
       "    </tr>\n",
       "    <tr>\n",
       "      <th>Aperam BioEnergia</th>\n",
       "      <td>118400.00</td>\n",
       "      <td>7300.000000</td>\n",
       "      <td>7300.000000</td>\n",
       "      <td>148.000000</td>\n",
       "    </tr>\n",
       "    <tr>\n",
       "      <th>Freres Biochar</th>\n",
       "      <td>161977.00</td>\n",
       "      <td>7092.996923</td>\n",
       "      <td>15655.104173</td>\n",
       "      <td>757.344437</td>\n",
       "    </tr>\n",
       "    <tr>\n",
       "      <th>Charm Industrial</th>\n",
       "      <td>76700912.29</td>\n",
       "      <td>6116.324400</td>\n",
       "      <td>162248.695000</td>\n",
       "      <td>NaN</td>\n",
       "    </tr>\n",
       "    <tr>\n",
       "      <th>Oregon Biochar Solutions</th>\n",
       "      <td>255485.00</td>\n",
       "      <td>4098.997384</td>\n",
       "      <td>6506.182384</td>\n",
       "      <td>185.000000</td>\n",
       "    </tr>\n",
       "    <tr>\n",
       "      <th>Carbofex</th>\n",
       "      <td>1685092.00</td>\n",
       "      <td>3975.997829</td>\n",
       "      <td>8047.308829</td>\n",
       "      <td>2950.008825</td>\n",
       "    </tr>\n",
       "    <tr>\n",
       "      <th>GreenSand</th>\n",
       "      <td>119071.00</td>\n",
       "      <td>2228.000000</td>\n",
       "      <td>3154.000000</td>\n",
       "      <td>973.180000</td>\n",
       "    </tr>\n",
       "    <tr>\n",
       "      <th>NovoCarbo</th>\n",
       "      <td>228074.51</td>\n",
       "      <td>1986.809946</td>\n",
       "      <td>1986.809855</td>\n",
       "      <td>4582.752494</td>\n",
       "    </tr>\n",
       "  </tbody>\n",
       "</table>\n",
       "</div>"
      ],
      "text/plain": [
       "                                         Total price (USD)  Tons Delivered   \n",
       "Supplier                                                                     \n",
       "Wakefield Biochar                                  3000.00    20934.000000  \\\n",
       "Douglas County Forest Products                   490531.00    11403.001295   \n",
       "Aggregate Supplier (Marketplace Report)         1000000.00     8881.890000   \n",
       "Aperam BioEnergia                                118400.00     7300.000000   \n",
       "Freres Biochar                                   161977.00     7092.996923   \n",
       "Charm Industrial                               76700912.29     6116.324400   \n",
       "Oregon Biochar Solutions                         255485.00     4098.997384   \n",
       "Carbofex                                        1685092.00     3975.997829   \n",
       "GreenSand                                        119071.00     2228.000000   \n",
       "NovoCarbo                                        228074.51     1986.809946   \n",
       "\n",
       "                                         Tons Purchased  Price per Ton  \n",
       "Supplier                                                                \n",
       "Wakefield Biochar                          34450.000000     200.000000  \n",
       "Douglas County Forest Products             13148.001295    2356.213788  \n",
       "Aggregate Supplier (Marketplace Report)   203010.890000            inf  \n",
       "Aperam BioEnergia                           7300.000000     148.000000  \n",
       "Freres Biochar                             15655.104173     757.344437  \n",
       "Charm Industrial                          162248.695000            NaN  \n",
       "Oregon Biochar Solutions                    6506.182384     185.000000  \n",
       "Carbofex                                    8047.308829    2950.008825  \n",
       "GreenSand                                   3154.000000     973.180000  \n",
       "NovoCarbo                                   1986.809855    4582.752494  "
      ]
     },
     "execution_count": 71,
     "metadata": {},
     "output_type": "execute_result"
    }
   ],
   "source": [
    "cdr_fyi.groupby([\"Supplier\"]).sum(\"Tons Delivered\").sort_values(\"Tons Delivered\", ascending=False).head(10)"
   ]
  },
  {
   "cell_type": "code",
   "execution_count": 72,
   "metadata": {},
   "outputs": [
    {
     "data": {
      "text/plain": [
       "['Charm Industrial',\n",
       " 'Bussme',\n",
       " 'Hjelmsäters Egendom',\n",
       " 'Freres Biochar',\n",
       " 'Carbon Engineering',\n",
       " 'Aggregate Supplier (Marketplace Report)',\n",
       " 'Oregon Biochar Solutions ',\n",
       " 'Climeworks',\n",
       " 'Carbofex',\n",
       " 'UNDO',\n",
       " 'Silicate',\n",
       " 'Karbon Capture',\n",
       " 'Douglas County Forest Products',\n",
       " 'Jeffries Group',\n",
       " 'Cedar Carbon',\n",
       " 'Premier Forest',\n",
       " 'Running Tide',\n",
       " 'Wakefield Biochar',\n",
       " 'Nordgau',\n",
       " 'Pyrocal',\n",
       " 'Mash makes',\n",
       " 'Oplandske Bio, Rudshøgda',\n",
       " 'CarbonBuilt',\n",
       " 'Captura',\n",
       " ' Ørsted ',\n",
       " 'NovoCarbo',\n",
       " 'Neustark',\n",
       " 'V-Grid Energy Systems',\n",
       " 'Echo2',\n",
       " 'CarbonCure',\n",
       " 'Carbonfuture',\n",
       " 'Noya',\n",
       " 'Heirloom',\n",
       " 'Inplanet',\n",
       " 'CO280',\n",
       " 'GreenSand',\n",
       " 'Terra Fertilis',\n",
       " 'Carbon Cycle',\n",
       " 'Bio Restorative Ideas',\n",
       " 'Planboo',\n",
       " 'Lithos',\n",
       " 'InterEarth',\n",
       " 'Arbor',\n",
       " 'Ecoera',\n",
       " 'Kodama Systems',\n",
       " 'Cella',\n",
       " nan,\n",
       " 'Carbo Culture',\n",
       " '1PointFive',\n",
       " 'Husk',\n",
       " 'Aperam BioEnergia',\n",
       " 'Carbon Capture',\n",
       " 'Sustaera ',\n",
       " 'Project Vesta',\n",
       " 'Emergent Waste Solution',\n",
       " 'RepAir',\n",
       " 'Carbin Minerals',\n",
       " 'AspiraDAC',\n",
       " 'Equatic',\n",
       " 'Gekka Biochar',\n",
       " 'Carbon To Stone',\n",
       " 'Netzero',\n",
       " 'Summit Carbon Solutions',\n",
       " 'Sonnenerde',\n",
       " 'Mission Zero',\n",
       " 'CREW',\n",
       " 'Pacific Biochar',\n",
       " 'Auen Pflege Dienst APD Flaach',\n",
       " 'Biokol.se',\n",
       " 'Climate Robotics Inc.',\n",
       " '44.01.00',\n",
       " 'Planetary',\n",
       " 'Ebb',\n",
       " 'Eion',\n",
       " 'Seachange',\n",
       " 'Calcite-Origen',\n",
       " 'Drax',\n",
       " 'Travertine']"
      ]
     },
     "execution_count": 72,
     "metadata": {},
     "output_type": "execute_result"
    }
   ],
   "source": [
    "# create a list of all suppliers\n",
    "suppliers = cdr_fyi['Supplier'].unique().tolist()\n",
    "suppliers"
   ]
  },
  {
   "cell_type": "code",
   "execution_count": 73,
   "metadata": {},
   "outputs": [
    {
     "data": {
      "text/plain": [
       "['Wakefield Biochar',\n",
       " 'Douglas County Forest Products',\n",
       " 'Aggregate Supplier (Marketplace Report)',\n",
       " 'Aperam BioEnergia',\n",
       " 'Freres Biochar',\n",
       " 'Charm Industrial',\n",
       " 'Oregon Biochar Solutions ',\n",
       " 'Carbofex',\n",
       " 'GreenSand',\n",
       " 'NovoCarbo',\n",
       " 'Carbon Cycle',\n",
       " 'Pacific Biochar',\n",
       " 'Echo2',\n",
       " 'Bussme',\n",
       " 'Ecoera',\n",
       " 'Nordgau',\n",
       " 'Hjelmsäters Egendom',\n",
       " 'Oplandske Bio, Rudshøgda',\n",
       " 'Terra Fertilis',\n",
       " 'Premier Forest',\n",
       " 'Planboo',\n",
       " 'Netzero',\n",
       " 'V-Grid Energy Systems',\n",
       " 'Karbon Capture',\n",
       " 'UNDO',\n",
       " 'Emergent Waste Solution',\n",
       " 'Jeffries Group',\n",
       " 'Gekka Biochar',\n",
       " 'Pyrocal',\n",
       " 'Carbon Engineering',\n",
       " 'Climeworks',\n",
       " 'Silicate',\n",
       " 'Cedar Carbon',\n",
       " 'Running Tide',\n",
       " 'Mash makes',\n",
       " 'CarbonBuilt',\n",
       " 'Captura',\n",
       " ' Ørsted ',\n",
       " 'Neustark',\n",
       " 'CarbonCure',\n",
       " 'Carbonfuture',\n",
       " 'Noya',\n",
       " 'Heirloom',\n",
       " 'Inplanet',\n",
       " 'CO280',\n",
       " 'Bio Restorative Ideas',\n",
       " 'Lithos',\n",
       " 'InterEarth',\n",
       " 'Arbor',\n",
       " 'Kodama Systems',\n",
       " 'Cella',\n",
       " nan,\n",
       " 'Carbo Culture',\n",
       " '1PointFive',\n",
       " 'Husk',\n",
       " 'Carbon Capture',\n",
       " 'Sustaera ',\n",
       " 'Project Vesta',\n",
       " 'RepAir',\n",
       " 'Carbin Minerals',\n",
       " 'AspiraDAC',\n",
       " 'Equatic',\n",
       " 'Carbon To Stone',\n",
       " 'Summit Carbon Solutions',\n",
       " 'Sonnenerde',\n",
       " 'Mission Zero',\n",
       " 'CREW',\n",
       " 'Auen Pflege Dienst APD Flaach',\n",
       " 'Biokol.se',\n",
       " 'Climate Robotics Inc.',\n",
       " '44.01.00',\n",
       " 'Planetary',\n",
       " 'Ebb',\n",
       " 'Eion',\n",
       " 'Seachange',\n",
       " 'Calcite-Origen',\n",
       " 'Drax',\n",
       " 'Travertine']"
      ]
     },
     "execution_count": 73,
     "metadata": {},
     "output_type": "execute_result"
    }
   ],
   "source": [
    "# sort this list by how \"tons Delivered\"\n",
    "suppliers.sort(key=lambda x: cdr_fyi[cdr_fyi['Supplier'] == x]['Tons Delivered'].sum(), reverse=True)\n",
    "suppliers"
   ]
  },
  {
   "cell_type": "code",
   "execution_count": 47,
   "metadata": {},
   "outputs": [
    {
     "data": {
      "text/plain": [
       "['Wakefield Biochar',\n",
       " 'Douglas County Forest Products',\n",
       " 'Aggregate Supplier (Marketplace Report)',\n",
       " 'Aperam BioEnergia',\n",
       " 'Freres Biochar',\n",
       " 'Charm Industrial',\n",
       " 'Oregon Biochar Solutions ',\n",
       " 'Carbofex',\n",
       " 'GreenSand',\n",
       " 'NovoCarbo',\n",
       " 'Carbon Cycle',\n",
       " 'Pacific Biochar',\n",
       " 'Echo2',\n",
       " 'Bussme',\n",
       " 'Ecoera',\n",
       " 'Nordgau',\n",
       " 'Hjelmsäters Egendom',\n",
       " 'Oplandske Bio, Rudshøgda',\n",
       " 'Terra Fertilis',\n",
       " 'Premier Forest',\n",
       " 'Planboo',\n",
       " 'Netzero',\n",
       " 'V-Grid Energy Systems',\n",
       " 'Karbon Capture',\n",
       " 'UNDO',\n",
       " 'Emergent Waste Solution',\n",
       " 'Jeffries Group',\n",
       " 'Gekka Biochar',\n",
       " 'Pyrocal',\n",
       " 'Carbon Engineering',\n",
       " 'Climeworks',\n",
       " 'Silicate',\n",
       " 'Cedar Carbon',\n",
       " 'Running Tide',\n",
       " 'Mash makes',\n",
       " 'CarbonBuilt',\n",
       " 'Captura',\n",
       " ' Ørsted ',\n",
       " 'Neustark',\n",
       " 'CarbonCure',\n",
       " 'Carbonfuture',\n",
       " 'Noya',\n",
       " 'Heirloom',\n",
       " 'Inplanet',\n",
       " 'CO280',\n",
       " 'Bio Restorative Ideas',\n",
       " 'Lithos',\n",
       " 'InterEarth',\n",
       " 'Arbor',\n",
       " 'Kodama Systems',\n",
       " 'Cella',\n",
       " nan,\n",
       " 'Carbo Culture',\n",
       " '1PointFive',\n",
       " 'Husk',\n",
       " 'Carbon Capture',\n",
       " 'Sustaera ',\n",
       " 'Project Vesta',\n",
       " 'RepAir',\n",
       " 'Carbin Minerals',\n",
       " 'AspiraDAC',\n",
       " 'Equatic',\n",
       " 'Carbon To Stone',\n",
       " 'Summit Carbon Solutions',\n",
       " 'Sonnenerde',\n",
       " 'Mission Zero',\n",
       " 'CREW',\n",
       " 'Auen Pflege Dienst APD Flaach',\n",
       " 'Biokol.se',\n",
       " 'Climate Robotics Inc.',\n",
       " '44.01.00',\n",
       " 'Planetary',\n",
       " 'Ebb',\n",
       " 'Eion',\n",
       " 'Seachange',\n",
       " 'Calcite-Origen',\n",
       " 'Drax',\n",
       " 'Travertine']"
      ]
     },
     "execution_count": 47,
     "metadata": {},
     "output_type": "execute_result"
    }
   ],
   "source": [
    "suppliers.sort(key=lambda x: cdr_fyi[cdr_fyi['Supplier'] == x]['Tons Delivered'].sum(), reverse=True)\n",
    "suppliers"
   ]
  },
  {
   "cell_type": "code",
   "execution_count": 48,
   "metadata": {},
   "outputs": [
    {
     "data": {
      "text/plain": [
       "0.989799257802192"
      ]
     },
     "execution_count": 48,
     "metadata": {},
     "output_type": "execute_result"
    }
   ],
   "source": [
    "top_20_suppliers_d = cdr_fyi.groupby([\"Supplier\"]).sum(\"Tons Delivered\").sort_values(\"Tons Delivered\", ascending=False).head(20)\n",
    "top_20_suppliers_d['Tons Delivered'].sum() / cdr_fyi['Tons Delivered'].sum()"
   ]
  },
  {
   "cell_type": "code",
   "execution_count": 49,
   "metadata": {},
   "outputs": [
    {
     "data": {
      "text/plain": [
       "0.10584279738971125"
      ]
     },
     "execution_count": 49,
     "metadata": {},
     "output_type": "execute_result"
    }
   ],
   "source": [
    "8881.890000 / cdr_fyi['Tons Delivered'].sum()"
   ]
  },
  {
   "cell_type": "code",
   "execution_count": 50,
   "metadata": {},
   "outputs": [],
   "source": [
    "supplier_dict = {' Ørsted ': 'Denmark',\n",
    "                 'Drax': 'United Kingdom',\n",
    "                 'CO280': 'Canada',\n",
    "                 '1PointFive': 'United States',\n",
    "                 'Aggregate Supplier (Marketplace Report)': 'Other',\n",
    "                 'Charm Industrial': 'United States',\n",
    "                 'Climeworks': 'Switzerland',\n",
    "                 'Equatic': 'United States',\n",
    "                 'Mash makes': 'India',\n",
    "                 'Carbon Capture': 'United States',\n",
    "                 'Neustark': 'Switzerland',\n",
    "                 'Wakefield Biochar': 'United States',\n",
    "                 'Running Tide': 'United States',\n",
    "                 'Carbonfuture': 'Germany',\n",
    "                 'Freres Biochar': 'United States',\n",
    "                 'Douglas County Forest Products': 'United States',\n",
    "                 'Carbon Engineering': 'Canada',\n",
    "                 'UNDO': 'United Kingdom',\n",
    "                 'InterEarth': 'Australia',\n",
    "                 'Carbofex': 'Finland',\n",
    "                 'Carbo Culture': 'Finland',\n",
    "                 'CarbonCure': 'Canada',\n",
    "                 'Aperam BioEnergia': 'Brazil',\n",
    "                 'Oregon Biochar Solutions ': 'United States',\n",
    "                 'Echo2': 'Australia',\n",
    "                 'CarbonBuilt': 'Other',\n",
    "                 'Sustaera ': 'Other',\n",
    "                 '44.01.00': 'Other',\n",
    "                 'Husk': 'Other',\n",
    "                 'Carbon Cycle': 'United States',\n",
    "                 'Project Vesta': 'Other',\n",
    "                 'GreenSand': 'Denmark',\n",
    "                 'Pacific Biochar': 'United States',\n",
    "                 'Cella': 'Other',\n",
    "                 'NovoCarbo': 'Germany',\n",
    "                 'Noya': 'Other',\n",
    "                 'Carbon To Stone': 'Other',\n",
    "                 'Bio Restorative Ideas': 'Other',\n",
    "                 'Ecoera': 'Sweden',\n",
    "                 'Inplanet': 'Other',\n",
    "                 'Climate Robotics Inc.': 'Other',\n",
    "                 'Arbor': 'Other',\n",
    "                 'Silicate': 'Other',\n",
    "                 'Bussme': 'Sweden',\n",
    "                 'Nordgau': 'Germany',\n",
    "                 'Heirloom': 'Other',\n",
    "                 'Planetary': 'Other',\n",
    "                 'Mission Zero': 'Other',\n",
    "                 'Hjelmsäters Egendom': 'Sweden',\n",
    "                 'Lithos': 'Other',\n",
    "                 'Oplandske Bio, Rudshøgda': 'Norway',\n",
    "                 'CREW': 'Other',\n",
    "                 'Carbin Minerals': 'Other',\n",
    "                 'Captura': 'Other',\n",
    "                 'AspiraDAC': 'Other',\n",
    "                 'Eion': 'Other',\n",
    "                 'Kodama Systems': 'Other',\n",
    "                 'V-Grid Energy Systems': 'Other',\n",
    "                 'Seachange': 'Other',\n",
    "                 'Travertine': 'Other',\n",
    "                 'Terra Fertilis': 'France',\n",
    "                 'Calcite-Origen': 'Other',\n",
    "                 'Auen Pflege Dienst APD Flaach': 'Other',\n",
    "                 'Ebb': 'Other',\n",
    "                 'Premier Forest': 'United Kingdom',\n",
    "                 'Planboo': 'Other',\n",
    "                 'RepAir': 'Other',\n",
    "                 'Sonnenerde': 'Other',\n",
    "                 'Netzero': 'Other',\n",
    "                 'Karbon Capture': 'Other',\n",
    "                 'Emergent Waste Solution': 'Other',\n",
    "                 'Jeffries Group': 'Other',\n",
    "                 'Gekka Biochar': 'Other',\n",
    "                 'Pyrocal': 'Other',\n",
    "                 'Biokol.se': 'Other',\n",
    "                 'Cedar Carbon': 'Other',\n",
    "                 np.nan: 'Other',\n",
    "                 'Summit Carbon Solutions': 'Other'}"
   ]
  },
  {
   "cell_type": "code",
   "execution_count": 51,
   "metadata": {},
   "outputs": [
    {
     "data": {
      "text/plain": [
       "35"
      ]
     },
     "execution_count": 51,
     "metadata": {},
     "output_type": "execute_result"
    }
   ],
   "source": [
    "# count many keys in the dictionary do not have the value other\n",
    "len([k for k, v in supplier_dict.items() if v != \"Other\"])"
   ]
  },
  {
   "cell_type": "code",
   "execution_count": 52,
   "metadata": {},
   "outputs": [
    {
     "name": "stdout",
     "output_type": "stream",
     "text": [
      "                      Supplier Supplier Origin\n",
      "0             Charm Industrial   United States\n",
      "1                       Bussme          Sweden\n",
      "2             Charm Industrial   United States\n",
      "3          Hjelmsäters Egendom          Sweden\n",
      "4               Freres Biochar   United States\n",
      "..                         ...             ...\n",
      "982                  NovoCarbo         Germany\n",
      "983           Charm Industrial   United States\n",
      "984  Oregon Biochar Solutions    United States\n",
      "985                       UNDO  United Kingdom\n",
      "986           Charm Industrial   United States\n",
      "\n",
      "[987 rows x 2 columns]\n"
     ]
    }
   ],
   "source": [
    "# create a new column in the dataframe with the supplier_dict\n",
    "cdr_fyi['Supplier Origin'] = cdr_fyi['Supplier'].map(supplier_dict)\n",
    "print(cdr_fyi[['Supplier', 'Supplier Origin']])"
   ]
  },
  {
   "cell_type": "code",
   "execution_count": 53,
   "metadata": {},
   "outputs": [
    {
     "data": {
      "text/html": [
       "<div>\n",
       "<style scoped>\n",
       "    .dataframe tbody tr th:only-of-type {\n",
       "        vertical-align: middle;\n",
       "    }\n",
       "\n",
       "    .dataframe tbody tr th {\n",
       "        vertical-align: top;\n",
       "    }\n",
       "\n",
       "    .dataframe thead th {\n",
       "        text-align: right;\n",
       "    }\n",
       "</style>\n",
       "<table border=\"1\" class=\"dataframe\">\n",
       "  <thead>\n",
       "    <tr style=\"text-align: right;\">\n",
       "      <th></th>\n",
       "      <th>Supplier Origin</th>\n",
       "      <th>Tons Delivered</th>\n",
       "      <th>Tons Purchased</th>\n",
       "    </tr>\n",
       "  </thead>\n",
       "  <tbody>\n",
       "    <tr>\n",
       "      <th>0</th>\n",
       "      <td>United States</td>\n",
       "      <td>52927.293518</td>\n",
       "      <td>7.729628e+05</td>\n",
       "    </tr>\n",
       "    <tr>\n",
       "      <th>1</th>\n",
       "      <td>Other</td>\n",
       "      <td>9650.894115</td>\n",
       "      <td>2.471626e+05</td>\n",
       "    </tr>\n",
       "    <tr>\n",
       "      <th>2</th>\n",
       "      <td>Brazil</td>\n",
       "      <td>7300.000000</td>\n",
       "      <td>7.300000e+03</td>\n",
       "    </tr>\n",
       "    <tr>\n",
       "      <th>3</th>\n",
       "      <td>Finland</td>\n",
       "      <td>3975.997829</td>\n",
       "      <td>1.593531e+04</td>\n",
       "    </tr>\n",
       "    <tr>\n",
       "      <th>4</th>\n",
       "      <td>Germany</td>\n",
       "      <td>2767.704408</td>\n",
       "      <td>2.121862e+04</td>\n",
       "    </tr>\n",
       "    <tr>\n",
       "      <th>5</th>\n",
       "      <td>Sweden</td>\n",
       "      <td>2450.999502</td>\n",
       "      <td>2.691000e+03</td>\n",
       "    </tr>\n",
       "    <tr>\n",
       "      <th>6</th>\n",
       "      <td>Denmark</td>\n",
       "      <td>2228.000000</td>\n",
       "      <td>2.763154e+06</td>\n",
       "    </tr>\n",
       "    <tr>\n",
       "      <th>7</th>\n",
       "      <td>Australia</td>\n",
       "      <td>1409.999784</td>\n",
       "      <td>1.503062e+04</td>\n",
       "    </tr>\n",
       "    <tr>\n",
       "      <th>8</th>\n",
       "      <td>Norway</td>\n",
       "      <td>630.356496</td>\n",
       "      <td>6.353565e+02</td>\n",
       "    </tr>\n",
       "    <tr>\n",
       "      <th>9</th>\n",
       "      <td>United Kingdom</td>\n",
       "      <td>293.687635</td>\n",
       "      <td>2.011126e+06</td>\n",
       "    </tr>\n",
       "    <tr>\n",
       "      <th>10</th>\n",
       "      <td>France</td>\n",
       "      <td>280.932687</td>\n",
       "      <td>2.809327e+02</td>\n",
       "    </tr>\n",
       "    <tr>\n",
       "      <th>11</th>\n",
       "      <td>Canada</td>\n",
       "      <td>0.000000</td>\n",
       "      <td>4.690540e+05</td>\n",
       "    </tr>\n",
       "    <tr>\n",
       "      <th>12</th>\n",
       "      <td>India</td>\n",
       "      <td>0.000000</td>\n",
       "      <td>5.153300e+04</td>\n",
       "    </tr>\n",
       "    <tr>\n",
       "      <th>13</th>\n",
       "      <td>Switzerland</td>\n",
       "      <td>0.000000</td>\n",
       "      <td>1.326681e+05</td>\n",
       "    </tr>\n",
       "  </tbody>\n",
       "</table>\n",
       "</div>"
      ],
      "text/plain": [
       "   Supplier Origin  Tons Delivered  Tons Purchased\n",
       "0    United States    52927.293518    7.729628e+05\n",
       "1            Other     9650.894115    2.471626e+05\n",
       "2           Brazil     7300.000000    7.300000e+03\n",
       "3          Finland     3975.997829    1.593531e+04\n",
       "4          Germany     2767.704408    2.121862e+04\n",
       "5           Sweden     2450.999502    2.691000e+03\n",
       "6          Denmark     2228.000000    2.763154e+06\n",
       "7        Australia     1409.999784    1.503062e+04\n",
       "8           Norway      630.356496    6.353565e+02\n",
       "9   United Kingdom      293.687635    2.011126e+06\n",
       "10          France      280.932687    2.809327e+02\n",
       "11          Canada        0.000000    4.690540e+05\n",
       "12           India        0.000000    5.153300e+04\n",
       "13     Switzerland        0.000000    1.326681e+05"
      ]
     },
     "execution_count": 53,
     "metadata": {},
     "output_type": "execute_result"
    }
   ],
   "source": [
    "og = cdr_fyi.groupby([\"Supplier Origin\"]).sum(\"Tons Delivered\").sort_values(\"Tons Delivered\", ascending=False)\n",
    "og = og[[\"Tons Delivered\", \"Tons Purchased\"]].reset_index()\n",
    "og"
   ]
  },
  {
   "cell_type": "code",
   "execution_count": 54,
   "metadata": {},
   "outputs": [
    {
     "name": "stdout",
     "output_type": "stream",
     "text": [
      "6510752.057601096\n",
      "6510752.057601096\n",
      "83915.8659733552\n",
      "83915.8659733552\n"
     ]
    }
   ],
   "source": [
    "print(og[\"Tons Purchased\"].sum()) \n",
    "print(cdr_fyi['Tons Purchased'].sum())\n",
    "\n",
    "print(og[\"Tons Delivered\"].sum()) \n",
    "print(cdr_fyi['Tons Delivered'].sum())"
   ]
  },
  {
   "cell_type": "code",
   "execution_count": 55,
   "metadata": {},
   "outputs": [
    {
     "data": {
      "text/html": [
       "<div>\n",
       "<style scoped>\n",
       "    .dataframe tbody tr th:only-of-type {\n",
       "        vertical-align: middle;\n",
       "    }\n",
       "\n",
       "    .dataframe tbody tr th {\n",
       "        vertical-align: top;\n",
       "    }\n",
       "\n",
       "    .dataframe thead th {\n",
       "        text-align: right;\n",
       "    }\n",
       "</style>\n",
       "<table border=\"1\" class=\"dataframe\">\n",
       "  <thead>\n",
       "    <tr style=\"text-align: right;\">\n",
       "      <th></th>\n",
       "      <th>Supplier</th>\n",
       "      <th>Tons Delivered</th>\n",
       "      <th>Tons Purchased</th>\n",
       "      <th>Supplier Origin</th>\n",
       "    </tr>\n",
       "  </thead>\n",
       "  <tbody>\n",
       "    <tr>\n",
       "      <th>0</th>\n",
       "      <td>Wakefield Biochar</td>\n",
       "      <td>20934.000000</td>\n",
       "      <td>34450.000000</td>\n",
       "      <td>United States</td>\n",
       "    </tr>\n",
       "    <tr>\n",
       "      <th>1</th>\n",
       "      <td>Douglas County Forest Products</td>\n",
       "      <td>11403.001295</td>\n",
       "      <td>13148.001295</td>\n",
       "      <td>United States</td>\n",
       "    </tr>\n",
       "    <tr>\n",
       "      <th>2</th>\n",
       "      <td>Aggregate Supplier (Marketplace Report)</td>\n",
       "      <td>8881.890000</td>\n",
       "      <td>203010.890000</td>\n",
       "      <td>Other</td>\n",
       "    </tr>\n",
       "    <tr>\n",
       "      <th>3</th>\n",
       "      <td>Aperam BioEnergia</td>\n",
       "      <td>7300.000000</td>\n",
       "      <td>7300.000000</td>\n",
       "      <td>Brazil</td>\n",
       "    </tr>\n",
       "    <tr>\n",
       "      <th>4</th>\n",
       "      <td>Freres Biochar</td>\n",
       "      <td>7092.996923</td>\n",
       "      <td>15655.104173</td>\n",
       "      <td>United States</td>\n",
       "    </tr>\n",
       "    <tr>\n",
       "      <th>5</th>\n",
       "      <td>Charm Industrial</td>\n",
       "      <td>6116.324400</td>\n",
       "      <td>162248.695000</td>\n",
       "      <td>United States</td>\n",
       "    </tr>\n",
       "    <tr>\n",
       "      <th>6</th>\n",
       "      <td>Oregon Biochar Solutions</td>\n",
       "      <td>4098.997384</td>\n",
       "      <td>6506.182384</td>\n",
       "      <td>United States</td>\n",
       "    </tr>\n",
       "    <tr>\n",
       "      <th>7</th>\n",
       "      <td>Carbofex</td>\n",
       "      <td>3975.997829</td>\n",
       "      <td>8047.308829</td>\n",
       "      <td>Finland</td>\n",
       "    </tr>\n",
       "    <tr>\n",
       "      <th>8</th>\n",
       "      <td>GreenSand</td>\n",
       "      <td>2228.000000</td>\n",
       "      <td>3154.000000</td>\n",
       "      <td>Denmark</td>\n",
       "    </tr>\n",
       "    <tr>\n",
       "      <th>9</th>\n",
       "      <td>NovoCarbo</td>\n",
       "      <td>1986.809946</td>\n",
       "      <td>1986.809855</td>\n",
       "      <td>Germany</td>\n",
       "    </tr>\n",
       "    <tr>\n",
       "      <th>10</th>\n",
       "      <td>Carbon Cycle</td>\n",
       "      <td>1781.973515</td>\n",
       "      <td>3345.754700</td>\n",
       "      <td>United States</td>\n",
       "    </tr>\n",
       "    <tr>\n",
       "      <th>11</th>\n",
       "      <td>Pacific Biochar</td>\n",
       "      <td>1500.000000</td>\n",
       "      <td>2771.107250</td>\n",
       "      <td>United States</td>\n",
       "    </tr>\n",
       "    <tr>\n",
       "      <th>12</th>\n",
       "      <td>Echo2</td>\n",
       "      <td>1409.999784</td>\n",
       "      <td>6498.621784</td>\n",
       "      <td>Australia</td>\n",
       "    </tr>\n",
       "    <tr>\n",
       "      <th>13</th>\n",
       "      <td>Bussme</td>\n",
       "      <td>909.000217</td>\n",
       "      <td>909.000217</td>\n",
       "      <td>Sweden</td>\n",
       "    </tr>\n",
       "    <tr>\n",
       "      <th>14</th>\n",
       "      <td>Ecoera</td>\n",
       "      <td>891.999739</td>\n",
       "      <td>1077.999739</td>\n",
       "      <td>Sweden</td>\n",
       "    </tr>\n",
       "    <tr>\n",
       "      <th>15</th>\n",
       "      <td>Nordgau</td>\n",
       "      <td>780.894462</td>\n",
       "      <td>859.999695</td>\n",
       "      <td>Germany</td>\n",
       "    </tr>\n",
       "    <tr>\n",
       "      <th>16</th>\n",
       "      <td>Hjelmsäters Egendom</td>\n",
       "      <td>649.999546</td>\n",
       "      <td>703.999546</td>\n",
       "      <td>Sweden</td>\n",
       "    </tr>\n",
       "    <tr>\n",
       "      <th>17</th>\n",
       "      <td>Oplandske Bio, Rudshøgda</td>\n",
       "      <td>630.356496</td>\n",
       "      <td>635.356496</td>\n",
       "      <td>Norway</td>\n",
       "    </tr>\n",
       "    <tr>\n",
       "      <th>18</th>\n",
       "      <td>Terra Fertilis</td>\n",
       "      <td>280.932687</td>\n",
       "      <td>280.932687</td>\n",
       "      <td>France</td>\n",
       "    </tr>\n",
       "    <tr>\n",
       "      <th>19</th>\n",
       "      <td>Premier Forest</td>\n",
       "      <td>206.687635</td>\n",
       "      <td>206.687635</td>\n",
       "      <td>United Kingdom</td>\n",
       "    </tr>\n",
       "    <tr>\n",
       "      <th>20</th>\n",
       "      <td>Planboo</td>\n",
       "      <td>200.000000</td>\n",
       "      <td>200.000000</td>\n",
       "      <td>Other</td>\n",
       "    </tr>\n",
       "    <tr>\n",
       "      <th>21</th>\n",
       "      <td>Netzero</td>\n",
       "      <td>184.000000</td>\n",
       "      <td>184.000000</td>\n",
       "      <td>Other</td>\n",
       "    </tr>\n",
       "    <tr>\n",
       "      <th>22</th>\n",
       "      <td>V-Grid Energy Systems</td>\n",
       "      <td>171.000000</td>\n",
       "      <td>411.000000</td>\n",
       "      <td>Other</td>\n",
       "    </tr>\n",
       "    <tr>\n",
       "      <th>23</th>\n",
       "      <td>Karbon Capture</td>\n",
       "      <td>104.000000</td>\n",
       "      <td>104.000000</td>\n",
       "      <td>Other</td>\n",
       "    </tr>\n",
       "    <tr>\n",
       "      <th>24</th>\n",
       "      <td>UNDO</td>\n",
       "      <td>87.000000</td>\n",
       "      <td>8919.000000</td>\n",
       "      <td>United Kingdom</td>\n",
       "    </tr>\n",
       "    <tr>\n",
       "      <th>25</th>\n",
       "      <td>Emergent Waste Solution</td>\n",
       "      <td>50.000000</td>\n",
       "      <td>50.000000</td>\n",
       "      <td>Other</td>\n",
       "    </tr>\n",
       "    <tr>\n",
       "      <th>26</th>\n",
       "      <td>Jeffries Group</td>\n",
       "      <td>29.004115</td>\n",
       "      <td>29.004115</td>\n",
       "      <td>Other</td>\n",
       "    </tr>\n",
       "    <tr>\n",
       "      <th>27</th>\n",
       "      <td>Gekka Biochar</td>\n",
       "      <td>17.000000</td>\n",
       "      <td>17.000000</td>\n",
       "      <td>Other</td>\n",
       "    </tr>\n",
       "    <tr>\n",
       "      <th>28</th>\n",
       "      <td>Pyrocal</td>\n",
       "      <td>14.000000</td>\n",
       "      <td>14.000000</td>\n",
       "      <td>Other</td>\n",
       "    </tr>\n",
       "  </tbody>\n",
       "</table>\n",
       "</div>"
      ],
      "text/plain": [
       "                                   Supplier  Tons Delivered  Tons Purchased   \n",
       "0                         Wakefield Biochar    20934.000000    34450.000000  \\\n",
       "1            Douglas County Forest Products    11403.001295    13148.001295   \n",
       "2   Aggregate Supplier (Marketplace Report)     8881.890000   203010.890000   \n",
       "3                         Aperam BioEnergia     7300.000000     7300.000000   \n",
       "4                            Freres Biochar     7092.996923    15655.104173   \n",
       "5                          Charm Industrial     6116.324400   162248.695000   \n",
       "6                 Oregon Biochar Solutions      4098.997384     6506.182384   \n",
       "7                                  Carbofex     3975.997829     8047.308829   \n",
       "8                                 GreenSand     2228.000000     3154.000000   \n",
       "9                                 NovoCarbo     1986.809946     1986.809855   \n",
       "10                             Carbon Cycle     1781.973515     3345.754700   \n",
       "11                          Pacific Biochar     1500.000000     2771.107250   \n",
       "12                                    Echo2     1409.999784     6498.621784   \n",
       "13                                   Bussme      909.000217      909.000217   \n",
       "14                                   Ecoera      891.999739     1077.999739   \n",
       "15                                  Nordgau      780.894462      859.999695   \n",
       "16                      Hjelmsäters Egendom      649.999546      703.999546   \n",
       "17                 Oplandske Bio, Rudshøgda      630.356496      635.356496   \n",
       "18                           Terra Fertilis      280.932687      280.932687   \n",
       "19                           Premier Forest      206.687635      206.687635   \n",
       "20                                  Planboo      200.000000      200.000000   \n",
       "21                                  Netzero      184.000000      184.000000   \n",
       "22                    V-Grid Energy Systems      171.000000      411.000000   \n",
       "23                           Karbon Capture      104.000000      104.000000   \n",
       "24                                     UNDO       87.000000     8919.000000   \n",
       "25                  Emergent Waste Solution       50.000000       50.000000   \n",
       "26                           Jeffries Group       29.004115       29.004115   \n",
       "27                            Gekka Biochar       17.000000       17.000000   \n",
       "28                                  Pyrocal       14.000000       14.000000   \n",
       "\n",
       "   Supplier Origin  \n",
       "0    United States  \n",
       "1    United States  \n",
       "2            Other  \n",
       "3           Brazil  \n",
       "4    United States  \n",
       "5    United States  \n",
       "6    United States  \n",
       "7          Finland  \n",
       "8          Denmark  \n",
       "9          Germany  \n",
       "10   United States  \n",
       "11   United States  \n",
       "12       Australia  \n",
       "13          Sweden  \n",
       "14          Sweden  \n",
       "15         Germany  \n",
       "16          Sweden  \n",
       "17          Norway  \n",
       "18          France  \n",
       "19  United Kingdom  \n",
       "20           Other  \n",
       "21           Other  \n",
       "22           Other  \n",
       "23           Other  \n",
       "24  United Kingdom  \n",
       "25           Other  \n",
       "26           Other  \n",
       "27           Other  \n",
       "28           Other  "
      ]
     },
     "execution_count": 55,
     "metadata": {},
     "output_type": "execute_result"
    }
   ],
   "source": [
    "deliverd_all = cdr_fyi.groupby([\"Supplier\"]).sum(\"Tons Delivered\").sort_values(\"Tons Delivered\", ascending=False)\n",
    "deliverd_all.reset_index(inplace=True)\n",
    "deliverd_all['Supplier Origin'] = deliverd_all['Supplier'].map(supplier_dict)\n",
    "deliverd_all[deliverd_all[\"Tons Delivered\"] > 0][[\"Supplier\", \"Tons Delivered\", \"Tons Purchased\", \"Supplier Origin\"]]"
   ]
  },
  {
   "cell_type": "code",
   "execution_count": 56,
   "metadata": {},
   "outputs": [
    {
     "data": {
      "text/html": [
       "<div>\n",
       "<style scoped>\n",
       "    .dataframe tbody tr th:only-of-type {\n",
       "        vertical-align: middle;\n",
       "    }\n",
       "\n",
       "    .dataframe tbody tr th {\n",
       "        vertical-align: top;\n",
       "    }\n",
       "\n",
       "    .dataframe thead th {\n",
       "        text-align: right;\n",
       "    }\n",
       "</style>\n",
       "<table border=\"1\" class=\"dataframe\">\n",
       "  <thead>\n",
       "    <tr style=\"text-align: right;\">\n",
       "      <th></th>\n",
       "      <th>Supplier</th>\n",
       "      <th>Supplier Origin</th>\n",
       "    </tr>\n",
       "  </thead>\n",
       "  <tbody>\n",
       "    <tr>\n",
       "      <th>0</th>\n",
       "      <td>Charm Industrial</td>\n",
       "      <td>United States</td>\n",
       "    </tr>\n",
       "    <tr>\n",
       "      <th>1</th>\n",
       "      <td>Bussme</td>\n",
       "      <td>Sweden</td>\n",
       "    </tr>\n",
       "    <tr>\n",
       "      <th>2</th>\n",
       "      <td>Charm Industrial</td>\n",
       "      <td>United States</td>\n",
       "    </tr>\n",
       "    <tr>\n",
       "      <th>3</th>\n",
       "      <td>Hjelmsäters Egendom</td>\n",
       "      <td>Sweden</td>\n",
       "    </tr>\n",
       "    <tr>\n",
       "      <th>4</th>\n",
       "      <td>Freres Biochar</td>\n",
       "      <td>United States</td>\n",
       "    </tr>\n",
       "    <tr>\n",
       "      <th>...</th>\n",
       "      <td>...</td>\n",
       "      <td>...</td>\n",
       "    </tr>\n",
       "    <tr>\n",
       "      <th>982</th>\n",
       "      <td>NovoCarbo</td>\n",
       "      <td>Germany</td>\n",
       "    </tr>\n",
       "    <tr>\n",
       "      <th>983</th>\n",
       "      <td>Charm Industrial</td>\n",
       "      <td>United States</td>\n",
       "    </tr>\n",
       "    <tr>\n",
       "      <th>984</th>\n",
       "      <td>Oregon Biochar Solutions</td>\n",
       "      <td>United States</td>\n",
       "    </tr>\n",
       "    <tr>\n",
       "      <th>985</th>\n",
       "      <td>UNDO</td>\n",
       "      <td>United Kingdom</td>\n",
       "    </tr>\n",
       "    <tr>\n",
       "      <th>986</th>\n",
       "      <td>Charm Industrial</td>\n",
       "      <td>United States</td>\n",
       "    </tr>\n",
       "  </tbody>\n",
       "</table>\n",
       "<p>987 rows × 2 columns</p>\n",
       "</div>"
      ],
      "text/plain": [
       "                      Supplier Supplier Origin\n",
       "0             Charm Industrial   United States\n",
       "1                       Bussme          Sweden\n",
       "2             Charm Industrial   United States\n",
       "3          Hjelmsäters Egendom          Sweden\n",
       "4               Freres Biochar   United States\n",
       "..                         ...             ...\n",
       "982                  NovoCarbo         Germany\n",
       "983           Charm Industrial   United States\n",
       "984  Oregon Biochar Solutions    United States\n",
       "985                       UNDO  United Kingdom\n",
       "986           Charm Industrial   United States\n",
       "\n",
       "[987 rows x 2 columns]"
      ]
     },
     "execution_count": 56,
     "metadata": {},
     "output_type": "execute_result"
    }
   ],
   "source": [
    "cdr_fyi['Supplier Origin'] = cdr_fyi['Supplier'].map(supplier_dict)\n",
    "cdr_fyi[['Supplier', 'Supplier Origin']]"
   ]
  },
  {
   "attachments": {},
   "cell_type": "markdown",
   "metadata": {},
   "source": [
    "# Tons Delivered"
   ]
  },
  {
   "cell_type": "code",
   "execution_count": 57,
   "metadata": {},
   "outputs": [
    {
     "data": {
      "text/html": [
       "<div>\n",
       "<style scoped>\n",
       "    .dataframe tbody tr th:only-of-type {\n",
       "        vertical-align: middle;\n",
       "    }\n",
       "\n",
       "    .dataframe tbody tr th {\n",
       "        vertical-align: top;\n",
       "    }\n",
       "\n",
       "    .dataframe thead th {\n",
       "        text-align: right;\n",
       "    }\n",
       "</style>\n",
       "<table border=\"1\" class=\"dataframe\">\n",
       "  <thead>\n",
       "    <tr style=\"text-align: right;\">\n",
       "      <th></th>\n",
       "      <th>Supplier Origin</th>\n",
       "      <th>Tons Delivered</th>\n",
       "    </tr>\n",
       "  </thead>\n",
       "  <tbody>\n",
       "    <tr>\n",
       "      <th>0</th>\n",
       "      <td>United States</td>\n",
       "      <td>52927.293518</td>\n",
       "    </tr>\n",
       "    <tr>\n",
       "      <th>1</th>\n",
       "      <td>Other</td>\n",
       "      <td>9650.894115</td>\n",
       "    </tr>\n",
       "    <tr>\n",
       "      <th>2</th>\n",
       "      <td>Brazil</td>\n",
       "      <td>7300.000000</td>\n",
       "    </tr>\n",
       "    <tr>\n",
       "      <th>3</th>\n",
       "      <td>Finland</td>\n",
       "      <td>3975.997829</td>\n",
       "    </tr>\n",
       "    <tr>\n",
       "      <th>4</th>\n",
       "      <td>Germany</td>\n",
       "      <td>2767.704408</td>\n",
       "    </tr>\n",
       "    <tr>\n",
       "      <th>5</th>\n",
       "      <td>Sweden</td>\n",
       "      <td>2450.999502</td>\n",
       "    </tr>\n",
       "    <tr>\n",
       "      <th>6</th>\n",
       "      <td>Denmark</td>\n",
       "      <td>2228.000000</td>\n",
       "    </tr>\n",
       "    <tr>\n",
       "      <th>7</th>\n",
       "      <td>Australia</td>\n",
       "      <td>1409.999784</td>\n",
       "    </tr>\n",
       "    <tr>\n",
       "      <th>8</th>\n",
       "      <td>Norway</td>\n",
       "      <td>630.356496</td>\n",
       "    </tr>\n",
       "    <tr>\n",
       "      <th>9</th>\n",
       "      <td>United Kingdom</td>\n",
       "      <td>293.687635</td>\n",
       "    </tr>\n",
       "    <tr>\n",
       "      <th>10</th>\n",
       "      <td>France</td>\n",
       "      <td>280.932687</td>\n",
       "    </tr>\n",
       "    <tr>\n",
       "      <th>11</th>\n",
       "      <td>Canada</td>\n",
       "      <td>0.000000</td>\n",
       "    </tr>\n",
       "    <tr>\n",
       "      <th>12</th>\n",
       "      <td>India</td>\n",
       "      <td>0.000000</td>\n",
       "    </tr>\n",
       "    <tr>\n",
       "      <th>13</th>\n",
       "      <td>Switzerland</td>\n",
       "      <td>0.000000</td>\n",
       "    </tr>\n",
       "  </tbody>\n",
       "</table>\n",
       "</div>"
      ],
      "text/plain": [
       "   Supplier Origin  Tons Delivered\n",
       "0    United States    52927.293518\n",
       "1            Other     9650.894115\n",
       "2           Brazil     7300.000000\n",
       "3          Finland     3975.997829\n",
       "4          Germany     2767.704408\n",
       "5           Sweden     2450.999502\n",
       "6          Denmark     2228.000000\n",
       "7        Australia     1409.999784\n",
       "8           Norway      630.356496\n",
       "9   United Kingdom      293.687635\n",
       "10          France      280.932687\n",
       "11          Canada        0.000000\n",
       "12           India        0.000000\n",
       "13     Switzerland        0.000000"
      ]
     },
     "execution_count": 57,
     "metadata": {},
     "output_type": "execute_result"
    }
   ],
   "source": [
    "ogd = og.sort_values(\"Tons Delivered\", ascending=False)[[\"Supplier Origin\", \"Tons Delivered\"]]\n",
    "ogd"
   ]
  },
  {
   "cell_type": "code",
   "execution_count": 58,
   "metadata": {},
   "outputs": [],
   "source": [
    "# drop the rows equal to zero\n",
    "ogd = ogd[ogd[\"Tons Delivered\"] != 0]"
   ]
  },
  {
   "cell_type": "code",
   "execution_count": 59,
   "metadata": {},
   "outputs": [
    {
     "name": "stderr",
     "output_type": "stream",
     "text": [
      "C:\\Users\\ffr\\AppData\\Local\\Temp\\ipykernel_23772\\961564606.py:3: SettingWithCopyWarning:\n",
      "\n",
      "\n",
      "A value is trying to be set on a copy of a slice from a DataFrame.\n",
      "Try using .loc[row_indexer,col_indexer] = value instead\n",
      "\n",
      "See the caveats in the documentation: https://pandas.pydata.org/pandas-docs/stable/user_guide/indexing.html#returning-a-view-versus-a-copy\n",
      "\n"
     ]
    },
    {
     "data": {
      "text/plain": [
       "(array([ 0,  1,  2,  3,  4,  5,  6,  7,  8,  9, 10]),\n",
       " [Text(0, 0, 'United States'),\n",
       "  Text(1, 0, 'Other'),\n",
       "  Text(2, 0, 'Brazil'),\n",
       "  Text(3, 0, 'Finland'),\n",
       "  Text(4, 0, 'Germany'),\n",
       "  Text(5, 0, 'Sweden'),\n",
       "  Text(6, 0, 'Denmark'),\n",
       "  Text(7, 0, 'Australia'),\n",
       "  Text(8, 0, 'Norway'),\n",
       "  Text(9, 0, 'United Kingdom'),\n",
       "  Text(10, 0, 'France')])"
      ]
     },
     "execution_count": 59,
     "metadata": {},
     "output_type": "execute_result"
    },
    {
     "data": {
      "image/png": "[encoded data removed]",
      "text/plain": [
       "<Figure size 1000x600 with 1 Axes>"
      ]
     },
     "metadata": {},
     "output_type": "display_data"
    }
   ],
   "source": [
    "from matplotlib.ticker import FuncFormatter\n",
    "\n",
    "ogd['Percentage'] = (ogd['Tons Delivered'] / ogd['Tons Delivered'].sum()) * 100\n",
    "\n",
    "plt.figure(figsize=(10, 6))\n",
    "barplot = sns.barplot(x='Supplier Origin', y='Tons Delivered', data=ogd, color='grey')\n",
    "    \n",
    "\n",
    "for i, p in enumerate(barplot.patches):\n",
    "    height = p.get_height()\n",
    "    barplot.text(p.get_x()+p.get_width()/2.,\n",
    "            height + 800,\n",
    "            '{:1.2f}%'.format(ogd['Percentage'][i]),\n",
    "            ha=\"center\")\n",
    "    \n",
    "barplot.set_ylabel('Tons of CO2e Delivered')\n",
    "    \n",
    "\n",
    "y_labels = barplot.get_yticks()\n",
    "barplot.yaxis.set_major_formatter(FuncFormatter(lambda x, _: '{:,.0f}'.format(x)))\n",
    "    \n",
    "plt.xticks(rotation=20)"
   ]
  },
  {
   "cell_type": "code",
   "execution_count": 60,
   "metadata": {},
   "outputs": [
    {
     "name": "stderr",
     "output_type": "stream",
     "text": [
      "C:\\Users\\ffr\\AppData\\Local\\Temp\\ipykernel_23772\\3301153232.py:4: SettingWithCopyWarning:\n",
      "\n",
      "\n",
      "A value is trying to be set on a copy of a slice from a DataFrame.\n",
      "Try using .loc[row_indexer,col_indexer] = value instead\n",
      "\n",
      "See the caveats in the documentation: https://pandas.pydata.org/pandas-docs/stable/user_guide/indexing.html#returning-a-view-versus-a-copy\n",
      "\n"
     ]
    },
    {
     "data": {
      "application/vnd.plotly.v1+json": {
       "config": {
        "plotlyServerURL": "https://plot.ly"
       },
       "data": [
        {
         "marker": {
          "color": "grey"
         },
         "text": [
          "63.07%",
          "11.50%",
          "8.70%",
          "4.74%",
          "3.30%",
          "2.92%",
          "2.66%",
          "1.68%",
          "0.75%",
          "0.35%",
          "0.33%"
         ],
         "textposition": "outside",
         "type": "bar",
         "x": [
          "United States",
          "Other",
          "Brazil",
          "Finland",
          "Germany",
          "Sweden",
          "Denmark",
          "Australia",
          "Norway",
          "United Kingdom",
          "France"
         ],
         "y": [
          52927.2935175514,
          9650.8941151,
          7300,
          3975.997829169,
          2767.704407645,
          2450.9995017404,
          2228,
          1409.9997835104,
          630.35649609,
          293.68763527,
          280.93268727900005
         ]
        }
       ],
       "layout": {
        "autosize": false,
        "height": 600,
        "template": {
         "data": {
          "bar": [
           {
            "error_x": {
             "color": "#2a3f5f"
            },
            "error_y": {
             "color": "#2a3f5f"
            },
            "marker": {
             "line": {
              "color": "#E5ECF6",
              "width": 0.5
             },
             "pattern": {
              "fillmode": "overlay",
              "size": 10,
              "solidity": 0.2
             }
            },
            "type": "bar"
           }
          ],
          "barpolar": [
           {
            "marker": {
             "line": {
              "color": "#E5ECF6",
              "width": 0.5
             },
             "pattern": {
              "fillmode": "overlay",
              "size": 10,
              "solidity": 0.2
             }
            },
            "type": "barpolar"
           }
          ],
          "carpet": [
           {
            "aaxis": {
             "endlinecolor": "#2a3f5f",
             "gridcolor": "white",
             "linecolor": "white",
             "minorgridcolor": "white",
             "startlinecolor": "#2a3f5f"
            },
            "baxis": {
             "endlinecolor": "#2a3f5f",
             "gridcolor": "white",
             "linecolor": "white",
             "minorgridcolor": "white",
             "startlinecolor": "#2a3f5f"
            },
            "type": "carpet"
           }
          ],
          "choropleth": [
           {
            "colorbar": {
             "outlinewidth": 0,
             "ticks": ""
            },
            "type": "choropleth"
           }
          ],
          "contour": [
           {
            "colorbar": {
             "outlinewidth": 0,
             "ticks": ""
            },
            "colorscale": [
             [
              0,
              "#0d0887"
             ],
             [
              0.1111111111111111,
              "#46039f"
             ],
             [
              0.2222222222222222,
              "#7201a8"
             ],
             [
              0.3333333333333333,
              "#9c179e"
             ],
             [
              0.4444444444444444,
              "#bd3786"
             ],
             [
              0.5555555555555556,
              "#d8576b"
             ],
             [
              0.6666666666666666,
              "#ed7953"
             ],
             [
              0.7777777777777778,
              "#fb9f3a"
             ],
             [
              0.8888888888888888,
              "#fdca26"
             ],
             [
              1,
              "#f0f921"
             ]
            ],
            "type": "contour"
           }
          ],
          "contourcarpet": [
           {
            "colorbar": {
             "outlinewidth": 0,
             "ticks": ""
            },
            "type": "contourcarpet"
           }
          ],
          "heatmap": [
           {
            "colorbar": {
             "outlinewidth": 0,
             "ticks": ""
            },
            "colorscale": [
             [
              0,
              "#0d0887"
             ],
             [
              0.1111111111111111,
              "#46039f"
             ],
             [
              0.2222222222222222,
              "#7201a8"
             ],
             [
              0.3333333333333333,
              "#9c179e"
             ],
             [
              0.4444444444444444,
              "#bd3786"
             ],
             [
              0.5555555555555556,
              "#d8576b"
             ],
             [
              0.6666666666666666,
              "#ed7953"
             ],
             [
              0.7777777777777778,
              "#fb9f3a"
             ],
             [
              0.8888888888888888,
              "#fdca26"
             ],
             [
              1,
              "#f0f921"
             ]
            ],
            "type": "heatmap"
           }
          ],
          "heatmapgl": [
           {
            "colorbar": {
             "outlinewidth": 0,
             "ticks": ""
            },
            "colorscale": [
             [
              0,
              "#0d0887"
             ],
             [
              0.1111111111111111,
              "#46039f"
             ],
             [
              0.2222222222222222,
              "#7201a8"
             ],
             [
              0.3333333333333333,
              "#9c179e"
             ],
             [
              0.4444444444444444,
              "#bd3786"
             ],
             [
              0.5555555555555556,
              "#d8576b"
             ],
             [
              0.6666666666666666,
              "#ed7953"
             ],
             [
              0.7777777777777778,
              "#fb9f3a"
             ],
             [
              0.8888888888888888,
              "#fdca26"
             ],
             [
              1,
              "#f0f921"
             ]
            ],
            "type": "heatmapgl"
           }
          ],
          "histogram": [
           {
            "marker": {
             "pattern": {
              "fillmode": "overlay",
              "size": 10,
              "solidity": 0.2
             }
            },
            "type": "histogram"
           }
          ],
          "histogram2d": [
           {
            "colorbar": {
             "outlinewidth": 0,
             "ticks": ""
            },
            "colorscale": [
             [
              0,
              "#0d0887"
             ],
             [
              0.1111111111111111,
              "#46039f"
             ],
             [
              0.2222222222222222,
              "#7201a8"
             ],
             [
              0.3333333333333333,
              "#9c179e"
             ],
             [
              0.4444444444444444,
              "#bd3786"
             ],
             [
              0.5555555555555556,
              "#d8576b"
             ],
             [
              0.6666666666666666,
              "#ed7953"
             ],
             [
              0.7777777777777778,
              "#fb9f3a"
             ],
             [
              0.8888888888888888,
              "#fdca26"
             ],
             [
              1,
              "#f0f921"
             ]
            ],
            "type": "histogram2d"
           }
          ],
          "histogram2dcontour": [
           {
            "colorbar": {
             "outlinewidth": 0,
             "ticks": ""
            },
            "colorscale": [
             [
              0,
              "#0d0887"
             ],
             [
              0.1111111111111111,
              "#46039f"
             ],
             [
              0.2222222222222222,
              "#7201a8"
             ],
             [
              0.3333333333333333,
              "#9c179e"
             ],
             [
              0.4444444444444444,
              "#bd3786"
             ],
             [
              0.5555555555555556,
              "#d8576b"
             ],
             [
              0.6666666666666666,
              "#ed7953"
             ],
             [
              0.7777777777777778,
              "#fb9f3a"
             ],
             [
              0.8888888888888888,
              "#fdca26"
             ],
             [
              1,
              "#f0f921"
             ]
            ],
            "type": "histogram2dcontour"
           }
          ],
          "mesh3d": [
           {
            "colorbar": {
             "outlinewidth": 0,
             "ticks": ""
            },
            "type": "mesh3d"
           }
          ],
          "parcoords": [
           {
            "line": {
             "colorbar": {
              "outlinewidth": 0,
              "ticks": ""
             }
            },
            "type": "parcoords"
           }
          ],
          "pie": [
           {
            "automargin": true,
            "type": "pie"
           }
          ],
          "scatter": [
           {
            "fillpattern": {
             "fillmode": "overlay",
             "size": 10,
             "solidity": 0.2
            },
            "type": "scatter"
           }
          ],
          "scatter3d": [
           {
            "line": {
             "colorbar": {
              "outlinewidth": 0,
              "ticks": ""
             }
            },
            "marker": {
             "colorbar": {
              "outlinewidth": 0,
              "ticks": ""
             }
            },
            "type": "scatter3d"
           }
          ],
          "scattercarpet": [
           {
            "marker": {
             "colorbar": {
              "outlinewidth": 0,
              "ticks": ""
             }
            },
            "type": "scattercarpet"
           }
          ],
          "scattergeo": [
           {
            "marker": {
             "colorbar": {
              "outlinewidth": 0,
              "ticks": ""
             }
            },
            "type": "scattergeo"
           }
          ],
          "scattergl": [
           {
            "marker": {
             "colorbar": {
              "outlinewidth": 0,
              "ticks": ""
             }
            },
            "type": "scattergl"
           }
          ],
          "scattermapbox": [
           {
            "marker": {
             "colorbar": {
              "outlinewidth": 0,
              "ticks": ""
             }
            },
            "type": "scattermapbox"
           }
          ],
          "scatterpolar": [
           {
            "marker": {
             "colorbar": {
              "outlinewidth": 0,
              "ticks": ""
             }
            },
            "type": "scatterpolar"
           }
          ],
          "scatterpolargl": [
           {
            "marker": {
             "colorbar": {
              "outlinewidth": 0,
              "ticks": ""
             }
            },
            "type": "scatterpolargl"
           }
          ],
          "scatterternary": [
           {
            "marker": {
             "colorbar": {
              "outlinewidth": 0,
              "ticks": ""
             }
            },
            "type": "scatterternary"
           }
          ],
          "surface": [
           {
            "colorbar": {
             "outlinewidth": 0,
             "ticks": ""
            },
            "colorscale": [
             [
              0,
              "#0d0887"
             ],
             [
              0.1111111111111111,
              "#46039f"
             ],
             [
              0.2222222222222222,
              "#7201a8"
             ],
             [
              0.3333333333333333,
              "#9c179e"
             ],
             [
              0.4444444444444444,
              "#bd3786"
             ],
             [
              0.5555555555555556,
              "#d8576b"
             ],
             [
              0.6666666666666666,
              "#ed7953"
             ],
             [
              0.7777777777777778,
              "#fb9f3a"
             ],
             [
              0.8888888888888888,
              "#fdca26"
             ],
             [
              1,
              "#f0f921"
             ]
            ],
            "type": "surface"
           }
          ],
          "table": [
           {
            "cells": {
             "fill": {
              "color": "#EBF0F8"
             },
             "line": {
              "color": "white"
             }
            },
            "header": {
             "fill": {
              "color": "#C8D4E3"
             },
             "line": {
              "color": "white"
             }
            },
            "type": "table"
           }
          ]
         },
         "layout": {
          "annotationdefaults": {
           "arrowcolor": "#2a3f5f",
           "arrowhead": 0,
           "arrowwidth": 1
          },
          "autotypenumbers": "strict",
          "coloraxis": {
           "colorbar": {
            "outlinewidth": 0,
            "ticks": ""
           }
          },
          "colorscale": {
           "diverging": [
            [
             0,
             "#8e0152"
            ],
            [
             0.1,
             "#c51b7d"
            ],
            [
             0.2,
             "#de77ae"
            ],
            [
             0.3,
             "#f1b6da"
            ],
            [
             0.4,
             "#fde0ef"
            ],
            [
             0.5,
             "#f7f7f7"
            ],
            [
             0.6,
             "#e6f5d0"
            ],
            [
             0.7,
             "#b8e186"
            ],
            [
             0.8,
             "#7fbc41"
            ],
            [
             0.9,
             "#4d9221"
            ],
            [
             1,
             "#276419"
            ]
           ],
           "sequential": [
            [
             0,
             "#0d0887"
            ],
            [
             0.1111111111111111,
             "#46039f"
            ],
            [
             0.2222222222222222,
             "#7201a8"
            ],
            [
             0.3333333333333333,
             "#9c179e"
            ],
            [
             0.4444444444444444,
             "#bd3786"
            ],
            [
             0.5555555555555556,
             "#d8576b"
            ],
            [
             0.6666666666666666,
             "#ed7953"
            ],
            [
             0.7777777777777778,
             "#fb9f3a"
            ],
            [
             0.8888888888888888,
             "#fdca26"
            ],
            [
             1,
             "#f0f921"
            ]
           ],
           "sequentialminus": [
            [
             0,
             "#0d0887"
            ],
            [
             0.1111111111111111,
             "#46039f"
            ],
            [
             0.2222222222222222,
             "#7201a8"
            ],
            [
             0.3333333333333333,
             "#9c179e"
            ],
            [
             0.4444444444444444,
             "#bd3786"
            ],
            [
             0.5555555555555556,
             "#d8576b"
            ],
            [
             0.6666666666666666,
             "#ed7953"
            ],
            [
             0.7777777777777778,
             "#fb9f3a"
            ],
            [
             0.8888888888888888,
             "#fdca26"
            ],
            [
             1,
             "#f0f921"
            ]
           ]
          },
          "colorway": [
           "#636efa",
           "#EF553B",
           "#00cc96",
           "#ab63fa",
           "#FFA15A",
           "#19d3f3",
           "#FF6692",
           "#B6E880",
           "#FF97FF",
           "#FECB52"
          ],
          "font": {
           "color": "#2a3f5f"
          },
          "geo": {
           "bgcolor": "white",
           "lakecolor": "white",
           "landcolor": "#E5ECF6",
           "showlakes": true,
           "showland": true,
           "subunitcolor": "white"
          },
          "hoverlabel": {
           "align": "left"
          },
          "hovermode": "closest",
          "mapbox": {
           "style": "light"
          },
          "paper_bgcolor": "white",
          "plot_bgcolor": "#E5ECF6",
          "polar": {
           "angularaxis": {
            "gridcolor": "white",
            "linecolor": "white",
            "ticks": ""
           },
           "bgcolor": "#E5ECF6",
           "radialaxis": {
            "gridcolor": "white",
            "linecolor": "white",
            "ticks": ""
           }
          },
          "scene": {
           "xaxis": {
            "backgroundcolor": "#E5ECF6",
            "gridcolor": "white",
            "gridwidth": 2,
            "linecolor": "white",
            "showbackground": true,
            "ticks": "",
            "zerolinecolor": "white"
           },
           "yaxis": {
            "backgroundcolor": "#E5ECF6",
            "gridcolor": "white",
            "gridwidth": 2,
            "linecolor": "white",
            "showbackground": true,
            "ticks": "",
            "zerolinecolor": "white"
           },
           "zaxis": {
            "backgroundcolor": "#E5ECF6",
            "gridcolor": "white",
            "gridwidth": 2,
            "linecolor": "white",
            "showbackground": true,
            "ticks": "",
            "zerolinecolor": "white"
           }
          },
          "shapedefaults": {
           "line": {
            "color": "#2a3f5f"
           }
          },
          "ternary": {
           "aaxis": {
            "gridcolor": "white",
            "linecolor": "white",
            "ticks": ""
           },
           "baxis": {
            "gridcolor": "white",
            "linecolor": "white",
            "ticks": ""
           },
           "bgcolor": "#E5ECF6",
           "caxis": {
            "gridcolor": "white",
            "linecolor": "white",
            "ticks": ""
           }
          },
          "title": {
           "x": 0.05
          },
          "xaxis": {
           "automargin": true,
           "gridcolor": "white",
           "linecolor": "white",
           "ticks": "",
           "title": {
            "standoff": 15
           },
           "zerolinecolor": "white",
           "zerolinewidth": 2
          },
          "yaxis": {
           "automargin": true,
           "gridcolor": "white",
           "linecolor": "white",
           "ticks": "",
           "title": {
            "standoff": 15
           },
           "zerolinecolor": "white",
           "zerolinewidth": 2
          }
         }
        },
        "title": {
         "text": "Tons of Biochar CO2e Delivered per Country"
        },
        "width": 1000,
        "xaxis": {
         "tickangle": 20
        },
        "yaxis": {
         "tickformat": ",",
         "title": {
          "text": "Tons of CO2e Delivered"
         }
        }
       }
      }
     },
     "metadata": {},
     "output_type": "display_data"
    }
   ],
   "source": [
    "import plotly.graph_objects as go\n",
    "\n",
    "# Calculate percentages\n",
    "ogd['Percentage'] = (ogd['Tons Delivered'] / ogd['Tons Delivered'].sum()) * 100\n",
    "\n",
    "# Create bar chart\n",
    "fig = go.Figure(data=go.Bar(\n",
    "    x=ogd['Supplier Origin'], \n",
    "    y=ogd['Tons Delivered'], \n",
    "    text=ogd['Percentage'].round(2).apply(lambda x: '{:,.2f}%'.format(x)),  # Add percentage annotations\n",
    "    textposition='outside', \n",
    "    marker_color='grey'\n",
    "))\n",
    "\n",
    "# Set figure size, y-axis label, and y-axis tick format\n",
    "fig.update_layout(\n",
    "    autosize=False,\n",
    "    width=1000,\n",
    "    height=600,\n",
    "    yaxis=dict(\n",
    "        title_text=\"Tons of CO2e Delivered\",\n",
    "        tickformat=\",\",  # Add comma separators\n",
    "    ),\n",
    "    title=\"Tons of Biochar CO2e Delivered per Country\"\n",
    ")\n",
    "\n",
    "# Rotate x-axis labels\n",
    "fig.update_xaxes(tickangle=20)\n",
    "\n",
    "fig.show()"
   ]
  },
  {
   "cell_type": "code",
   "execution_count": 61,
   "metadata": {},
   "outputs": [
    {
     "name": "stderr",
     "output_type": "stream",
     "text": [
      "C:\\Users\\ffr\\AppData\\Local\\Temp\\ipykernel_23772\\372807995.py:2: SettingWithCopyWarning:\n",
      "\n",
      "\n",
      "A value is trying to be set on a copy of a slice from a DataFrame.\n",
      "Try using .loc[row_indexer,col_indexer] = value instead\n",
      "\n",
      "See the caveats in the documentation: https://pandas.pydata.org/pandas-docs/stable/user_guide/indexing.html#returning-a-view-versus-a-copy\n",
      "\n"
     ]
    },
    {
     "data": {
      "text/html": [
       "<div>\n",
       "<style scoped>\n",
       "    .dataframe tbody tr th:only-of-type {\n",
       "        vertical-align: middle;\n",
       "    }\n",
       "\n",
       "    .dataframe tbody tr th {\n",
       "        vertical-align: top;\n",
       "    }\n",
       "\n",
       "    .dataframe thead th {\n",
       "        text-align: right;\n",
       "    }\n",
       "</style>\n",
       "<table border=\"1\" class=\"dataframe\">\n",
       "  <thead>\n",
       "    <tr style=\"text-align: right;\">\n",
       "      <th></th>\n",
       "      <th>Supplier Origin</th>\n",
       "      <th>Tons Delivered</th>\n",
       "      <th>Percentage</th>\n",
       "      <th>percentage</th>\n",
       "    </tr>\n",
       "  </thead>\n",
       "  <tbody>\n",
       "    <tr>\n",
       "      <th>0</th>\n",
       "      <td>United States</td>\n",
       "      <td>52927.293518</td>\n",
       "      <td>63.071855</td>\n",
       "      <td>0.630719</td>\n",
       "    </tr>\n",
       "    <tr>\n",
       "      <th>1</th>\n",
       "      <td>Other</td>\n",
       "      <td>9650.894115</td>\n",
       "      <td>11.500679</td>\n",
       "      <td>0.115007</td>\n",
       "    </tr>\n",
       "    <tr>\n",
       "      <th>2</th>\n",
       "      <td>Brazil</td>\n",
       "      <td>7300.000000</td>\n",
       "      <td>8.699189</td>\n",
       "      <td>0.086992</td>\n",
       "    </tr>\n",
       "    <tr>\n",
       "      <th>3</th>\n",
       "      <td>Finland</td>\n",
       "      <td>3975.997829</td>\n",
       "      <td>4.738076</td>\n",
       "      <td>0.047381</td>\n",
       "    </tr>\n",
       "    <tr>\n",
       "      <th>4</th>\n",
       "      <td>Germany</td>\n",
       "      <td>2767.704408</td>\n",
       "      <td>3.298190</td>\n",
       "      <td>0.032982</td>\n",
       "    </tr>\n",
       "    <tr>\n",
       "      <th>5</th>\n",
       "      <td>Sweden</td>\n",
       "      <td>2450.999502</td>\n",
       "      <td>2.920782</td>\n",
       "      <td>0.029208</td>\n",
       "    </tr>\n",
       "    <tr>\n",
       "      <th>6</th>\n",
       "      <td>Denmark</td>\n",
       "      <td>2228.000000</td>\n",
       "      <td>2.655040</td>\n",
       "      <td>0.026550</td>\n",
       "    </tr>\n",
       "    <tr>\n",
       "      <th>7</th>\n",
       "      <td>Australia</td>\n",
       "      <td>1409.999784</td>\n",
       "      <td>1.680254</td>\n",
       "      <td>0.016803</td>\n",
       "    </tr>\n",
       "    <tr>\n",
       "      <th>8</th>\n",
       "      <td>Norway</td>\n",
       "      <td>630.356496</td>\n",
       "      <td>0.751177</td>\n",
       "      <td>0.007512</td>\n",
       "    </tr>\n",
       "    <tr>\n",
       "      <th>9</th>\n",
       "      <td>United Kingdom</td>\n",
       "      <td>293.687635</td>\n",
       "      <td>0.349979</td>\n",
       "      <td>0.003500</td>\n",
       "    </tr>\n",
       "    <tr>\n",
       "      <th>10</th>\n",
       "      <td>France</td>\n",
       "      <td>280.932687</td>\n",
       "      <td>0.334779</td>\n",
       "      <td>0.003348</td>\n",
       "    </tr>\n",
       "  </tbody>\n",
       "</table>\n",
       "</div>"
      ],
      "text/plain": [
       "   Supplier Origin  Tons Delivered  Percentage  percentage\n",
       "0    United States    52927.293518   63.071855    0.630719\n",
       "1            Other     9650.894115   11.500679    0.115007\n",
       "2           Brazil     7300.000000    8.699189    0.086992\n",
       "3          Finland     3975.997829    4.738076    0.047381\n",
       "4          Germany     2767.704408    3.298190    0.032982\n",
       "5           Sweden     2450.999502    2.920782    0.029208\n",
       "6          Denmark     2228.000000    2.655040    0.026550\n",
       "7        Australia     1409.999784    1.680254    0.016803\n",
       "8           Norway      630.356496    0.751177    0.007512\n",
       "9   United Kingdom      293.687635    0.349979    0.003500\n",
       "10          France      280.932687    0.334779    0.003348"
      ]
     },
     "execution_count": 61,
     "metadata": {},
     "output_type": "execute_result"
    }
   ],
   "source": [
    "# find the row where supplier origin is equal to \"Denmark\"\n",
    "ogd[\"percentage\"] = ogd[\"Tons Delivered\"] / ogd['Tons Delivered'].sum()\n",
    "ogd"
   ]
  },
  {
   "cell_type": "code",
   "execution_count": 62,
   "metadata": {},
   "outputs": [
    {
     "data": {
      "text/plain": [
       "83915.8659733552"
      ]
     },
     "execution_count": 62,
     "metadata": {},
     "output_type": "execute_result"
    }
   ],
   "source": [
    "ogd[\"Tons Delivered\"].sum()"
   ]
  },
  {
   "cell_type": "code",
   "execution_count": 63,
   "metadata": {},
   "outputs": [
    {
     "data": {
      "text/html": [
       "<div>\n",
       "<style scoped>\n",
       "    .dataframe tbody tr th:only-of-type {\n",
       "        vertical-align: middle;\n",
       "    }\n",
       "\n",
       "    .dataframe tbody tr th {\n",
       "        vertical-align: top;\n",
       "    }\n",
       "\n",
       "    .dataframe thead th {\n",
       "        text-align: right;\n",
       "    }\n",
       "</style>\n",
       "<table border=\"1\" class=\"dataframe\">\n",
       "  <thead>\n",
       "    <tr style=\"text-align: right;\">\n",
       "      <th></th>\n",
       "      <th>Supplier Origin</th>\n",
       "      <th>Tons Delivered</th>\n",
       "      <th>Tons Purchased</th>\n",
       "    </tr>\n",
       "  </thead>\n",
       "  <tbody>\n",
       "    <tr>\n",
       "      <th>0</th>\n",
       "      <td>United States</td>\n",
       "      <td>52927.293518</td>\n",
       "      <td>7.729628e+05</td>\n",
       "    </tr>\n",
       "    <tr>\n",
       "      <th>1</th>\n",
       "      <td>Other</td>\n",
       "      <td>10855.870934</td>\n",
       "      <td>2.471626e+05</td>\n",
       "    </tr>\n",
       "    <tr>\n",
       "      <th>2</th>\n",
       "      <td>Brazil</td>\n",
       "      <td>7300.000000</td>\n",
       "      <td>7.300000e+03</td>\n",
       "    </tr>\n",
       "    <tr>\n",
       "      <th>3</th>\n",
       "      <td>Finland</td>\n",
       "      <td>3975.997829</td>\n",
       "      <td>1.593531e+04</td>\n",
       "    </tr>\n",
       "    <tr>\n",
       "      <th>4</th>\n",
       "      <td>Germany</td>\n",
       "      <td>2767.704408</td>\n",
       "      <td>2.121862e+04</td>\n",
       "    </tr>\n",
       "    <tr>\n",
       "      <th>5</th>\n",
       "      <td>Sweden</td>\n",
       "      <td>2450.999502</td>\n",
       "      <td>2.691000e+03</td>\n",
       "    </tr>\n",
       "    <tr>\n",
       "      <th>6</th>\n",
       "      <td>Denmark</td>\n",
       "      <td>2228.000000</td>\n",
       "      <td>2.763154e+06</td>\n",
       "    </tr>\n",
       "    <tr>\n",
       "      <th>7</th>\n",
       "      <td>Australia</td>\n",
       "      <td>1409.999784</td>\n",
       "      <td>1.503062e+04</td>\n",
       "    </tr>\n",
       "  </tbody>\n",
       "</table>\n",
       "</div>"
      ],
      "text/plain": [
       "  Supplier Origin  Tons Delivered  Tons Purchased\n",
       "0   United States    52927.293518    7.729628e+05\n",
       "1           Other    10855.870934    2.471626e+05\n",
       "2          Brazil     7300.000000    7.300000e+03\n",
       "3         Finland     3975.997829    1.593531e+04\n",
       "4         Germany     2767.704408    2.121862e+04\n",
       "5          Sweden     2450.999502    2.691000e+03\n",
       "6         Denmark     2228.000000    2.763154e+06\n",
       "7       Australia     1409.999784    1.503062e+04"
      ]
     },
     "execution_count": 63,
     "metadata": {},
     "output_type": "execute_result"
    }
   ],
   "source": [
    "ogd = og.sort_values(\"Tons Delivered\", ascending=False)\n",
    "# Calculate total tons delivered\n",
    "total_tons = ogd['Tons Delivered'].sum()\n",
    "\n",
    "# Create a new column that represents the percentage of the total\n",
    "ogd['Percentage'] = 100 * ogd['Tons Delivered'] / total_tons\n",
    "# Update 'Supplier Origin' and 'Tons delivered' for rows that represent less than 1% of the total\n",
    "ogd.loc[ogd['Percentage'] < 1, 'Supplier Origin'] = 'Other'\n",
    "ogd.loc[ogd['Supplier Origin'] == 'Other', 'Tons Delivered'] = ogd[ogd['Supplier Origin'] == 'Other']['Tons Delivered'].sum()\n",
    "\n",
    "ogd = ogd.drop(columns=['Percentage'])\n",
    "ogd = ogd.drop_duplicates(subset=['Supplier Origin']).reset_index(drop=True)\n",
    "ogd"
   ]
  },
  {
   "cell_type": "code",
   "execution_count": 64,
   "metadata": {},
   "outputs": [
    {
     "data": {
      "image/png": "[encoded data removed]",
      "text/plain": [
       "<Figure size 640x480 with 1 Axes>"
      ]
     },
     "metadata": {},
     "output_type": "display_data"
    }
   ],
   "source": [
    "labels = ogd[\"Supplier Origin\"]\n",
    "sizes = ogd[\"Tons Delivered\"]\n",
    "\n",
    "plt.pie(sizes, labels=labels, autopct='%1.1f%%')\n",
    "\n",
    "plt.axis('equal')  # Equal aspect ratio ensures that pie is drawn as a circle.\n",
    "\n",
    "plt.title(\"Percentage of Tons of CO2e delivered by Supplier Origin\")\n",
    "\n",
    "plt.show()"
   ]
  },
  {
   "cell_type": "code",
   "execution_count": 65,
   "metadata": {},
   "outputs": [
    {
     "data": {
      "text/plain": [
       "(array([0, 1, 2, 3, 4, 5, 6, 7]),\n",
       " [Text(0, 0, 'United States'),\n",
       "  Text(1, 0, 'Other'),\n",
       "  Text(2, 0, 'Brazil'),\n",
       "  Text(3, 0, 'Finland'),\n",
       "  Text(4, 0, 'Germany'),\n",
       "  Text(5, 0, 'Sweden'),\n",
       "  Text(6, 0, 'Denmark'),\n",
       "  Text(7, 0, 'Australia')])"
      ]
     },
     "execution_count": 65,
     "metadata": {},
     "output_type": "execute_result"
    },
    {
     "data": {
      "image/png": "[encoded data removed]",
      "text/plain": [
       "<Figure size 1000x600 with 1 Axes>"
      ]
     },
     "metadata": {},
     "output_type": "display_data"
    }
   ],
   "source": [
    "from matplotlib.ticker import FuncFormatter\n",
    "\n",
    "ogd['Percentage'] = (ogd['Tons Delivered'] / ogd['Tons Delivered'].sum()) * 100\n",
    "\n",
    "plt.figure(figsize=(10, 6))\n",
    "barplot = sns.barplot(x='Supplier Origin', y='Tons Delivered', data=ogd, color='grey')\n",
    "    \n",
    "\n",
    "for i, p in enumerate(barplot.patches):\n",
    "    height = p.get_height()\n",
    "    barplot.text(p.get_x()+p.get_width()/2.,\n",
    "            height + 800,\n",
    "            '{:1.2f}%'.format(ogd['Percentage'][i]),\n",
    "            ha=\"center\")\n",
    "    \n",
    "barplot.set_ylabel('Tons of CO2e Delivered')\n",
    "    \n",
    "\n",
    "y_labels = barplot.get_yticks()\n",
    "barplot.yaxis.set_major_formatter(FuncFormatter(lambda x, _: '{:,.0f}'.format(x)))\n",
    "    \n",
    "plt.xticks(rotation=20)"
   ]
  },
  {
   "cell_type": "code",
   "execution_count": null,
   "metadata": {},
   "outputs": [],
   "source": []
  }
 ],
 "metadata": {
  "kernelspec": {
   "display_name": ".venv",
   "language": "python",
   "name": "python3"
  },
  "language_info": {
   "codemirror_mode": {
    "name": "ipython",
    "version": 3
   },
   "file_extension": ".py",
   "mimetype": "text/x-python",
   "name": "python",
   "nbconvert_exporter": "python",
   "pygments_lexer": "ipython3",
   "version": "3.11.4"
  },
  "orig_nbformat": 4
 },
 "nbformat": 4,
 "nbformat_minor": 2
}
