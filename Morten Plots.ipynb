{
 "cells": [
  {
   "cell_type": "code",
   "execution_count": 1,
   "metadata": {},
   "outputs": [],
   "source": [
    "from datetime import datetime\n",
    "from datetime import timedelta\n",
    "import matplotlib.pyplot as plt\n",
    "import matplotlib as mlp\n",
    "import pandas as pd\n",
    "import numpy as np\n",
    "import seaborn as sns"
   ]
  },
  {
   "cell_type": "code",
   "execution_count": 7,
   "metadata": {},
   "outputs": [],
   "source": [
    "SHEET_ID = '1BH_B_Df_7e2l6AH8_8a0aK70nlAJXfCTwfyCgxkL5C8'\n",
    "SHEET_NAME = 'cdr.fyi_raw'\n",
    "url = f'https://docs.google.com/spreadsheets/d/{SHEET_ID}/gviz/tq?tqx=out:csv&sheet={SHEET_NAME}'\n",
    "cdr_fyi = pd.read_csv(url, decimal=\",\")"
   ]
  },
  {
   "cell_type": "code",
   "execution_count": 10,
   "metadata": {},
   "outputs": [
    {
     "data": {
      "text/html": [
       "<div>\n",
       "<style scoped>\n",
       "    .dataframe tbody tr th:only-of-type {\n",
       "        vertical-align: middle;\n",
       "    }\n",
       "\n",
       "    .dataframe tbody tr th {\n",
       "        vertical-align: top;\n",
       "    }\n",
       "\n",
       "    .dataframe thead th {\n",
       "        text-align: right;\n",
       "    }\n",
       "</style>\n",
       "<table border=\"1\" class=\"dataframe\">\n",
       "  <thead>\n",
       "    <tr style=\"text-align: right;\">\n",
       "      <th></th>\n",
       "      <th>Announcement Date</th>\n",
       "      <th>Announcement Link</th>\n",
       "      <th>Demand-side Marketplace</th>\n",
       "      <th>Supply-side Marketplace</th>\n",
       "      <th>CDR Method</th>\n",
       "      <th>Total price (USD)</th>\n",
       "      <th>Purchaser</th>\n",
       "      <th>Status</th>\n",
       "      <th>Supplier</th>\n",
       "      <th>Tons Delivered</th>\n",
       "      <th>Tons Purchased</th>\n",
       "    </tr>\n",
       "  </thead>\n",
       "  <tbody>\n",
       "  </tbody>\n",
       "</table>\n",
       "</div>"
      ],
      "text/plain": [
       "Empty DataFrame\n",
       "Columns: [Announcement Date, Announcement Link, Demand-side Marketplace, Supply-side Marketplace, CDR Method, Total price (USD), Purchaser, Status, Supplier, Tons Delivered, Tons Purchased]\n",
       "Index: []"
      ]
     },
     "execution_count": 10,
     "metadata": {},
     "output_type": "execute_result"
    }
   ],
   "source": [
    "cdr_fyi[cdr_fyi[\"Announcement Date\"] == \" \"]"
   ]
  },
  {
   "cell_type": "code",
   "execution_count": 3,
   "metadata": {},
   "outputs": [
    {
     "data": {
      "text/html": [
       "<div>\n",
       "<style scoped>\n",
       "    .dataframe tbody tr th:only-of-type {\n",
       "        vertical-align: middle;\n",
       "    }\n",
       "\n",
       "    .dataframe tbody tr th {\n",
       "        vertical-align: top;\n",
       "    }\n",
       "\n",
       "    .dataframe thead th {\n",
       "        text-align: right;\n",
       "    }\n",
       "</style>\n",
       "<table border=\"1\" class=\"dataframe\">\n",
       "  <thead>\n",
       "    <tr style=\"text-align: right;\">\n",
       "      <th></th>\n",
       "      <th>Announcement Date</th>\n",
       "      <th>Announcement Link</th>\n",
       "      <th>Demand-side Marketplace</th>\n",
       "      <th>Supply-side Marketplace</th>\n",
       "      <th>CDR Method</th>\n",
       "      <th>Total price (USD)</th>\n",
       "      <th>Purchaser</th>\n",
       "      <th>Status</th>\n",
       "      <th>Supplier</th>\n",
       "      <th>Tons Delivered</th>\n",
       "      <th>Tons Purchased</th>\n",
       "      <th>Price per Ton</th>\n",
       "    </tr>\n",
       "  </thead>\n",
       "  <tbody>\n",
       "    <tr>\n",
       "      <th>0</th>\n",
       "      <td>2021-04-13</td>\n",
       "      <td>https://charmindustrial.com/order?orderId=rec9...</td>\n",
       "      <td>NaN</td>\n",
       "      <td>NaN</td>\n",
       "      <td>Biooil</td>\n",
       "      <td>NaN</td>\n",
       "      <td>Cosora</td>\n",
       "      <td>delivered</td>\n",
       "      <td>Charm Industrial</td>\n",
       "      <td>1.000000</td>\n",
       "      <td>1.000000</td>\n",
       "      <td>NaN</td>\n",
       "    </tr>\n",
       "    <tr>\n",
       "      <th>1</th>\n",
       "      <td>2022-04-08</td>\n",
       "      <td>https://registry.puro.earth/carbon-sequestration</td>\n",
       "      <td>Pledge</td>\n",
       "      <td>Puro</td>\n",
       "      <td>Biochar</td>\n",
       "      <td>NaN</td>\n",
       "      <td>Orkestro</td>\n",
       "      <td>delivered</td>\n",
       "      <td>Bussme</td>\n",
       "      <td>0.999999</td>\n",
       "      <td>0.999999</td>\n",
       "      <td>NaN</td>\n",
       "    </tr>\n",
       "    <tr>\n",
       "      <th>2</th>\n",
       "      <td>2021-06-30</td>\n",
       "      <td>https://charmindustrial.com/order?orderId=recW...</td>\n",
       "      <td>NaN</td>\n",
       "      <td>Carbon Removed</td>\n",
       "      <td>Biooil</td>\n",
       "      <td>NaN</td>\n",
       "      <td>Aggregate Purchase</td>\n",
       "      <td>delivered</td>\n",
       "      <td>Charm Industrial</td>\n",
       "      <td>2.000000</td>\n",
       "      <td>2.000000</td>\n",
       "      <td>NaN</td>\n",
       "    </tr>\n",
       "    <tr>\n",
       "      <th>3</th>\n",
       "      <td>2022-01-17</td>\n",
       "      <td>https://registry.puro.earth/carbon-sequestration</td>\n",
       "      <td>NaN</td>\n",
       "      <td>Puro</td>\n",
       "      <td>Biochar</td>\n",
       "      <td>NaN</td>\n",
       "      <td>Swiss Re</td>\n",
       "      <td>delivered</td>\n",
       "      <td>Hjelmsäters Egendom</td>\n",
       "      <td>11.999989</td>\n",
       "      <td>11.999989</td>\n",
       "      <td>NaN</td>\n",
       "    </tr>\n",
       "    <tr>\n",
       "      <th>4</th>\n",
       "      <td>2022-12-19</td>\n",
       "      <td>https://registry.puro.earth/carbon-sequestrati...</td>\n",
       "      <td>NaN</td>\n",
       "      <td>Puro</td>\n",
       "      <td>Biochar</td>\n",
       "      <td>4290.0</td>\n",
       "      <td>Blackrock</td>\n",
       "      <td>delivered</td>\n",
       "      <td>Freres Biochar</td>\n",
       "      <td>39.000000</td>\n",
       "      <td>39.000000</td>\n",
       "      <td>110.0</td>\n",
       "    </tr>\n",
       "    <tr>\n",
       "      <th>...</th>\n",
       "      <td>...</td>\n",
       "      <td>...</td>\n",
       "      <td>...</td>\n",
       "      <td>...</td>\n",
       "      <td>...</td>\n",
       "      <td>...</td>\n",
       "      <td>...</td>\n",
       "      <td>...</td>\n",
       "      <td>...</td>\n",
       "      <td>...</td>\n",
       "      <td>...</td>\n",
       "      <td>...</td>\n",
       "    </tr>\n",
       "    <tr>\n",
       "      <th>982</th>\n",
       "      <td>2023-04-04</td>\n",
       "      <td>https://docs.google.com/spreadsheets/d/1yz9AG2...</td>\n",
       "      <td>Patch</td>\n",
       "      <td>Carbonfuture</td>\n",
       "      <td>Biochar</td>\n",
       "      <td>1000.0</td>\n",
       "      <td>Aggregate Purchase (Supplier Report)</td>\n",
       "      <td>delivered</td>\n",
       "      <td>NovoCarbo</td>\n",
       "      <td>5.000000</td>\n",
       "      <td>5.000000</td>\n",
       "      <td>200.0</td>\n",
       "    </tr>\n",
       "    <tr>\n",
       "      <th>983</th>\n",
       "      <td>2023-05-24</td>\n",
       "      <td>https://charmindustrial.com/order?orderId=recU...</td>\n",
       "      <td>NaN</td>\n",
       "      <td>NaN</td>\n",
       "      <td>Biooil</td>\n",
       "      <td>600000.0</td>\n",
       "      <td>Shopify</td>\n",
       "      <td>partial</td>\n",
       "      <td>Charm Industrial</td>\n",
       "      <td>123.327000</td>\n",
       "      <td>1000.000000</td>\n",
       "      <td>600.0</td>\n",
       "    </tr>\n",
       "    <tr>\n",
       "      <th>984</th>\n",
       "      <td>2022-01-11</td>\n",
       "      <td>https://registry.puro.earth/carbon-sequestration</td>\n",
       "      <td>Pledge</td>\n",
       "      <td>Puro</td>\n",
       "      <td>Biochar</td>\n",
       "      <td>NaN</td>\n",
       "      <td>Checkout</td>\n",
       "      <td>delivered</td>\n",
       "      <td>Oregon Biochar Solutions</td>\n",
       "      <td>149.999865</td>\n",
       "      <td>149.999865</td>\n",
       "      <td>NaN</td>\n",
       "    </tr>\n",
       "    <tr>\n",
       "      <th>985</th>\n",
       "      <td>2023-03-27</td>\n",
       "      <td>supercritical report</td>\n",
       "      <td>NaN</td>\n",
       "      <td>Supercritical</td>\n",
       "      <td>Enhanced Weathering</td>\n",
       "      <td>NaN</td>\n",
       "      <td>Trafalgar House Penseions Administration Limited</td>\n",
       "      <td>undelivered</td>\n",
       "      <td>UNDO</td>\n",
       "      <td>0.000000</td>\n",
       "      <td>2.000000</td>\n",
       "      <td>NaN</td>\n",
       "    </tr>\n",
       "    <tr>\n",
       "      <th>986</th>\n",
       "      <td>2022-01-11</td>\n",
       "      <td>https://charmindustrial.com/order?orderId=recY...</td>\n",
       "      <td>NaN</td>\n",
       "      <td>Stripe Climate</td>\n",
       "      <td>Biooil</td>\n",
       "      <td>NaN</td>\n",
       "      <td>Wise</td>\n",
       "      <td>partial</td>\n",
       "      <td>Charm Industrial</td>\n",
       "      <td>1.000000</td>\n",
       "      <td>14.000000</td>\n",
       "      <td>NaN</td>\n",
       "    </tr>\n",
       "  </tbody>\n",
       "</table>\n",
       "<p>987 rows × 12 columns</p>\n",
       "</div>"
      ],
      "text/plain": [
       "    Announcement Date                                  Announcement Link   \n",
       "0          2021-04-13  https://charmindustrial.com/order?orderId=rec9...  \\\n",
       "1          2022-04-08   https://registry.puro.earth/carbon-sequestration   \n",
       "2          2021-06-30  https://charmindustrial.com/order?orderId=recW...   \n",
       "3          2022-01-17   https://registry.puro.earth/carbon-sequestration   \n",
       "4          2022-12-19  https://registry.puro.earth/carbon-sequestrati...   \n",
       "..                ...                                                ...   \n",
       "982        2023-04-04  https://docs.google.com/spreadsheets/d/1yz9AG2...   \n",
       "983        2023-05-24  https://charmindustrial.com/order?orderId=recU...   \n",
       "984        2022-01-11   https://registry.puro.earth/carbon-sequestration   \n",
       "985        2023-03-27                               supercritical report   \n",
       "986        2022-01-11  https://charmindustrial.com/order?orderId=recY...   \n",
       "\n",
       "    Demand-side Marketplace Supply-side Marketplace           CDR Method   \n",
       "0                       NaN                     NaN               Biooil  \\\n",
       "1                    Pledge                    Puro              Biochar   \n",
       "2                       NaN          Carbon Removed               Biooil   \n",
       "3                       NaN                    Puro              Biochar   \n",
       "4                       NaN                    Puro              Biochar   \n",
       "..                      ...                     ...                  ...   \n",
       "982                   Patch            Carbonfuture              Biochar   \n",
       "983                     NaN                     NaN               Biooil   \n",
       "984                  Pledge                    Puro              Biochar   \n",
       "985                     NaN           Supercritical  Enhanced Weathering   \n",
       "986                     NaN          Stripe Climate               Biooil   \n",
       "\n",
       "     Total price (USD)                                         Purchaser   \n",
       "0                  NaN                                            Cosora  \\\n",
       "1                  NaN                                          Orkestro   \n",
       "2                  NaN                                Aggregate Purchase   \n",
       "3                  NaN                                         Swiss Re    \n",
       "4               4290.0                                         Blackrock   \n",
       "..                 ...                                               ...   \n",
       "982             1000.0              Aggregate Purchase (Supplier Report)   \n",
       "983           600000.0                                           Shopify   \n",
       "984                NaN                                          Checkout   \n",
       "985                NaN  Trafalgar House Penseions Administration Limited   \n",
       "986                NaN                                              Wise   \n",
       "\n",
       "          Status                   Supplier  Tons Delivered  Tons Purchased   \n",
       "0      delivered           Charm Industrial        1.000000        1.000000  \\\n",
       "1      delivered                     Bussme        0.999999        0.999999   \n",
       "2      delivered           Charm Industrial        2.000000        2.000000   \n",
       "3      delivered        Hjelmsäters Egendom       11.999989       11.999989   \n",
       "4      delivered             Freres Biochar       39.000000       39.000000   \n",
       "..           ...                        ...             ...             ...   \n",
       "982    delivered                  NovoCarbo        5.000000        5.000000   \n",
       "983      partial           Charm Industrial      123.327000     1000.000000   \n",
       "984    delivered  Oregon Biochar Solutions       149.999865      149.999865   \n",
       "985  undelivered                       UNDO        0.000000        2.000000   \n",
       "986      partial           Charm Industrial        1.000000       14.000000   \n",
       "\n",
       "     Price per Ton  \n",
       "0              NaN  \n",
       "1              NaN  \n",
       "2              NaN  \n",
       "3              NaN  \n",
       "4            110.0  \n",
       "..             ...  \n",
       "982          200.0  \n",
       "983          600.0  \n",
       "984            NaN  \n",
       "985            NaN  \n",
       "986            NaN  \n",
       "\n",
       "[987 rows x 12 columns]"
      ]
     },
     "execution_count": 3,
     "metadata": {},
     "output_type": "execute_result"
    }
   ],
   "source": [
    "cdr_fyi[\"Total price (USD)\"].replace(0.0, np.NaN, inplace=True)\n",
    "cdr_fyi[\"Price per Ton\"] = cdr_fyi[\"Total price (USD)\"] / cdr_fyi[\"Tons Purchased\"]\n",
    "cdr_fyi[\"Announcement Date\"] = cdr_fyi[\"Announcement Date\"].str.split(\" \", n=1).str[0]\n",
    "cdr_fyi"
   ]
  },
  {
   "cell_type": "code",
   "execution_count": 6,
   "metadata": {},
   "outputs": [
    {
     "data": {
      "text/html": [
       "<div>\n",
       "<style scoped>\n",
       "    .dataframe tbody tr th:only-of-type {\n",
       "        vertical-align: middle;\n",
       "    }\n",
       "\n",
       "    .dataframe tbody tr th {\n",
       "        vertical-align: top;\n",
       "    }\n",
       "\n",
       "    .dataframe thead th {\n",
       "        text-align: right;\n",
       "    }\n",
       "</style>\n",
       "<table border=\"1\" class=\"dataframe\">\n",
       "  <thead>\n",
       "    <tr style=\"text-align: right;\">\n",
       "      <th></th>\n",
       "      <th>Announcement Date</th>\n",
       "      <th>Announcement Link</th>\n",
       "      <th>Demand-side Marketplace</th>\n",
       "      <th>Supply-side Marketplace</th>\n",
       "      <th>CDR Method</th>\n",
       "      <th>Total price (USD)</th>\n",
       "      <th>Purchaser</th>\n",
       "      <th>Status</th>\n",
       "      <th>Supplier</th>\n",
       "      <th>Tons Delivered</th>\n",
       "      <th>Tons Purchased</th>\n",
       "      <th>Price per Ton</th>\n",
       "    </tr>\n",
       "  </thead>\n",
       "  <tbody>\n",
       "  </tbody>\n",
       "</table>\n",
       "</div>"
      ],
      "text/plain": [
       "Empty DataFrame\n",
       "Columns: [Announcement Date, Announcement Link, Demand-side Marketplace, Supply-side Marketplace, CDR Method, Total price (USD), Purchaser, Status, Supplier, Tons Delivered, Tons Purchased, Price per Ton]\n",
       "Index: []"
      ]
     },
     "execution_count": 6,
     "metadata": {},
     "output_type": "execute_result"
    }
   ],
   "source": [
    "cdr_fyi[cdr_fyi[\"Announcement Date\"] == np.NaN]"
   ]
  },
  {
   "cell_type": "code",
   "execution_count": 102,
   "metadata": {},
   "outputs": [
    {
     "data": {
      "text/html": [
       "<div>\n",
       "<style scoped>\n",
       "    .dataframe tbody tr th:only-of-type {\n",
       "        vertical-align: middle;\n",
       "    }\n",
       "\n",
       "    .dataframe tbody tr th {\n",
       "        vertical-align: top;\n",
       "    }\n",
       "\n",
       "    .dataframe thead th {\n",
       "        text-align: right;\n",
       "    }\n",
       "</style>\n",
       "<table border=\"1\" class=\"dataframe\">\n",
       "  <thead>\n",
       "    <tr style=\"text-align: right;\">\n",
       "      <th></th>\n",
       "      <th>Announcement Date</th>\n",
       "      <th>Announcement Link</th>\n",
       "      <th>Demand-side Marketplace</th>\n",
       "      <th>Supply-side Marketplace</th>\n",
       "      <th>CDR Method</th>\n",
       "      <th>Total price (USD)</th>\n",
       "      <th>Purchaser</th>\n",
       "      <th>Status</th>\n",
       "      <th>Supplier</th>\n",
       "      <th>Tons Delivered</th>\n",
       "      <th>Tons Purchased</th>\n",
       "      <th>Price per Ton</th>\n",
       "    </tr>\n",
       "  </thead>\n",
       "  <tbody>\n",
       "    <tr>\n",
       "      <th>1</th>\n",
       "      <td>2022-04-08</td>\n",
       "      <td>https://registry.puro.earth/carbon-sequestration</td>\n",
       "      <td>Pledge</td>\n",
       "      <td>Puro</td>\n",
       "      <td>Biochar</td>\n",
       "      <td>NaN</td>\n",
       "      <td>Orkestro</td>\n",
       "      <td>delivered</td>\n",
       "      <td>Bussme</td>\n",
       "      <td>0.999999</td>\n",
       "      <td>0.999999</td>\n",
       "      <td>NaN</td>\n",
       "    </tr>\n",
       "    <tr>\n",
       "      <th>3</th>\n",
       "      <td>2022-01-17</td>\n",
       "      <td>https://registry.puro.earth/carbon-sequestration</td>\n",
       "      <td>NaN</td>\n",
       "      <td>Puro</td>\n",
       "      <td>Biochar</td>\n",
       "      <td>NaN</td>\n",
       "      <td>Swiss Re</td>\n",
       "      <td>delivered</td>\n",
       "      <td>Hjelmsäters Egendom</td>\n",
       "      <td>11.999989</td>\n",
       "      <td>11.999989</td>\n",
       "      <td>NaN</td>\n",
       "    </tr>\n",
       "    <tr>\n",
       "      <th>4</th>\n",
       "      <td>2022-12-19</td>\n",
       "      <td>https://registry.puro.earth/carbon-sequestrati...</td>\n",
       "      <td>NaN</td>\n",
       "      <td>Puro</td>\n",
       "      <td>Biochar</td>\n",
       "      <td>4290.0</td>\n",
       "      <td>Blackrock</td>\n",
       "      <td>delivered</td>\n",
       "      <td>Freres Biochar</td>\n",
       "      <td>39.000000</td>\n",
       "      <td>39.000000</td>\n",
       "      <td>110.0</td>\n",
       "    </tr>\n",
       "    <tr>\n",
       "      <th>7</th>\n",
       "      <td>2022-03-15</td>\n",
       "      <td>marketplace report</td>\n",
       "      <td>Supercritical</td>\n",
       "      <td>Puro</td>\n",
       "      <td>Biochar</td>\n",
       "      <td>NaN</td>\n",
       "      <td>Howells Associates</td>\n",
       "      <td>delivered</td>\n",
       "      <td>Freres Biochar</td>\n",
       "      <td>20.000000</td>\n",
       "      <td>20.000000</td>\n",
       "      <td>NaN</td>\n",
       "    </tr>\n",
       "    <tr>\n",
       "      <th>8</th>\n",
       "      <td>2021-12-09</td>\n",
       "      <td>https://bit.ly/3zXGj3P</td>\n",
       "      <td>NaN</td>\n",
       "      <td>Carbonfuture</td>\n",
       "      <td>Biochar</td>\n",
       "      <td>NaN</td>\n",
       "      <td>Aggregate Purchase</td>\n",
       "      <td>delivered</td>\n",
       "      <td>Aggregate Supplier (Marketplace Report)</td>\n",
       "      <td>642.380000</td>\n",
       "      <td>642.380000</td>\n",
       "      <td>NaN</td>\n",
       "    </tr>\n",
       "    <tr>\n",
       "      <th>...</th>\n",
       "      <td>...</td>\n",
       "      <td>...</td>\n",
       "      <td>...</td>\n",
       "      <td>...</td>\n",
       "      <td>...</td>\n",
       "      <td>...</td>\n",
       "      <td>...</td>\n",
       "      <td>...</td>\n",
       "      <td>...</td>\n",
       "      <td>...</td>\n",
       "      <td>...</td>\n",
       "      <td>...</td>\n",
       "    </tr>\n",
       "    <tr>\n",
       "      <th>976</th>\n",
       "      <td>2023-01-16</td>\n",
       "      <td>supplier report</td>\n",
       "      <td>Patch</td>\n",
       "      <td>Carbonfuture</td>\n",
       "      <td>Biochar</td>\n",
       "      <td>1400.0</td>\n",
       "      <td>Planet A Ventures</td>\n",
       "      <td>delivered</td>\n",
       "      <td>NovoCarbo</td>\n",
       "      <td>7.000000</td>\n",
       "      <td>7.000000</td>\n",
       "      <td>200.0</td>\n",
       "    </tr>\n",
       "    <tr>\n",
       "      <th>977</th>\n",
       "      <td>2022-12-01</td>\n",
       "      <td>NaN</td>\n",
       "      <td>NaN</td>\n",
       "      <td>Milkywire</td>\n",
       "      <td>Biochar</td>\n",
       "      <td>17500.0</td>\n",
       "      <td>WRLD Foundation</td>\n",
       "      <td>undelivered</td>\n",
       "      <td>Husk</td>\n",
       "      <td>0.000000</td>\n",
       "      <td>175.000000</td>\n",
       "      <td>100.0</td>\n",
       "    </tr>\n",
       "    <tr>\n",
       "      <th>978</th>\n",
       "      <td>2023-04-16</td>\n",
       "      <td>https://docs.google.com/spreadsheets/d/129BzKz...</td>\n",
       "      <td>Klimate</td>\n",
       "      <td>Klimate</td>\n",
       "      <td>Biochar</td>\n",
       "      <td>NaN</td>\n",
       "      <td>Aggregate Purchase</td>\n",
       "      <td>undelivered</td>\n",
       "      <td>Carbonfuture</td>\n",
       "      <td>0.000000</td>\n",
       "      <td>96.700000</td>\n",
       "      <td>NaN</td>\n",
       "    </tr>\n",
       "    <tr>\n",
       "      <th>982</th>\n",
       "      <td>2023-04-04</td>\n",
       "      <td>https://docs.google.com/spreadsheets/d/1yz9AG2...</td>\n",
       "      <td>Patch</td>\n",
       "      <td>Carbonfuture</td>\n",
       "      <td>Biochar</td>\n",
       "      <td>1000.0</td>\n",
       "      <td>Aggregate Purchase (Supplier Report)</td>\n",
       "      <td>delivered</td>\n",
       "      <td>NovoCarbo</td>\n",
       "      <td>5.000000</td>\n",
       "      <td>5.000000</td>\n",
       "      <td>200.0</td>\n",
       "    </tr>\n",
       "    <tr>\n",
       "      <th>984</th>\n",
       "      <td>2022-01-11</td>\n",
       "      <td>https://registry.puro.earth/carbon-sequestration</td>\n",
       "      <td>Pledge</td>\n",
       "      <td>Puro</td>\n",
       "      <td>Biochar</td>\n",
       "      <td>NaN</td>\n",
       "      <td>Checkout</td>\n",
       "      <td>delivered</td>\n",
       "      <td>Oregon Biochar Solutions</td>\n",
       "      <td>149.999865</td>\n",
       "      <td>149.999865</td>\n",
       "      <td>NaN</td>\n",
       "    </tr>\n",
       "  </tbody>\n",
       "</table>\n",
       "<p>486 rows × 12 columns</p>\n",
       "</div>"
      ],
      "text/plain": [
       "    Announcement Date                                  Announcement Link   \n",
       "1          2022-04-08   https://registry.puro.earth/carbon-sequestration  \\\n",
       "3          2022-01-17   https://registry.puro.earth/carbon-sequestration   \n",
       "4          2022-12-19  https://registry.puro.earth/carbon-sequestrati...   \n",
       "7          2022-03-15                                 marketplace report   \n",
       "8          2021-12-09                             https://bit.ly/3zXGj3P   \n",
       "..                ...                                                ...   \n",
       "976        2023-01-16                                    supplier report   \n",
       "977        2022-12-01                                                NaN   \n",
       "978        2023-04-16  https://docs.google.com/spreadsheets/d/129BzKz...   \n",
       "982        2023-04-04  https://docs.google.com/spreadsheets/d/1yz9AG2...   \n",
       "984        2022-01-11   https://registry.puro.earth/carbon-sequestration   \n",
       "\n",
       "    Demand-side Marketplace Supply-side Marketplace CDR Method   \n",
       "1                    Pledge                    Puro    Biochar  \\\n",
       "3                       NaN                    Puro    Biochar   \n",
       "4                       NaN                    Puro    Biochar   \n",
       "7             Supercritical                    Puro    Biochar   \n",
       "8                       NaN            Carbonfuture    Biochar   \n",
       "..                      ...                     ...        ...   \n",
       "976                   Patch            Carbonfuture    Biochar   \n",
       "977                     NaN               Milkywire    Biochar   \n",
       "978                 Klimate                 Klimate    Biochar   \n",
       "982                   Patch            Carbonfuture    Biochar   \n",
       "984                  Pledge                    Puro    Biochar   \n",
       "\n",
       "     Total price (USD)                             Purchaser       Status   \n",
       "1                  NaN                              Orkestro    delivered  \\\n",
       "3                  NaN                             Swiss Re     delivered   \n",
       "4               4290.0                             Blackrock    delivered   \n",
       "7                  NaN                    Howells Associates    delivered   \n",
       "8                  NaN                    Aggregate Purchase    delivered   \n",
       "..                 ...                                   ...          ...   \n",
       "976             1400.0                     Planet A Ventures    delivered   \n",
       "977            17500.0                       WRLD Foundation  undelivered   \n",
       "978                NaN                    Aggregate Purchase  undelivered   \n",
       "982             1000.0  Aggregate Purchase (Supplier Report)    delivered   \n",
       "984                NaN                              Checkout    delivered   \n",
       "\n",
       "                                    Supplier  Tons Delivered  Tons Purchased   \n",
       "1                                     Bussme        0.999999        0.999999  \\\n",
       "3                        Hjelmsäters Egendom       11.999989       11.999989   \n",
       "4                             Freres Biochar       39.000000       39.000000   \n",
       "7                             Freres Biochar       20.000000       20.000000   \n",
       "8    Aggregate Supplier (Marketplace Report)      642.380000      642.380000   \n",
       "..                                       ...             ...             ...   \n",
       "976                                NovoCarbo        7.000000        7.000000   \n",
       "977                                     Husk        0.000000      175.000000   \n",
       "978                             Carbonfuture        0.000000       96.700000   \n",
       "982                                NovoCarbo        5.000000        5.000000   \n",
       "984                Oregon Biochar Solutions       149.999865      149.999865   \n",
       "\n",
       "     Price per Ton  \n",
       "1              NaN  \n",
       "3              NaN  \n",
       "4            110.0  \n",
       "7              NaN  \n",
       "8              NaN  \n",
       "..             ...  \n",
       "976          200.0  \n",
       "977          100.0  \n",
       "978            NaN  \n",
       "982          200.0  \n",
       "984            NaN  \n",
       "\n",
       "[486 rows x 12 columns]"
      ]
     },
     "execution_count": 102,
     "metadata": {},
     "output_type": "execute_result"
    }
   ],
   "source": [
    "# filter the df to only include the CDR method of biochar\n",
    "cdr_fyi = cdr_fyi[cdr_fyi['CDR Method'] == 'Biochar']\n",
    "cdr_fyi"
   ]
  },
  {
   "cell_type": "code",
   "execution_count": 103,
   "metadata": {},
   "outputs": [
    {
     "data": {
      "text/plain": [
       "75484.54157335519"
      ]
     },
     "execution_count": 103,
     "metadata": {},
     "output_type": "execute_result"
    }
   ],
   "source": [
    "cdr_fyi[\"Tons Delivered\"].sum()"
   ]
  },
  {
   "cell_type": "code",
   "execution_count": 104,
   "metadata": {},
   "outputs": [
    {
     "name": "stdout",
     "output_type": "stream",
     "text": [
      "36\n"
     ]
    },
    {
     "data": {
      "text/html": [
       "<div>\n",
       "<style scoped>\n",
       "    .dataframe tbody tr th:only-of-type {\n",
       "        vertical-align: middle;\n",
       "    }\n",
       "\n",
       "    .dataframe tbody tr th {\n",
       "        vertical-align: top;\n",
       "    }\n",
       "\n",
       "    .dataframe thead th {\n",
       "        text-align: right;\n",
       "    }\n",
       "</style>\n",
       "<table border=\"1\" class=\"dataframe\">\n",
       "  <thead>\n",
       "    <tr style=\"text-align: right;\">\n",
       "      <th></th>\n",
       "      <th>Total price (USD)</th>\n",
       "      <th>Tons Delivered</th>\n",
       "      <th>Tons Purchased</th>\n",
       "      <th>Price per Ton</th>\n",
       "    </tr>\n",
       "    <tr>\n",
       "      <th>Supplier</th>\n",
       "      <th></th>\n",
       "      <th></th>\n",
       "      <th></th>\n",
       "      <th></th>\n",
       "    </tr>\n",
       "  </thead>\n",
       "  <tbody>\n",
       "    <tr>\n",
       "      <th>Mash makes</th>\n",
       "      <td>118700.0</td>\n",
       "      <td>0.000000</td>\n",
       "      <td>51533.000000</td>\n",
       "      <td>318.203310</td>\n",
       "    </tr>\n",
       "    <tr>\n",
       "      <th>Wakefield Biochar</th>\n",
       "      <td>3000.0</td>\n",
       "      <td>20934.000000</td>\n",
       "      <td>34450.000000</td>\n",
       "      <td>200.000000</td>\n",
       "    </tr>\n",
       "    <tr>\n",
       "      <th>Carbonfuture</th>\n",
       "      <td>34504.0</td>\n",
       "      <td>0.000000</td>\n",
       "      <td>18371.810000</td>\n",
       "      <td>290.000000</td>\n",
       "    </tr>\n",
       "    <tr>\n",
       "      <th>Freres Biochar</th>\n",
       "      <td>161977.0</td>\n",
       "      <td>7092.996923</td>\n",
       "      <td>15655.104173</td>\n",
       "      <td>757.344437</td>\n",
       "    </tr>\n",
       "    <tr>\n",
       "      <th>Douglas County Forest Products</th>\n",
       "      <td>490531.0</td>\n",
       "      <td>11403.001295</td>\n",
       "      <td>13148.001295</td>\n",
       "      <td>2356.213788</td>\n",
       "    </tr>\n",
       "    <tr>\n",
       "      <th>Aggregate Supplier (Marketplace Report)</th>\n",
       "      <td>0.0</td>\n",
       "      <td>8881.890000</td>\n",
       "      <td>8881.890000</td>\n",
       "      <td>0.000000</td>\n",
       "    </tr>\n",
       "    <tr>\n",
       "      <th>Carbofex</th>\n",
       "      <td>1685092.0</td>\n",
       "      <td>3975.997829</td>\n",
       "      <td>8047.308829</td>\n",
       "      <td>2950.008825</td>\n",
       "    </tr>\n",
       "    <tr>\n",
       "      <th>Carbo Culture</th>\n",
       "      <td>152688.0</td>\n",
       "      <td>0.000000</td>\n",
       "      <td>7888.000000</td>\n",
       "      <td>937.600000</td>\n",
       "    </tr>\n",
       "    <tr>\n",
       "      <th>Aperam BioEnergia</th>\n",
       "      <td>118400.0</td>\n",
       "      <td>7300.000000</td>\n",
       "      <td>7300.000000</td>\n",
       "      <td>148.000000</td>\n",
       "    </tr>\n",
       "    <tr>\n",
       "      <th>Oregon Biochar Solutions</th>\n",
       "      <td>255485.0</td>\n",
       "      <td>4098.997384</td>\n",
       "      <td>6506.182384</td>\n",
       "      <td>185.000000</td>\n",
       "    </tr>\n",
       "  </tbody>\n",
       "</table>\n",
       "</div>"
      ],
      "text/plain": [
       "                                         Total price (USD)  Tons Delivered   \n",
       "Supplier                                                                     \n",
       "Mash makes                                        118700.0        0.000000  \\\n",
       "Wakefield Biochar                                   3000.0    20934.000000   \n",
       "Carbonfuture                                       34504.0        0.000000   \n",
       "Freres Biochar                                    161977.0     7092.996923   \n",
       "Douglas County Forest Products                    490531.0    11403.001295   \n",
       "Aggregate Supplier (Marketplace Report)                0.0     8881.890000   \n",
       "Carbofex                                         1685092.0     3975.997829   \n",
       "Carbo Culture                                     152688.0        0.000000   \n",
       "Aperam BioEnergia                                 118400.0     7300.000000   \n",
       "Oregon Biochar Solutions                          255485.0     4098.997384   \n",
       "\n",
       "                                         Tons Purchased  Price per Ton  \n",
       "Supplier                                                                \n",
       "Mash makes                                 51533.000000     318.203310  \n",
       "Wakefield Biochar                          34450.000000     200.000000  \n",
       "Carbonfuture                               18371.810000     290.000000  \n",
       "Freres Biochar                             15655.104173     757.344437  \n",
       "Douglas County Forest Products             13148.001295    2356.213788  \n",
       "Aggregate Supplier (Marketplace Report)     8881.890000       0.000000  \n",
       "Carbofex                                    8047.308829    2950.008825  \n",
       "Carbo Culture                               7888.000000     937.600000  \n",
       "Aperam BioEnergia                           7300.000000     148.000000  \n",
       "Oregon Biochar Solutions                    6506.182384     185.000000  "
      ]
     },
     "execution_count": 104,
     "metadata": {},
     "output_type": "execute_result"
    }
   ],
   "source": [
    "print(cdr_fyi['Supplier'].nunique())\n",
    "cdr_fyi.groupby([\"Supplier\"]).sum(\"Tons Purchased\").sort_values(\"Tons Purchased\", ascending=False).head(10)"
   ]
  },
  {
   "cell_type": "code",
   "execution_count": 105,
   "metadata": {},
   "outputs": [
    {
     "data": {
      "text/html": [
       "<div>\n",
       "<style scoped>\n",
       "    .dataframe tbody tr th:only-of-type {\n",
       "        vertical-align: middle;\n",
       "    }\n",
       "\n",
       "    .dataframe tbody tr th {\n",
       "        vertical-align: top;\n",
       "    }\n",
       "\n",
       "    .dataframe thead th {\n",
       "        text-align: right;\n",
       "    }\n",
       "</style>\n",
       "<table border=\"1\" class=\"dataframe\">\n",
       "  <thead>\n",
       "    <tr style=\"text-align: right;\">\n",
       "      <th></th>\n",
       "      <th>Total price (USD)</th>\n",
       "      <th>Tons Delivered</th>\n",
       "      <th>Tons Purchased</th>\n",
       "      <th>Price per Ton</th>\n",
       "    </tr>\n",
       "    <tr>\n",
       "      <th>Supplier</th>\n",
       "      <th></th>\n",
       "      <th></th>\n",
       "      <th></th>\n",
       "      <th></th>\n",
       "    </tr>\n",
       "  </thead>\n",
       "  <tbody>\n",
       "    <tr>\n",
       "      <th>Wakefield Biochar</th>\n",
       "      <td>3000.00</td>\n",
       "      <td>20934.000000</td>\n",
       "      <td>34450.000000</td>\n",
       "      <td>200.000000</td>\n",
       "    </tr>\n",
       "    <tr>\n",
       "      <th>Douglas County Forest Products</th>\n",
       "      <td>490531.00</td>\n",
       "      <td>11403.001295</td>\n",
       "      <td>13148.001295</td>\n",
       "      <td>2356.213788</td>\n",
       "    </tr>\n",
       "    <tr>\n",
       "      <th>Aggregate Supplier (Marketplace Report)</th>\n",
       "      <td>0.00</td>\n",
       "      <td>8881.890000</td>\n",
       "      <td>8881.890000</td>\n",
       "      <td>0.000000</td>\n",
       "    </tr>\n",
       "    <tr>\n",
       "      <th>Aperam BioEnergia</th>\n",
       "      <td>118400.00</td>\n",
       "      <td>7300.000000</td>\n",
       "      <td>7300.000000</td>\n",
       "      <td>148.000000</td>\n",
       "    </tr>\n",
       "    <tr>\n",
       "      <th>Freres Biochar</th>\n",
       "      <td>161977.00</td>\n",
       "      <td>7092.996923</td>\n",
       "      <td>15655.104173</td>\n",
       "      <td>757.344437</td>\n",
       "    </tr>\n",
       "    <tr>\n",
       "      <th>Oregon Biochar Solutions</th>\n",
       "      <td>255485.00</td>\n",
       "      <td>4098.997384</td>\n",
       "      <td>6506.182384</td>\n",
       "      <td>185.000000</td>\n",
       "    </tr>\n",
       "    <tr>\n",
       "      <th>Carbofex</th>\n",
       "      <td>1685092.00</td>\n",
       "      <td>3975.997829</td>\n",
       "      <td>8047.308829</td>\n",
       "      <td>2950.008825</td>\n",
       "    </tr>\n",
       "    <tr>\n",
       "      <th>NovoCarbo</th>\n",
       "      <td>228074.51</td>\n",
       "      <td>1986.809946</td>\n",
       "      <td>1986.809855</td>\n",
       "      <td>4582.752494</td>\n",
       "    </tr>\n",
       "    <tr>\n",
       "      <th>Carbon Cycle</th>\n",
       "      <td>3840.00</td>\n",
       "      <td>1781.973515</td>\n",
       "      <td>3345.754700</td>\n",
       "      <td>320.672289</td>\n",
       "    </tr>\n",
       "    <tr>\n",
       "      <th>Pacific Biochar</th>\n",
       "      <td>50000.00</td>\n",
       "      <td>1500.000000</td>\n",
       "      <td>2771.107250</td>\n",
       "      <td>100.000000</td>\n",
       "    </tr>\n",
       "    <tr>\n",
       "      <th>Echo2</th>\n",
       "      <td>37632.40</td>\n",
       "      <td>1409.999784</td>\n",
       "      <td>4498.621784</td>\n",
       "      <td>848.465369</td>\n",
       "    </tr>\n",
       "    <tr>\n",
       "      <th>Bussme</th>\n",
       "      <td>34200.00</td>\n",
       "      <td>909.000217</td>\n",
       "      <td>909.000217</td>\n",
       "      <td>1349.984850</td>\n",
       "    </tr>\n",
       "    <tr>\n",
       "      <th>Ecoera</th>\n",
       "      <td>0.00</td>\n",
       "      <td>891.999739</td>\n",
       "      <td>1077.999739</td>\n",
       "      <td>0.000000</td>\n",
       "    </tr>\n",
       "    <tr>\n",
       "      <th>Nordgau</th>\n",
       "      <td>53560.00</td>\n",
       "      <td>780.894462</td>\n",
       "      <td>859.999695</td>\n",
       "      <td>2133.043456</td>\n",
       "    </tr>\n",
       "    <tr>\n",
       "      <th>Hjelmsäters Egendom</th>\n",
       "      <td>41575.00</td>\n",
       "      <td>649.999546</td>\n",
       "      <td>703.999546</td>\n",
       "      <td>1433.000000</td>\n",
       "    </tr>\n",
       "    <tr>\n",
       "      <th>Oplandske Bio, Rudshøgda</th>\n",
       "      <td>88898.00</td>\n",
       "      <td>630.356496</td>\n",
       "      <td>635.356496</td>\n",
       "      <td>1061.139746</td>\n",
       "    </tr>\n",
       "    <tr>\n",
       "      <th>Terra Fertilis</th>\n",
       "      <td>10444.00</td>\n",
       "      <td>280.932687</td>\n",
       "      <td>280.932687</td>\n",
       "      <td>654.141779</td>\n",
       "    </tr>\n",
       "    <tr>\n",
       "      <th>Premier Forest</th>\n",
       "      <td>28047.00</td>\n",
       "      <td>206.687635</td>\n",
       "      <td>206.687635</td>\n",
       "      <td>303.321379</td>\n",
       "    </tr>\n",
       "    <tr>\n",
       "      <th>Planboo</th>\n",
       "      <td>40000.00</td>\n",
       "      <td>200.000000</td>\n",
       "      <td>200.000000</td>\n",
       "      <td>200.000000</td>\n",
       "    </tr>\n",
       "    <tr>\n",
       "      <th>Netzero</th>\n",
       "      <td>0.00</td>\n",
       "      <td>184.000000</td>\n",
       "      <td>184.000000</td>\n",
       "      <td>0.000000</td>\n",
       "    </tr>\n",
       "    <tr>\n",
       "      <th>V-Grid Energy Systems</th>\n",
       "      <td>102750.00</td>\n",
       "      <td>171.000000</td>\n",
       "      <td>411.000000</td>\n",
       "      <td>1000.000000</td>\n",
       "    </tr>\n",
       "    <tr>\n",
       "      <th>Karbon Capture</th>\n",
       "      <td>0.00</td>\n",
       "      <td>104.000000</td>\n",
       "      <td>104.000000</td>\n",
       "      <td>0.000000</td>\n",
       "    </tr>\n",
       "    <tr>\n",
       "      <th>Emergent Waste Solution</th>\n",
       "      <td>0.00</td>\n",
       "      <td>50.000000</td>\n",
       "      <td>50.000000</td>\n",
       "      <td>0.000000</td>\n",
       "    </tr>\n",
       "    <tr>\n",
       "      <th>Jeffries Group</th>\n",
       "      <td>700.00</td>\n",
       "      <td>29.004115</td>\n",
       "      <td>29.004115</td>\n",
       "      <td>280.000000</td>\n",
       "    </tr>\n",
       "    <tr>\n",
       "      <th>Gekka Biochar</th>\n",
       "      <td>3400.00</td>\n",
       "      <td>17.000000</td>\n",
       "      <td>17.000000</td>\n",
       "      <td>200.000000</td>\n",
       "    </tr>\n",
       "    <tr>\n",
       "      <th>Pyrocal</th>\n",
       "      <td>3600.00</td>\n",
       "      <td>14.000000</td>\n",
       "      <td>14.000000</td>\n",
       "      <td>600.000000</td>\n",
       "    </tr>\n",
       "  </tbody>\n",
       "</table>\n",
       "</div>"
      ],
      "text/plain": [
       "                                         Total price (USD)  Tons Delivered   \n",
       "Supplier                                                                     \n",
       "Wakefield Biochar                                  3000.00    20934.000000  \\\n",
       "Douglas County Forest Products                   490531.00    11403.001295   \n",
       "Aggregate Supplier (Marketplace Report)               0.00     8881.890000   \n",
       "Aperam BioEnergia                                118400.00     7300.000000   \n",
       "Freres Biochar                                   161977.00     7092.996923   \n",
       "Oregon Biochar Solutions                         255485.00     4098.997384   \n",
       "Carbofex                                        1685092.00     3975.997829   \n",
       "NovoCarbo                                        228074.51     1986.809946   \n",
       "Carbon Cycle                                       3840.00     1781.973515   \n",
       "Pacific Biochar                                   50000.00     1500.000000   \n",
       "Echo2                                             37632.40     1409.999784   \n",
       "Bussme                                            34200.00      909.000217   \n",
       "Ecoera                                                0.00      891.999739   \n",
       "Nordgau                                           53560.00      780.894462   \n",
       "Hjelmsäters Egendom                               41575.00      649.999546   \n",
       "Oplandske Bio, Rudshøgda                          88898.00      630.356496   \n",
       "Terra Fertilis                                    10444.00      280.932687   \n",
       "Premier Forest                                    28047.00      206.687635   \n",
       "Planboo                                           40000.00      200.000000   \n",
       "Netzero                                               0.00      184.000000   \n",
       "V-Grid Energy Systems                            102750.00      171.000000   \n",
       "Karbon Capture                                        0.00      104.000000   \n",
       "Emergent Waste Solution                               0.00       50.000000   \n",
       "Jeffries Group                                      700.00       29.004115   \n",
       "Gekka Biochar                                      3400.00       17.000000   \n",
       "Pyrocal                                            3600.00       14.000000   \n",
       "\n",
       "                                         Tons Purchased  Price per Ton  \n",
       "Supplier                                                                \n",
       "Wakefield Biochar                          34450.000000     200.000000  \n",
       "Douglas County Forest Products             13148.001295    2356.213788  \n",
       "Aggregate Supplier (Marketplace Report)     8881.890000       0.000000  \n",
       "Aperam BioEnergia                           7300.000000     148.000000  \n",
       "Freres Biochar                             15655.104173     757.344437  \n",
       "Oregon Biochar Solutions                    6506.182384     185.000000  \n",
       "Carbofex                                    8047.308829    2950.008825  \n",
       "NovoCarbo                                   1986.809855    4582.752494  \n",
       "Carbon Cycle                                3345.754700     320.672289  \n",
       "Pacific Biochar                             2771.107250     100.000000  \n",
       "Echo2                                       4498.621784     848.465369  \n",
       "Bussme                                       909.000217    1349.984850  \n",
       "Ecoera                                      1077.999739       0.000000  \n",
       "Nordgau                                      859.999695    2133.043456  \n",
       "Hjelmsäters Egendom                          703.999546    1433.000000  \n",
       "Oplandske Bio, Rudshøgda                     635.356496    1061.139746  \n",
       "Terra Fertilis                               280.932687     654.141779  \n",
       "Premier Forest                               206.687635     303.321379  \n",
       "Planboo                                      200.000000     200.000000  \n",
       "Netzero                                      184.000000       0.000000  \n",
       "V-Grid Energy Systems                        411.000000    1000.000000  \n",
       "Karbon Capture                               104.000000       0.000000  \n",
       "Emergent Waste Solution                       50.000000       0.000000  \n",
       "Jeffries Group                                29.004115     280.000000  \n",
       "Gekka Biochar                                 17.000000     200.000000  \n",
       "Pyrocal                                       14.000000     600.000000  "
      ]
     },
     "execution_count": 105,
     "metadata": {},
     "output_type": "execute_result"
    }
   ],
   "source": [
    "deliver = cdr_fyi.groupby([\"Supplier\"]).sum(\"Tons Delivered\").sort_values(\"Tons Delivered\", ascending=False)\n",
    "deliver[deliver[\"Tons Delivered\"] > 0]"
   ]
  },
  {
   "cell_type": "code",
   "execution_count": 106,
   "metadata": {},
   "outputs": [
    {
     "data": {
      "text/plain": [
       "['Bussme',\n",
       " 'Hjelmsäters Egendom',\n",
       " 'Freres Biochar',\n",
       " 'Aggregate Supplier (Marketplace Report)',\n",
       " 'Oregon Biochar Solutions ',\n",
       " 'Carbofex',\n",
       " 'Karbon Capture',\n",
       " 'Douglas County Forest Products',\n",
       " 'Jeffries Group',\n",
       " 'Premier Forest',\n",
       " 'Wakefield Biochar',\n",
       " 'Nordgau',\n",
       " 'Pyrocal',\n",
       " 'Mash makes',\n",
       " 'Oplandske Bio, Rudshøgda',\n",
       " 'UNDO',\n",
       " 'NovoCarbo',\n",
       " 'V-Grid Energy Systems',\n",
       " 'Echo2',\n",
       " 'Carbonfuture',\n",
       " 'Terra Fertilis',\n",
       " 'Carbon Cycle',\n",
       " 'Bio Restorative Ideas',\n",
       " 'Planboo',\n",
       " 'Ecoera',\n",
       " 'Carbo Culture',\n",
       " 'Aperam BioEnergia',\n",
       " 'Emergent Waste Solution',\n",
       " 'Husk',\n",
       " 'Gekka Biochar',\n",
       " 'Netzero',\n",
       " 'Sonnenerde',\n",
       " 'Pacific Biochar',\n",
       " 'Auen Pflege Dienst APD Flaach',\n",
       " 'Biokol.se',\n",
       " 'Climate Robotics Inc.',\n",
       " nan]"
      ]
     },
     "execution_count": 106,
     "metadata": {},
     "output_type": "execute_result"
    }
   ],
   "source": [
    "# create a list of all suppliers\n",
    "suppliers = cdr_fyi['Supplier'].unique().tolist()\n",
    "suppliers"
   ]
  },
  {
   "cell_type": "code",
   "execution_count": 107,
   "metadata": {},
   "outputs": [
    {
     "data": {
      "text/plain": [
       "['Mash makes',\n",
       " 'Wakefield Biochar',\n",
       " 'Carbonfuture',\n",
       " 'Freres Biochar',\n",
       " 'Douglas County Forest Products',\n",
       " 'Aggregate Supplier (Marketplace Report)',\n",
       " 'Carbofex',\n",
       " 'Carbo Culture',\n",
       " 'Aperam BioEnergia',\n",
       " 'Oregon Biochar Solutions ',\n",
       " 'Echo2',\n",
       " 'Husk',\n",
       " 'Carbon Cycle',\n",
       " 'Pacific Biochar',\n",
       " 'NovoCarbo',\n",
       " 'Ecoera',\n",
       " 'Climate Robotics Inc.',\n",
       " 'Bio Restorative Ideas',\n",
       " 'Bussme',\n",
       " 'Nordgau',\n",
       " 'Hjelmsäters Egendom',\n",
       " 'Oplandske Bio, Rudshøgda',\n",
       " 'V-Grid Energy Systems',\n",
       " 'Terra Fertilis',\n",
       " 'Auen Pflege Dienst APD Flaach',\n",
       " 'Premier Forest',\n",
       " 'Planboo',\n",
       " 'Sonnenerde',\n",
       " 'Netzero',\n",
       " 'Karbon Capture',\n",
       " 'Emergent Waste Solution',\n",
       " 'Jeffries Group',\n",
       " 'Gekka Biochar',\n",
       " 'Pyrocal',\n",
       " 'Biokol.se',\n",
       " 'UNDO',\n",
       " nan]"
      ]
     },
     "execution_count": 107,
     "metadata": {},
     "output_type": "execute_result"
    }
   ],
   "source": [
    "# sort this list by how \"tons purchased\"\n",
    "suppliers.sort(key=lambda x: cdr_fyi[cdr_fyi['Supplier'] == x]['Tons Purchased'].sum(), reverse=True)\n",
    "suppliers"
   ]
  },
  {
   "cell_type": "code",
   "execution_count": 108,
   "metadata": {},
   "outputs": [
    {
     "data": {
      "text/plain": [
       "['Wakefield Biochar',\n",
       " 'Douglas County Forest Products',\n",
       " 'Aggregate Supplier (Marketplace Report)',\n",
       " 'Aperam BioEnergia',\n",
       " 'Freres Biochar',\n",
       " 'Oregon Biochar Solutions ',\n",
       " 'Carbofex',\n",
       " 'NovoCarbo',\n",
       " 'Carbon Cycle',\n",
       " 'Pacific Biochar',\n",
       " 'Echo2',\n",
       " 'Bussme',\n",
       " 'Ecoera',\n",
       " 'Nordgau',\n",
       " 'Hjelmsäters Egendom',\n",
       " 'Oplandske Bio, Rudshøgda',\n",
       " 'Terra Fertilis',\n",
       " 'Premier Forest',\n",
       " 'Planboo',\n",
       " 'Netzero',\n",
       " 'V-Grid Energy Systems',\n",
       " 'Karbon Capture',\n",
       " 'Emergent Waste Solution',\n",
       " 'Jeffries Group',\n",
       " 'Gekka Biochar',\n",
       " 'Pyrocal',\n",
       " 'Mash makes',\n",
       " 'Carbonfuture',\n",
       " 'Carbo Culture',\n",
       " 'Husk',\n",
       " 'Climate Robotics Inc.',\n",
       " 'Bio Restorative Ideas',\n",
       " 'Auen Pflege Dienst APD Flaach',\n",
       " 'Sonnenerde',\n",
       " 'Biokol.se',\n",
       " 'UNDO',\n",
       " nan]"
      ]
     },
     "execution_count": 108,
     "metadata": {},
     "output_type": "execute_result"
    }
   ],
   "source": [
    "suppliers.sort(key=lambda x: cdr_fyi[cdr_fyi['Supplier'] == x]['Tons Delivered'].sum(), reverse=True)\n",
    "suppliers"
   ]
  },
  {
   "cell_type": "code",
   "execution_count": 109,
   "metadata": {},
   "outputs": [
    {
     "data": {
      "text/plain": [
       "0.9826641097054634"
      ]
     },
     "execution_count": 109,
     "metadata": {},
     "output_type": "execute_result"
    }
   ],
   "source": [
    "# how much in percentage of the total tons purchased does the top 10 suppliers represent?\n",
    "top_20_suppliers_p = cdr_fyi.groupby([\"Supplier\"]).sum(\"Tons Purchased\").sort_values(\"Tons Purchased\", ascending=False).head(20)\n",
    "top_20_suppliers_p['Tons Purchased'].sum() / cdr_fyi['Tons Purchased'].sum()"
   ]
  },
  {
   "cell_type": "code",
   "execution_count": 110,
   "metadata": {},
   "outputs": [
    {
     "data": {
      "text/plain": [
       "0.04523745221350604"
      ]
     },
     "execution_count": 110,
     "metadata": {},
     "output_type": "execute_result"
    }
   ],
   "source": [
    "# Share of aggregate purchased tons\n",
    "8881.890000 / cdr_fyi['Tons Purchased'].sum()"
   ]
  },
  {
   "cell_type": "code",
   "execution_count": 111,
   "metadata": {},
   "outputs": [
    {
     "data": {
      "text/plain": [
       "0.9948995634460356"
      ]
     },
     "execution_count": 111,
     "metadata": {},
     "output_type": "execute_result"
    }
   ],
   "source": [
    "top_20_suppliers_d = cdr_fyi.groupby([\"Supplier\"]).sum(\"Tons Delivered\").sort_values(\"Tons Delivered\", ascending=False).head(20)\n",
    "top_20_suppliers_d['Tons Delivered'].sum() / cdr_fyi['Tons Delivered'].sum()"
   ]
  },
  {
   "cell_type": "code",
   "execution_count": 112,
   "metadata": {},
   "outputs": [
    {
     "data": {
      "text/plain": [
       "0.1176650187557761"
      ]
     },
     "execution_count": 112,
     "metadata": {},
     "output_type": "execute_result"
    }
   ],
   "source": [
    "8881.890000 / cdr_fyi['Tons Delivered'].sum()"
   ]
  },
  {
   "cell_type": "code",
   "execution_count": 113,
   "metadata": {},
   "outputs": [
    {
     "data": {
      "text/plain": [
       "['Mash makes',\n",
       " 'Wakefield Biochar',\n",
       " 'Carbonfuture',\n",
       " 'Freres Biochar',\n",
       " 'Douglas County Forest Products',\n",
       " 'Aggregate Supplier (Marketplace Report)',\n",
       " 'Carbofex',\n",
       " 'Carbo Culture',\n",
       " 'Aperam BioEnergia',\n",
       " 'Oregon Biochar Solutions ',\n",
       " 'Echo2',\n",
       " 'Husk',\n",
       " 'Carbon Cycle',\n",
       " 'Pacific Biochar',\n",
       " 'NovoCarbo',\n",
       " 'Ecoera',\n",
       " 'Climate Robotics Inc.',\n",
       " 'Bio Restorative Ideas',\n",
       " 'Bussme',\n",
       " 'Nordgau']"
      ]
     },
     "execution_count": 113,
     "metadata": {},
     "output_type": "execute_result"
    }
   ],
   "source": [
    "# give me the top 20 as a list\n",
    "top_20_suppliers_list_p = top_20_suppliers_p.index.tolist()\n",
    "top_20_suppliers_list_p"
   ]
  },
  {
   "cell_type": "code",
   "execution_count": 114,
   "metadata": {},
   "outputs": [
    {
     "data": {
      "text/plain": [
       "['Wakefield Biochar',\n",
       " 'Douglas County Forest Products',\n",
       " 'Aggregate Supplier (Marketplace Report)',\n",
       " 'Aperam BioEnergia',\n",
       " 'Freres Biochar',\n",
       " 'Oregon Biochar Solutions ',\n",
       " 'Carbofex',\n",
       " 'NovoCarbo',\n",
       " 'Carbon Cycle',\n",
       " 'Pacific Biochar',\n",
       " 'Echo2',\n",
       " 'Bussme',\n",
       " 'Ecoera',\n",
       " 'Nordgau',\n",
       " 'Hjelmsäters Egendom',\n",
       " 'Oplandske Bio, Rudshøgda',\n",
       " 'Terra Fertilis',\n",
       " 'Premier Forest',\n",
       " 'Planboo',\n",
       " 'Netzero']"
      ]
     },
     "execution_count": 114,
     "metadata": {},
     "output_type": "execute_result"
    }
   ],
   "source": [
    "top_20_suppliers_list_d = top_20_suppliers_d.index.tolist()\n",
    "top_20_suppliers_list_d"
   ]
  },
  {
   "cell_type": "code",
   "execution_count": 115,
   "metadata": {},
   "outputs": [
    {
     "ename": "NameError",
     "evalue": "name 'top_20_suppliers_list' is not defined",
     "output_type": "error",
     "traceback": [
      "\u001b[1;31m---------------------------------------------------------------------------\u001b[0m",
      "\u001b[1;31mNameError\u001b[0m                                 Traceback (most recent call last)",
      "Cell \u001b[1;32mIn[115], line 4\u001b[0m\n\u001b[0;32m      2\u001b[0m supplier_dict \u001b[39m=\u001b[39m {}\n\u001b[0;32m      3\u001b[0m \u001b[39mfor\u001b[39;00m supplier \u001b[39min\u001b[39;00m suppliers:\n\u001b[1;32m----> 4\u001b[0m     \u001b[39mif\u001b[39;00m supplier \u001b[39min\u001b[39;00m top_20_suppliers_list:\n\u001b[0;32m      5\u001b[0m         supplier_dict[supplier] \u001b[39m=\u001b[39m supplier\n\u001b[0;32m      6\u001b[0m     \u001b[39melse\u001b[39;00m:\n",
      "\u001b[1;31mNameError\u001b[0m: name 'top_20_suppliers_list' is not defined"
     ]
    }
   ],
   "source": [
    "# create a dictionary of all suppliers where the values of all is equal to \"other\" except for the 20 in the top\n",
    "supplier_dict = {}\n",
    "for supplier in suppliers:\n",
    "    if supplier in top_20_suppliers_list:\n",
    "        supplier_dict[supplier] = supplier\n",
    "    else:\n",
    "        supplier_dict[supplier] = \"Other\"\n",
    "supplier_dict"
   ]
  },
  {
   "cell_type": "code",
   "execution_count": 116,
   "metadata": {},
   "outputs": [],
   "source": [
    "supplier_dict = {'Wakefield Biochar': 'United States',\n",
    " 'Douglas County Forest Products': 'United States',\n",
    " 'Aggregate Supplier (Marketplace Report)': 'Other',\n",
    " 'Aperam BioEnergia': 'Brazil',\n",
    " 'Freres Biochar': 'United States',\n",
    " 'Oregon Biochar Solutions ': 'United States',\n",
    " 'Carbofex': 'Finland',\n",
    " 'NovoCarbo': 'Germany',\n",
    " 'Carbon Cycle': 'United States',\n",
    " 'Pacific Biochar': 'United States',\n",
    " 'Echo2': 'Australia',\n",
    " 'Bussme': 'Sweden',\n",
    " 'Ecoera': 'Sweden',\n",
    " 'Nordgau': 'Germany',\n",
    " 'Hjelmsäters Egendom': 'Sweden',\n",
    " 'Oplandske Bio, Rudshøgda': 'Norway',\n",
    " 'Terra Fertilis': 'France',\n",
    " 'Premier Forest': 'United Kingdom',\n",
    " 'Planboo': 'Sweden',\n",
    " 'Netzero': 'France',\n",
    " 'V-Grid Energy Systems': 'United States',\n",
    " 'Karbon Capture': 'Other',\n",
    " 'Emergent Waste Solution': 'Other',\n",
    " 'Jeffries Group': 'Other',\n",
    " 'Gekka Biochar': 'Other',\n",
    " 'Pyrocal': 'Other',\n",
    " 'Mash makes': 'India',\n",
    " 'Carbonfuture': 'Germany',\n",
    " 'Carbo Culture': 'Finland',\n",
    " 'Husk': 'Other',\n",
    " 'Climate Robotics Inc.': 'United States',\n",
    " 'Bio Restorative Ideas': 'United States',\n",
    " 'Auen Pflege Dienst APD Flaach': 'Other',\n",
    " 'Sonnenerde': 'Other',\n",
    " 'Biokol.se': 'Other',\n",
    " 'UNDO': 'United Kingdom',\n",
    " np.nan: 'Other'}"
   ]
  },
  {
   "cell_type": "code",
   "execution_count": 117,
   "metadata": {},
   "outputs": [
    {
     "data": {
      "text/plain": [
       "26"
      ]
     },
     "execution_count": 117,
     "metadata": {},
     "output_type": "execute_result"
    }
   ],
   "source": [
    "# count many keys in the dictionary do not have the value other\n",
    "len([k for k, v in supplier_dict.items() if v != \"Other\"])"
   ]
  },
  {
   "cell_type": "code",
   "execution_count": 118,
   "metadata": {},
   "outputs": [
    {
     "name": "stderr",
     "output_type": "stream",
     "text": [
      "C:\\Users\\ffr\\AppData\\Local\\Temp\\ipykernel_21792\\1843714483.py:2: SettingWithCopyWarning:\n",
      "\n",
      "\n",
      "A value is trying to be set on a copy of a slice from a DataFrame.\n",
      "Try using .loc[row_indexer,col_indexer] = value instead\n",
      "\n",
      "See the caveats in the documentation: https://pandas.pydata.org/pandas-docs/stable/user_guide/indexing.html#returning-a-view-versus-a-copy\n",
      "\n"
     ]
    },
    {
     "data": {
      "text/html": [
       "<div>\n",
       "<style scoped>\n",
       "    .dataframe tbody tr th:only-of-type {\n",
       "        vertical-align: middle;\n",
       "    }\n",
       "\n",
       "    .dataframe tbody tr th {\n",
       "        vertical-align: top;\n",
       "    }\n",
       "\n",
       "    .dataframe thead th {\n",
       "        text-align: right;\n",
       "    }\n",
       "</style>\n",
       "<table border=\"1\" class=\"dataframe\">\n",
       "  <thead>\n",
       "    <tr style=\"text-align: right;\">\n",
       "      <th></th>\n",
       "      <th>Supplier</th>\n",
       "      <th>Supplier Origin</th>\n",
       "    </tr>\n",
       "  </thead>\n",
       "  <tbody>\n",
       "    <tr>\n",
       "      <th>1</th>\n",
       "      <td>Bussme</td>\n",
       "      <td>Sweden</td>\n",
       "    </tr>\n",
       "    <tr>\n",
       "      <th>3</th>\n",
       "      <td>Hjelmsäters Egendom</td>\n",
       "      <td>Sweden</td>\n",
       "    </tr>\n",
       "    <tr>\n",
       "      <th>4</th>\n",
       "      <td>Freres Biochar</td>\n",
       "      <td>United States</td>\n",
       "    </tr>\n",
       "    <tr>\n",
       "      <th>7</th>\n",
       "      <td>Freres Biochar</td>\n",
       "      <td>United States</td>\n",
       "    </tr>\n",
       "    <tr>\n",
       "      <th>8</th>\n",
       "      <td>Aggregate Supplier (Marketplace Report)</td>\n",
       "      <td>Other</td>\n",
       "    </tr>\n",
       "    <tr>\n",
       "      <th>...</th>\n",
       "      <td>...</td>\n",
       "      <td>...</td>\n",
       "    </tr>\n",
       "    <tr>\n",
       "      <th>976</th>\n",
       "      <td>NovoCarbo</td>\n",
       "      <td>Germany</td>\n",
       "    </tr>\n",
       "    <tr>\n",
       "      <th>977</th>\n",
       "      <td>Husk</td>\n",
       "      <td>Other</td>\n",
       "    </tr>\n",
       "    <tr>\n",
       "      <th>978</th>\n",
       "      <td>Carbonfuture</td>\n",
       "      <td>Germany</td>\n",
       "    </tr>\n",
       "    <tr>\n",
       "      <th>982</th>\n",
       "      <td>NovoCarbo</td>\n",
       "      <td>Germany</td>\n",
       "    </tr>\n",
       "    <tr>\n",
       "      <th>984</th>\n",
       "      <td>Oregon Biochar Solutions</td>\n",
       "      <td>United States</td>\n",
       "    </tr>\n",
       "  </tbody>\n",
       "</table>\n",
       "<p>486 rows × 2 columns</p>\n",
       "</div>"
      ],
      "text/plain": [
       "                                    Supplier Supplier Origin\n",
       "1                                     Bussme          Sweden\n",
       "3                        Hjelmsäters Egendom          Sweden\n",
       "4                             Freres Biochar   United States\n",
       "7                             Freres Biochar   United States\n",
       "8    Aggregate Supplier (Marketplace Report)           Other\n",
       "..                                       ...             ...\n",
       "976                                NovoCarbo         Germany\n",
       "977                                     Husk           Other\n",
       "978                             Carbonfuture         Germany\n",
       "982                                NovoCarbo         Germany\n",
       "984                Oregon Biochar Solutions    United States\n",
       "\n",
       "[486 rows x 2 columns]"
      ]
     },
     "execution_count": 118,
     "metadata": {},
     "output_type": "execute_result"
    }
   ],
   "source": [
    "# create a new column in the dataframe with the supplier_dict\n",
    "cdr_fyi['Supplier Origin'] = cdr_fyi['Supplier'].map(supplier_dict)\n",
    "cdr_fyi[['Supplier', 'Supplier Origin']]"
   ]
  },
  {
   "cell_type": "code",
   "execution_count": 119,
   "metadata": {},
   "outputs": [
    {
     "data": {
      "text/html": [
       "<div>\n",
       "<style scoped>\n",
       "    .dataframe tbody tr th:only-of-type {\n",
       "        vertical-align: middle;\n",
       "    }\n",
       "\n",
       "    .dataframe tbody tr th {\n",
       "        vertical-align: top;\n",
       "    }\n",
       "\n",
       "    .dataframe thead th {\n",
       "        text-align: right;\n",
       "    }\n",
       "</style>\n",
       "<table border=\"1\" class=\"dataframe\">\n",
       "  <thead>\n",
       "    <tr style=\"text-align: right;\">\n",
       "      <th></th>\n",
       "      <th>Supplier</th>\n",
       "      <th>Supplier Origin</th>\n",
       "      <th>Tons Delivered</th>\n",
       "    </tr>\n",
       "  </thead>\n",
       "  <tbody>\n",
       "    <tr>\n",
       "      <th>0</th>\n",
       "      <td>Wakefield Biochar</td>\n",
       "      <td>United States</td>\n",
       "      <td>20934.000000</td>\n",
       "    </tr>\n",
       "    <tr>\n",
       "      <th>1</th>\n",
       "      <td>Douglas County Forest Products</td>\n",
       "      <td>United States</td>\n",
       "      <td>11403.001295</td>\n",
       "    </tr>\n",
       "    <tr>\n",
       "      <th>2</th>\n",
       "      <td>Aggregate Supplier (Marketplace Report)</td>\n",
       "      <td>Other</td>\n",
       "      <td>8881.890000</td>\n",
       "    </tr>\n",
       "    <tr>\n",
       "      <th>3</th>\n",
       "      <td>Aperam BioEnergia</td>\n",
       "      <td>Brazil</td>\n",
       "      <td>7300.000000</td>\n",
       "    </tr>\n",
       "    <tr>\n",
       "      <th>4</th>\n",
       "      <td>Freres Biochar</td>\n",
       "      <td>United States</td>\n",
       "      <td>7092.996923</td>\n",
       "    </tr>\n",
       "    <tr>\n",
       "      <th>5</th>\n",
       "      <td>Oregon Biochar Solutions</td>\n",
       "      <td>United States</td>\n",
       "      <td>4098.997384</td>\n",
       "    </tr>\n",
       "    <tr>\n",
       "      <th>6</th>\n",
       "      <td>Carbofex</td>\n",
       "      <td>Finland</td>\n",
       "      <td>3975.997829</td>\n",
       "    </tr>\n",
       "    <tr>\n",
       "      <th>7</th>\n",
       "      <td>NovoCarbo</td>\n",
       "      <td>Germany</td>\n",
       "      <td>1986.809946</td>\n",
       "    </tr>\n",
       "    <tr>\n",
       "      <th>8</th>\n",
       "      <td>Carbon Cycle</td>\n",
       "      <td>United States</td>\n",
       "      <td>1781.973515</td>\n",
       "    </tr>\n",
       "    <tr>\n",
       "      <th>9</th>\n",
       "      <td>Pacific Biochar</td>\n",
       "      <td>United States</td>\n",
       "      <td>1500.000000</td>\n",
       "    </tr>\n",
       "    <tr>\n",
       "      <th>10</th>\n",
       "      <td>Echo2</td>\n",
       "      <td>Australia</td>\n",
       "      <td>1409.999784</td>\n",
       "    </tr>\n",
       "    <tr>\n",
       "      <th>11</th>\n",
       "      <td>Bussme</td>\n",
       "      <td>Sweden</td>\n",
       "      <td>909.000217</td>\n",
       "    </tr>\n",
       "    <tr>\n",
       "      <th>12</th>\n",
       "      <td>Ecoera</td>\n",
       "      <td>Sweden</td>\n",
       "      <td>891.999739</td>\n",
       "    </tr>\n",
       "    <tr>\n",
       "      <th>13</th>\n",
       "      <td>Nordgau</td>\n",
       "      <td>Germany</td>\n",
       "      <td>780.894462</td>\n",
       "    </tr>\n",
       "    <tr>\n",
       "      <th>14</th>\n",
       "      <td>Hjelmsäters Egendom</td>\n",
       "      <td>Sweden</td>\n",
       "      <td>649.999546</td>\n",
       "    </tr>\n",
       "    <tr>\n",
       "      <th>15</th>\n",
       "      <td>Oplandske Bio, Rudshøgda</td>\n",
       "      <td>Norway</td>\n",
       "      <td>630.356496</td>\n",
       "    </tr>\n",
       "    <tr>\n",
       "      <th>16</th>\n",
       "      <td>Terra Fertilis</td>\n",
       "      <td>France</td>\n",
       "      <td>280.932687</td>\n",
       "    </tr>\n",
       "    <tr>\n",
       "      <th>17</th>\n",
       "      <td>Premier Forest</td>\n",
       "      <td>United Kingdom</td>\n",
       "      <td>206.687635</td>\n",
       "    </tr>\n",
       "    <tr>\n",
       "      <th>18</th>\n",
       "      <td>Planboo</td>\n",
       "      <td>Sweden</td>\n",
       "      <td>200.000000</td>\n",
       "    </tr>\n",
       "    <tr>\n",
       "      <th>19</th>\n",
       "      <td>Netzero</td>\n",
       "      <td>France</td>\n",
       "      <td>184.000000</td>\n",
       "    </tr>\n",
       "    <tr>\n",
       "      <th>20</th>\n",
       "      <td>V-Grid Energy Systems</td>\n",
       "      <td>United States</td>\n",
       "      <td>171.000000</td>\n",
       "    </tr>\n",
       "    <tr>\n",
       "      <th>21</th>\n",
       "      <td>Karbon Capture</td>\n",
       "      <td>Other</td>\n",
       "      <td>104.000000</td>\n",
       "    </tr>\n",
       "    <tr>\n",
       "      <th>22</th>\n",
       "      <td>Emergent Waste Solution</td>\n",
       "      <td>Other</td>\n",
       "      <td>50.000000</td>\n",
       "    </tr>\n",
       "    <tr>\n",
       "      <th>23</th>\n",
       "      <td>Jeffries Group</td>\n",
       "      <td>Other</td>\n",
       "      <td>29.004115</td>\n",
       "    </tr>\n",
       "    <tr>\n",
       "      <th>24</th>\n",
       "      <td>Gekka Biochar</td>\n",
       "      <td>Other</td>\n",
       "      <td>17.000000</td>\n",
       "    </tr>\n",
       "    <tr>\n",
       "      <th>25</th>\n",
       "      <td>Pyrocal</td>\n",
       "      <td>Other</td>\n",
       "      <td>14.000000</td>\n",
       "    </tr>\n",
       "  </tbody>\n",
       "</table>\n",
       "</div>"
      ],
      "text/plain": [
       "                                   Supplier Supplier Origin  Tons Delivered\n",
       "0                         Wakefield Biochar   United States    20934.000000\n",
       "1            Douglas County Forest Products   United States    11403.001295\n",
       "2   Aggregate Supplier (Marketplace Report)           Other     8881.890000\n",
       "3                         Aperam BioEnergia          Brazil     7300.000000\n",
       "4                            Freres Biochar   United States     7092.996923\n",
       "5                 Oregon Biochar Solutions    United States     4098.997384\n",
       "6                                  Carbofex         Finland     3975.997829\n",
       "7                                 NovoCarbo         Germany     1986.809946\n",
       "8                              Carbon Cycle   United States     1781.973515\n",
       "9                           Pacific Biochar   United States     1500.000000\n",
       "10                                    Echo2       Australia     1409.999784\n",
       "11                                   Bussme          Sweden      909.000217\n",
       "12                                   Ecoera          Sweden      891.999739\n",
       "13                                  Nordgau         Germany      780.894462\n",
       "14                      Hjelmsäters Egendom          Sweden      649.999546\n",
       "15                 Oplandske Bio, Rudshøgda          Norway      630.356496\n",
       "16                           Terra Fertilis          France      280.932687\n",
       "17                           Premier Forest  United Kingdom      206.687635\n",
       "18                                  Planboo          Sweden      200.000000\n",
       "19                                  Netzero          France      184.000000\n",
       "20                    V-Grid Energy Systems   United States      171.000000\n",
       "21                           Karbon Capture           Other      104.000000\n",
       "22                  Emergent Waste Solution           Other       50.000000\n",
       "23                           Jeffries Group           Other       29.004115\n",
       "24                            Gekka Biochar           Other       17.000000\n",
       "25                                  Pyrocal           Other       14.000000"
      ]
     },
     "execution_count": 119,
     "metadata": {},
     "output_type": "execute_result"
    }
   ],
   "source": [
    "# ALL BIOCHAR DELIVERED\n",
    "deliver = cdr_fyi.groupby([\"Supplier\"]).sum(\"Tons Delivered\").sort_values(\"Tons Delivered\", ascending=False)\n",
    "deliver = deliver[deliver[\"Tons Delivered\"] > 0]\n",
    "deliver.reset_index(inplace=True)\n",
    "deliver['Supplier Origin'] = deliver['Supplier'].map(supplier_dict)\n",
    "deliver[[\"Supplier\", \"Supplier Origin\", \"Tons Delivered\"]]"
   ]
  },
  {
   "cell_type": "code",
   "execution_count": 120,
   "metadata": {},
   "outputs": [
    {
     "data": {
      "text/html": [
       "<div>\n",
       "<style scoped>\n",
       "    .dataframe tbody tr th:only-of-type {\n",
       "        vertical-align: middle;\n",
       "    }\n",
       "\n",
       "    .dataframe tbody tr th {\n",
       "        vertical-align: top;\n",
       "    }\n",
       "\n",
       "    .dataframe thead th {\n",
       "        text-align: right;\n",
       "    }\n",
       "</style>\n",
       "<table border=\"1\" class=\"dataframe\">\n",
       "  <thead>\n",
       "    <tr style=\"text-align: right;\">\n",
       "      <th></th>\n",
       "      <th>Supplier Origin</th>\n",
       "      <th>Tons Delivered</th>\n",
       "      <th>Tons Purchased</th>\n",
       "    </tr>\n",
       "  </thead>\n",
       "  <tbody>\n",
       "    <tr>\n",
       "      <th>0</th>\n",
       "      <td>United States</td>\n",
       "      <td>46981.969118</td>\n",
       "      <td>78291.149803</td>\n",
       "    </tr>\n",
       "    <tr>\n",
       "      <th>1</th>\n",
       "      <td>India</td>\n",
       "      <td>0.000000</td>\n",
       "      <td>51533.000000</td>\n",
       "    </tr>\n",
       "    <tr>\n",
       "      <th>2</th>\n",
       "      <td>Germany</td>\n",
       "      <td>2767.704408</td>\n",
       "      <td>21218.619550</td>\n",
       "    </tr>\n",
       "    <tr>\n",
       "      <th>3</th>\n",
       "      <td>Finland</td>\n",
       "      <td>3975.997829</td>\n",
       "      <td>15935.308829</td>\n",
       "    </tr>\n",
       "    <tr>\n",
       "      <th>4</th>\n",
       "      <td>Other</td>\n",
       "      <td>9095.894115</td>\n",
       "      <td>13364.630315</td>\n",
       "    </tr>\n",
       "    <tr>\n",
       "      <th>5</th>\n",
       "      <td>Brazil</td>\n",
       "      <td>7300.000000</td>\n",
       "      <td>7300.000000</td>\n",
       "    </tr>\n",
       "    <tr>\n",
       "      <th>6</th>\n",
       "      <td>Australia</td>\n",
       "      <td>1409.999784</td>\n",
       "      <td>4498.621784</td>\n",
       "    </tr>\n",
       "    <tr>\n",
       "      <th>7</th>\n",
       "      <td>Sweden</td>\n",
       "      <td>2650.999502</td>\n",
       "      <td>2890.999502</td>\n",
       "    </tr>\n",
       "    <tr>\n",
       "      <th>8</th>\n",
       "      <td>Norway</td>\n",
       "      <td>630.356496</td>\n",
       "      <td>635.356496</td>\n",
       "    </tr>\n",
       "    <tr>\n",
       "      <th>9</th>\n",
       "      <td>France</td>\n",
       "      <td>464.932687</td>\n",
       "      <td>464.932687</td>\n",
       "    </tr>\n",
       "    <tr>\n",
       "      <th>10</th>\n",
       "      <td>United Kingdom</td>\n",
       "      <td>206.687635</td>\n",
       "      <td>206.687635</td>\n",
       "    </tr>\n",
       "  </tbody>\n",
       "</table>\n",
       "</div>"
      ],
      "text/plain": [
       "   Supplier Origin  Tons Delivered  Tons Purchased\n",
       "0    United States    46981.969118    78291.149803\n",
       "1            India        0.000000    51533.000000\n",
       "2          Germany     2767.704408    21218.619550\n",
       "3          Finland     3975.997829    15935.308829\n",
       "4            Other     9095.894115    13364.630315\n",
       "5           Brazil     7300.000000     7300.000000\n",
       "6        Australia     1409.999784     4498.621784\n",
       "7           Sweden     2650.999502     2890.999502\n",
       "8           Norway      630.356496      635.356496\n",
       "9           France      464.932687      464.932687\n",
       "10  United Kingdom      206.687635      206.687635"
      ]
     },
     "execution_count": 120,
     "metadata": {},
     "output_type": "execute_result"
    }
   ],
   "source": [
    "og = cdr_fyi.groupby([\"Supplier Origin\"]).sum(\"Tons Purchased\").sort_values(\"Tons Purchased\", ascending=False)\n",
    "og = og[[\"Tons Delivered\", \"Tons Purchased\"]].reset_index()\n",
    "og"
   ]
  },
  {
   "cell_type": "code",
   "execution_count": 121,
   "metadata": {},
   "outputs": [
    {
     "name": "stdout",
     "output_type": "stream",
     "text": [
      "196339.30660109624\n",
      "196339.3066010962\n",
      "75484.5415733552\n",
      "75484.54157335519\n"
     ]
    }
   ],
   "source": [
    "print(og[\"Tons Purchased\"].sum()) \n",
    "print(cdr_fyi['Tons Purchased'].sum())\n",
    "\n",
    "print(og[\"Tons Delivered\"].sum()) \n",
    "print(cdr_fyi['Tons Delivered'].sum())"
   ]
  },
  {
   "attachments": {},
   "cell_type": "markdown",
   "metadata": {},
   "source": [
    "# Tons Purchased"
   ]
  },
  {
   "cell_type": "code",
   "execution_count": 122,
   "metadata": {},
   "outputs": [
    {
     "data": {
      "text/html": [
       "<div>\n",
       "<style scoped>\n",
       "    .dataframe tbody tr th:only-of-type {\n",
       "        vertical-align: middle;\n",
       "    }\n",
       "\n",
       "    .dataframe tbody tr th {\n",
       "        vertical-align: top;\n",
       "    }\n",
       "\n",
       "    .dataframe thead th {\n",
       "        text-align: right;\n",
       "    }\n",
       "</style>\n",
       "<table border=\"1\" class=\"dataframe\">\n",
       "  <thead>\n",
       "    <tr style=\"text-align: right;\">\n",
       "      <th></th>\n",
       "      <th>Supplier Origin</th>\n",
       "      <th>Tons Purchased</th>\n",
       "    </tr>\n",
       "  </thead>\n",
       "  <tbody>\n",
       "    <tr>\n",
       "      <th>0</th>\n",
       "      <td>United States</td>\n",
       "      <td>78291.149803</td>\n",
       "    </tr>\n",
       "    <tr>\n",
       "      <th>1</th>\n",
       "      <td>India</td>\n",
       "      <td>51533.000000</td>\n",
       "    </tr>\n",
       "    <tr>\n",
       "      <th>2</th>\n",
       "      <td>Germany</td>\n",
       "      <td>21218.619550</td>\n",
       "    </tr>\n",
       "    <tr>\n",
       "      <th>3</th>\n",
       "      <td>Finland</td>\n",
       "      <td>15935.308829</td>\n",
       "    </tr>\n",
       "    <tr>\n",
       "      <th>4</th>\n",
       "      <td>Other</td>\n",
       "      <td>13364.630315</td>\n",
       "    </tr>\n",
       "    <tr>\n",
       "      <th>5</th>\n",
       "      <td>Brazil</td>\n",
       "      <td>7300.000000</td>\n",
       "    </tr>\n",
       "    <tr>\n",
       "      <th>6</th>\n",
       "      <td>Australia</td>\n",
       "      <td>4498.621784</td>\n",
       "    </tr>\n",
       "    <tr>\n",
       "      <th>7</th>\n",
       "      <td>Sweden</td>\n",
       "      <td>2890.999502</td>\n",
       "    </tr>\n",
       "    <tr>\n",
       "      <th>8</th>\n",
       "      <td>Norway</td>\n",
       "      <td>635.356496</td>\n",
       "    </tr>\n",
       "    <tr>\n",
       "      <th>9</th>\n",
       "      <td>France</td>\n",
       "      <td>464.932687</td>\n",
       "    </tr>\n",
       "    <tr>\n",
       "      <th>10</th>\n",
       "      <td>United Kingdom</td>\n",
       "      <td>206.687635</td>\n",
       "    </tr>\n",
       "  </tbody>\n",
       "</table>\n",
       "</div>"
      ],
      "text/plain": [
       "   Supplier Origin  Tons Purchased\n",
       "0    United States    78291.149803\n",
       "1            India    51533.000000\n",
       "2          Germany    21218.619550\n",
       "3          Finland    15935.308829\n",
       "4            Other    13364.630315\n",
       "5           Brazil     7300.000000\n",
       "6        Australia     4498.621784\n",
       "7           Sweden     2890.999502\n",
       "8           Norway      635.356496\n",
       "9           France      464.932687\n",
       "10  United Kingdom      206.687635"
      ]
     },
     "execution_count": 122,
     "metadata": {},
     "output_type": "execute_result"
    }
   ],
   "source": [
    "ogp = og.sort_values(\"Tons Purchased\", ascending=False)[[\"Supplier Origin\", \"Tons Purchased\"]]\n",
    "ogp"
   ]
  },
  {
   "cell_type": "code",
   "execution_count": 123,
   "metadata": {},
   "outputs": [
    {
     "data": {
      "text/plain": [
       "(array([ 0,  1,  2,  3,  4,  5,  6,  7,  8,  9, 10]),\n",
       " [Text(0, 0, 'United States'),\n",
       "  Text(1, 0, 'India'),\n",
       "  Text(2, 0, 'Germany'),\n",
       "  Text(3, 0, 'Finland'),\n",
       "  Text(4, 0, 'Other'),\n",
       "  Text(5, 0, 'Brazil'),\n",
       "  Text(6, 0, 'Australia'),\n",
       "  Text(7, 0, 'Sweden'),\n",
       "  Text(8, 0, 'Norway'),\n",
       "  Text(9, 0, 'France'),\n",
       "  Text(10, 0, 'United Kingdom')])"
      ]
     },
     "execution_count": 123,
     "metadata": {},
     "output_type": "execute_result"
    },
    {
     "data": {
      "image/png": "[encoded data removed]",
      "text/plain": [
       "<Figure size 1000x600 with 1 Axes>"
      ]
     },
     "metadata": {},
     "output_type": "display_data"
    }
   ],
   "source": [
    "from matplotlib.ticker import FuncFormatter\n",
    "\n",
    "ogp['Percentage'] = (ogp['Tons Purchased'] / ogp['Tons Purchased'].sum()) * 100\n",
    "plt.figure(figsize=(10, 6))\n",
    "barplot = sns.barplot(x='Supplier Origin', y='Tons Purchased', data=ogp, color='grey')\n",
    "for i, p in enumerate(barplot.patches):\n",
    "    height = p.get_height()\n",
    "    barplot.text(p.get_x()+p.get_width()/2.,\n",
    "            height + 800,\n",
    "            '{:1.2f}%'.format(ogp['Percentage'][i]),\n",
    "            ha=\"center\")\n",
    "barplot.set_ylabel('Tons of CO2e Purchased')\n",
    "y_labels = barplot.get_yticks()\n",
    "barplot.yaxis.set_major_formatter(FuncFormatter(lambda x, _: '{:,.0f}'.format(x)))\n",
    "plt.xticks(rotation=20)"
   ]
  },
  {
   "cell_type": "code",
   "execution_count": 124,
   "metadata": {},
   "outputs": [
    {
     "data": {
      "application/vnd.plotly.v1+json": {
       "config": {
        "plotlyServerURL": "https://plot.ly"
       },
       "data": [
        {
         "marker": {
          "color": "grey"
         },
         "text": [
          "39.88%",
          "26.25%",
          "10.81%",
          "8.12%",
          "6.81%",
          "3.72%",
          "2.29%",
          "1.47%",
          "0.32%",
          "0.24%",
          "0.11%"
         ],
         "textposition": "outside",
         "type": "bar",
         "x": [
          "United States",
          "India",
          "Germany",
          "Finland",
          "Other",
          "Brazil",
          "Australia",
          "Sweden",
          "Norway",
          "France",
          "United Kingdom"
         ],
         "y": [
          78291.1498025514,
          51533,
          21218.619550386,
          15935.308829169,
          13364.6303151,
          7300,
          4498.6217835104,
          2890.9995017404,
          635.35649609,
          464.93268727900005,
          206.68763527000002
         ]
        }
       ],
       "layout": {
        "autosize": false,
        "height": 600,
        "template": {
         "data": {
          "bar": [
           {
            "error_x": {
             "color": "#2a3f5f"
            },
            "error_y": {
             "color": "#2a3f5f"
            },
            "marker": {
             "line": {
              "color": "#E5ECF6",
              "width": 0.5
             },
             "pattern": {
              "fillmode": "overlay",
              "size": 10,
              "solidity": 0.2
             }
            },
            "type": "bar"
           }
          ],
          "barpolar": [
           {
            "marker": {
             "line": {
              "color": "#E5ECF6",
              "width": 0.5
             },
             "pattern": {
              "fillmode": "overlay",
              "size": 10,
              "solidity": 0.2
             }
            },
            "type": "barpolar"
           }
          ],
          "carpet": [
           {
            "aaxis": {
             "endlinecolor": "#2a3f5f",
             "gridcolor": "white",
             "linecolor": "white",
             "minorgridcolor": "white",
             "startlinecolor": "#2a3f5f"
            },
            "baxis": {
             "endlinecolor": "#2a3f5f",
             "gridcolor": "white",
             "linecolor": "white",
             "minorgridcolor": "white",
             "startlinecolor": "#2a3f5f"
            },
            "type": "carpet"
           }
          ],
          "choropleth": [
           {
            "colorbar": {
             "outlinewidth": 0,
             "ticks": ""
            },
            "type": "choropleth"
           }
          ],
          "contour": [
           {
            "colorbar": {
             "outlinewidth": 0,
             "ticks": ""
            },
            "colorscale": [
             [
              0,
              "#0d0887"
             ],
             [
              0.1111111111111111,
              "#46039f"
             ],
             [
              0.2222222222222222,
              "#7201a8"
             ],
             [
              0.3333333333333333,
              "#9c179e"
             ],
             [
              0.4444444444444444,
              "#bd3786"
             ],
             [
              0.5555555555555556,
              "#d8576b"
             ],
             [
              0.6666666666666666,
              "#ed7953"
             ],
             [
              0.7777777777777778,
              "#fb9f3a"
             ],
             [
              0.8888888888888888,
              "#fdca26"
             ],
             [
              1,
              "#f0f921"
             ]
            ],
            "type": "contour"
           }
          ],
          "contourcarpet": [
           {
            "colorbar": {
             "outlinewidth": 0,
             "ticks": ""
            },
            "type": "contourcarpet"
           }
          ],
          "heatmap": [
           {
            "colorbar": {
             "outlinewidth": 0,
             "ticks": ""
            },
            "colorscale": [
             [
              0,
              "#0d0887"
             ],
             [
              0.1111111111111111,
              "#46039f"
             ],
             [
              0.2222222222222222,
              "#7201a8"
             ],
             [
              0.3333333333333333,
              "#9c179e"
             ],
             [
              0.4444444444444444,
              "#bd3786"
             ],
             [
              0.5555555555555556,
              "#d8576b"
             ],
             [
              0.6666666666666666,
              "#ed7953"
             ],
             [
              0.7777777777777778,
              "#fb9f3a"
             ],
             [
              0.8888888888888888,
              "#fdca26"
             ],
             [
              1,
              "#f0f921"
             ]
            ],
            "type": "heatmap"
           }
          ],
          "heatmapgl": [
           {
            "colorbar": {
             "outlinewidth": 0,
             "ticks": ""
            },
            "colorscale": [
             [
              0,
              "#0d0887"
             ],
             [
              0.1111111111111111,
              "#46039f"
             ],
             [
              0.2222222222222222,
              "#7201a8"
             ],
             [
              0.3333333333333333,
              "#9c179e"
             ],
             [
              0.4444444444444444,
              "#bd3786"
             ],
             [
              0.5555555555555556,
              "#d8576b"
             ],
             [
              0.6666666666666666,
              "#ed7953"
             ],
             [
              0.7777777777777778,
              "#fb9f3a"
             ],
             [
              0.8888888888888888,
              "#fdca26"
             ],
             [
              1,
              "#f0f921"
             ]
            ],
            "type": "heatmapgl"
           }
          ],
          "histogram": [
           {
            "marker": {
             "pattern": {
              "fillmode": "overlay",
              "size": 10,
              "solidity": 0.2
             }
            },
            "type": "histogram"
           }
          ],
          "histogram2d": [
           {
            "colorbar": {
             "outlinewidth": 0,
             "ticks": ""
            },
            "colorscale": [
             [
              0,
              "#0d0887"
             ],
             [
              0.1111111111111111,
              "#46039f"
             ],
             [
              0.2222222222222222,
              "#7201a8"
             ],
             [
              0.3333333333333333,
              "#9c179e"
             ],
             [
              0.4444444444444444,
              "#bd3786"
             ],
             [
              0.5555555555555556,
              "#d8576b"
             ],
             [
              0.6666666666666666,
              "#ed7953"
             ],
             [
              0.7777777777777778,
              "#fb9f3a"
             ],
             [
              0.8888888888888888,
              "#fdca26"
             ],
             [
              1,
              "#f0f921"
             ]
            ],
            "type": "histogram2d"
           }
          ],
          "histogram2dcontour": [
           {
            "colorbar": {
             "outlinewidth": 0,
             "ticks": ""
            },
            "colorscale": [
             [
              0,
              "#0d0887"
             ],
             [
              0.1111111111111111,
              "#46039f"
             ],
             [
              0.2222222222222222,
              "#7201a8"
             ],
             [
              0.3333333333333333,
              "#9c179e"
             ],
             [
              0.4444444444444444,
              "#bd3786"
             ],
             [
              0.5555555555555556,
              "#d8576b"
             ],
             [
              0.6666666666666666,
              "#ed7953"
             ],
             [
              0.7777777777777778,
              "#fb9f3a"
             ],
             [
              0.8888888888888888,
              "#fdca26"
             ],
             [
              1,
              "#f0f921"
             ]
            ],
            "type": "histogram2dcontour"
           }
          ],
          "mesh3d": [
           {
            "colorbar": {
             "outlinewidth": 0,
             "ticks": ""
            },
            "type": "mesh3d"
           }
          ],
          "parcoords": [
           {
            "line": {
             "colorbar": {
              "outlinewidth": 0,
              "ticks": ""
             }
            },
            "type": "parcoords"
           }
          ],
          "pie": [
           {
            "automargin": true,
            "type": "pie"
           }
          ],
          "scatter": [
           {
            "fillpattern": {
             "fillmode": "overlay",
             "size": 10,
             "solidity": 0.2
            },
            "type": "scatter"
           }
          ],
          "scatter3d": [
           {
            "line": {
             "colorbar": {
              "outlinewidth": 0,
              "ticks": ""
             }
            },
            "marker": {
             "colorbar": {
              "outlinewidth": 0,
              "ticks": ""
             }
            },
            "type": "scatter3d"
           }
          ],
          "scattercarpet": [
           {
            "marker": {
             "colorbar": {
              "outlinewidth": 0,
              "ticks": ""
             }
            },
            "type": "scattercarpet"
           }
          ],
          "scattergeo": [
           {
            "marker": {
             "colorbar": {
              "outlinewidth": 0,
              "ticks": ""
             }
            },
            "type": "scattergeo"
           }
          ],
          "scattergl": [
           {
            "marker": {
             "colorbar": {
              "outlinewidth": 0,
              "ticks": ""
             }
            },
            "type": "scattergl"
           }
          ],
          "scattermapbox": [
           {
            "marker": {
             "colorbar": {
              "outlinewidth": 0,
              "ticks": ""
             }
            },
            "type": "scattermapbox"
           }
          ],
          "scatterpolar": [
           {
            "marker": {
             "colorbar": {
              "outlinewidth": 0,
              "ticks": ""
             }
            },
            "type": "scatterpolar"
           }
          ],
          "scatterpolargl": [
           {
            "marker": {
             "colorbar": {
              "outlinewidth": 0,
              "ticks": ""
             }
            },
            "type": "scatterpolargl"
           }
          ],
          "scatterternary": [
           {
            "marker": {
             "colorbar": {
              "outlinewidth": 0,
              "ticks": ""
             }
            },
            "type": "scatterternary"
           }
          ],
          "surface": [
           {
            "colorbar": {
             "outlinewidth": 0,
             "ticks": ""
            },
            "colorscale": [
             [
              0,
              "#0d0887"
             ],
             [
              0.1111111111111111,
              "#46039f"
             ],
             [
              0.2222222222222222,
              "#7201a8"
             ],
             [
              0.3333333333333333,
              "#9c179e"
             ],
             [
              0.4444444444444444,
              "#bd3786"
             ],
             [
              0.5555555555555556,
              "#d8576b"
             ],
             [
              0.6666666666666666,
              "#ed7953"
             ],
             [
              0.7777777777777778,
              "#fb9f3a"
             ],
             [
              0.8888888888888888,
              "#fdca26"
             ],
             [
              1,
              "#f0f921"
             ]
            ],
            "type": "surface"
           }
          ],
          "table": [
           {
            "cells": {
             "fill": {
              "color": "#EBF0F8"
             },
             "line": {
              "color": "white"
             }
            },
            "header": {
             "fill": {
              "color": "#C8D4E3"
             },
             "line": {
              "color": "white"
             }
            },
            "type": "table"
           }
          ]
         },
         "layout": {
          "annotationdefaults": {
           "arrowcolor": "#2a3f5f",
           "arrowhead": 0,
           "arrowwidth": 1
          },
          "autotypenumbers": "strict",
          "coloraxis": {
           "colorbar": {
            "outlinewidth": 0,
            "ticks": ""
           }
          },
          "colorscale": {
           "diverging": [
            [
             0,
             "#8e0152"
            ],
            [
             0.1,
             "#c51b7d"
            ],
            [
             0.2,
             "#de77ae"
            ],
            [
             0.3,
             "#f1b6da"
            ],
            [
             0.4,
             "#fde0ef"
            ],
            [
             0.5,
             "#f7f7f7"
            ],
            [
             0.6,
             "#e6f5d0"
            ],
            [
             0.7,
             "#b8e186"
            ],
            [
             0.8,
             "#7fbc41"
            ],
            [
             0.9,
             "#4d9221"
            ],
            [
             1,
             "#276419"
            ]
           ],
           "sequential": [
            [
             0,
             "#0d0887"
            ],
            [
             0.1111111111111111,
             "#46039f"
            ],
            [
             0.2222222222222222,
             "#7201a8"
            ],
            [
             0.3333333333333333,
             "#9c179e"
            ],
            [
             0.4444444444444444,
             "#bd3786"
            ],
            [
             0.5555555555555556,
             "#d8576b"
            ],
            [
             0.6666666666666666,
             "#ed7953"
            ],
            [
             0.7777777777777778,
             "#fb9f3a"
            ],
            [
             0.8888888888888888,
             "#fdca26"
            ],
            [
             1,
             "#f0f921"
            ]
           ],
           "sequentialminus": [
            [
             0,
             "#0d0887"
            ],
            [
             0.1111111111111111,
             "#46039f"
            ],
            [
             0.2222222222222222,
             "#7201a8"
            ],
            [
             0.3333333333333333,
             "#9c179e"
            ],
            [
             0.4444444444444444,
             "#bd3786"
            ],
            [
             0.5555555555555556,
             "#d8576b"
            ],
            [
             0.6666666666666666,
             "#ed7953"
            ],
            [
             0.7777777777777778,
             "#fb9f3a"
            ],
            [
             0.8888888888888888,
             "#fdca26"
            ],
            [
             1,
             "#f0f921"
            ]
           ]
          },
          "colorway": [
           "#636efa",
           "#EF553B",
           "#00cc96",
           "#ab63fa",
           "#FFA15A",
           "#19d3f3",
           "#FF6692",
           "#B6E880",
           "#FF97FF",
           "#FECB52"
          ],
          "font": {
           "color": "#2a3f5f"
          },
          "geo": {
           "bgcolor": "white",
           "lakecolor": "white",
           "landcolor": "#E5ECF6",
           "showlakes": true,
           "showland": true,
           "subunitcolor": "white"
          },
          "hoverlabel": {
           "align": "left"
          },
          "hovermode": "closest",
          "mapbox": {
           "style": "light"
          },
          "paper_bgcolor": "white",
          "plot_bgcolor": "#E5ECF6",
          "polar": {
           "angularaxis": {
            "gridcolor": "white",
            "linecolor": "white",
            "ticks": ""
           },
           "bgcolor": "#E5ECF6",
           "radialaxis": {
            "gridcolor": "white",
            "linecolor": "white",
            "ticks": ""
           }
          },
          "scene": {
           "xaxis": {
            "backgroundcolor": "#E5ECF6",
            "gridcolor": "white",
            "gridwidth": 2,
            "linecolor": "white",
            "showbackground": true,
            "ticks": "",
            "zerolinecolor": "white"
           },
           "yaxis": {
            "backgroundcolor": "#E5ECF6",
            "gridcolor": "white",
            "gridwidth": 2,
            "linecolor": "white",
            "showbackground": true,
            "ticks": "",
            "zerolinecolor": "white"
           },
           "zaxis": {
            "backgroundcolor": "#E5ECF6",
            "gridcolor": "white",
            "gridwidth": 2,
            "linecolor": "white",
            "showbackground": true,
            "ticks": "",
            "zerolinecolor": "white"
           }
          },
          "shapedefaults": {
           "line": {
            "color": "#2a3f5f"
           }
          },
          "ternary": {
           "aaxis": {
            "gridcolor": "white",
            "linecolor": "white",
            "ticks": ""
           },
           "baxis": {
            "gridcolor": "white",
            "linecolor": "white",
            "ticks": ""
           },
           "bgcolor": "#E5ECF6",
           "caxis": {
            "gridcolor": "white",
            "linecolor": "white",
            "ticks": ""
           }
          },
          "title": {
           "x": 0.05
          },
          "xaxis": {
           "automargin": true,
           "gridcolor": "white",
           "linecolor": "white",
           "ticks": "",
           "title": {
            "standoff": 15
           },
           "zerolinecolor": "white",
           "zerolinewidth": 2
          },
          "yaxis": {
           "automargin": true,
           "gridcolor": "white",
           "linecolor": "white",
           "ticks": "",
           "title": {
            "standoff": 15
           },
           "zerolinecolor": "white",
           "zerolinewidth": 2
          }
         }
        },
        "title": {
         "text": "Tons of Biochar CO2e Sold per Country (including Pre-purchases)"
        },
        "width": 1000,
        "xaxis": {
         "tickangle": 20
        },
        "yaxis": {
         "tickformat": ",",
         "title": {
          "text": "Tons of CO2e Sold"
         }
        }
       }
      }
     },
     "metadata": {},
     "output_type": "display_data"
    }
   ],
   "source": [
    "import plotly.graph_objects as go\n",
    "\n",
    "# Calculate percentages\n",
    "ogp['Percentage'] = (ogp['Tons Purchased'] / ogp['Tons Purchased'].sum()) * 100\n",
    "\n",
    "# Create bar chart\n",
    "fig = go.Figure(data=go.Bar(\n",
    "    x=ogp['Supplier Origin'], \n",
    "    y=ogp['Tons Purchased'], \n",
    "    text=ogp['Percentage'].round(2).apply(lambda x: '{:,.2f}%'.format(x)),  # Add percentage annotations\n",
    "    textposition='outside', \n",
    "    marker_color='grey'\n",
    "))\n",
    "\n",
    "# Set figure size, y-axis label, and y-axis tick format\n",
    "fig.update_layout(\n",
    "    autosize=False,\n",
    "    width=1000,\n",
    "    height=600,\n",
    "    yaxis=dict(\n",
    "        title_text=\"Tons of CO2e Sold\",\n",
    "        tickformat=\",\",  # Add comma separators\n",
    "    ),\n",
    "    title=\"Tons of Biochar CO2e Sold per Country (including Pre-purchases)\"\n",
    ")\n",
    "\n",
    "# Rotate x-axis labels\n",
    "fig.update_xaxes(tickangle=20)\n",
    "\n",
    "fig.show()"
   ]
  },
  {
   "cell_type": "code",
   "execution_count": 125,
   "metadata": {},
   "outputs": [
    {
     "data": {
      "text/html": [
       "<div>\n",
       "<style scoped>\n",
       "    .dataframe tbody tr th:only-of-type {\n",
       "        vertical-align: middle;\n",
       "    }\n",
       "\n",
       "    .dataframe tbody tr th {\n",
       "        vertical-align: top;\n",
       "    }\n",
       "\n",
       "    .dataframe thead th {\n",
       "        text-align: right;\n",
       "    }\n",
       "</style>\n",
       "<table border=\"1\" class=\"dataframe\">\n",
       "  <thead>\n",
       "    <tr style=\"text-align: right;\">\n",
       "      <th></th>\n",
       "      <th>Supplier Origin</th>\n",
       "      <th>Tons Purchased</th>\n",
       "      <th>Percentage</th>\n",
       "      <th>percentage</th>\n",
       "    </tr>\n",
       "  </thead>\n",
       "  <tbody>\n",
       "    <tr>\n",
       "      <th>0</th>\n",
       "      <td>United States</td>\n",
       "      <td>78291.149803</td>\n",
       "      <td>39.875434</td>\n",
       "      <td>0.398754</td>\n",
       "    </tr>\n",
       "    <tr>\n",
       "      <th>1</th>\n",
       "      <td>India</td>\n",
       "      <td>51533.000000</td>\n",
       "      <td>26.246909</td>\n",
       "      <td>0.262469</td>\n",
       "    </tr>\n",
       "    <tr>\n",
       "      <th>2</th>\n",
       "      <td>Germany</td>\n",
       "      <td>21218.619550</td>\n",
       "      <td>10.807117</td>\n",
       "      <td>0.108071</td>\n",
       "    </tr>\n",
       "    <tr>\n",
       "      <th>3</th>\n",
       "      <td>Finland</td>\n",
       "      <td>15935.308829</td>\n",
       "      <td>8.116209</td>\n",
       "      <td>0.081162</td>\n",
       "    </tr>\n",
       "    <tr>\n",
       "      <th>4</th>\n",
       "      <td>Other</td>\n",
       "      <td>13364.630315</td>\n",
       "      <td>6.806905</td>\n",
       "      <td>0.068069</td>\n",
       "    </tr>\n",
       "    <tr>\n",
       "      <th>5</th>\n",
       "      <td>Brazil</td>\n",
       "      <td>7300.000000</td>\n",
       "      <td>3.718053</td>\n",
       "      <td>0.037181</td>\n",
       "    </tr>\n",
       "    <tr>\n",
       "      <th>6</th>\n",
       "      <td>Australia</td>\n",
       "      <td>4498.621784</td>\n",
       "      <td>2.291249</td>\n",
       "      <td>0.022912</td>\n",
       "    </tr>\n",
       "    <tr>\n",
       "      <th>7</th>\n",
       "      <td>Sweden</td>\n",
       "      <td>2890.999502</td>\n",
       "      <td>1.472451</td>\n",
       "      <td>0.014725</td>\n",
       "    </tr>\n",
       "    <tr>\n",
       "      <th>8</th>\n",
       "      <td>Norway</td>\n",
       "      <td>635.356496</td>\n",
       "      <td>0.323601</td>\n",
       "      <td>0.003236</td>\n",
       "    </tr>\n",
       "    <tr>\n",
       "      <th>9</th>\n",
       "      <td>France</td>\n",
       "      <td>464.932687</td>\n",
       "      <td>0.236801</td>\n",
       "      <td>0.002368</td>\n",
       "    </tr>\n",
       "    <tr>\n",
       "      <th>10</th>\n",
       "      <td>United Kingdom</td>\n",
       "      <td>206.687635</td>\n",
       "      <td>0.105271</td>\n",
       "      <td>0.001053</td>\n",
       "    </tr>\n",
       "  </tbody>\n",
       "</table>\n",
       "</div>"
      ],
      "text/plain": [
       "   Supplier Origin  Tons Purchased  Percentage  percentage\n",
       "0    United States    78291.149803   39.875434    0.398754\n",
       "1            India    51533.000000   26.246909    0.262469\n",
       "2          Germany    21218.619550   10.807117    0.108071\n",
       "3          Finland    15935.308829    8.116209    0.081162\n",
       "4            Other    13364.630315    6.806905    0.068069\n",
       "5           Brazil     7300.000000    3.718053    0.037181\n",
       "6        Australia     4498.621784    2.291249    0.022912\n",
       "7           Sweden     2890.999502    1.472451    0.014725\n",
       "8           Norway      635.356496    0.323601    0.003236\n",
       "9           France      464.932687    0.236801    0.002368\n",
       "10  United Kingdom      206.687635    0.105271    0.001053"
      ]
     },
     "execution_count": 125,
     "metadata": {},
     "output_type": "execute_result"
    }
   ],
   "source": [
    "# find the row where supplier origin is equal to \"Denmark\"\n",
    "ogp[\"percentage\"] = ogp[\"Tons Purchased\"] / ogp['Tons Purchased'].sum()\n",
    "ogp"
   ]
  },
  {
   "cell_type": "code",
   "execution_count": 126,
   "metadata": {},
   "outputs": [
    {
     "data": {
      "text/html": [
       "<div>\n",
       "<style scoped>\n",
       "    .dataframe tbody tr th:only-of-type {\n",
       "        vertical-align: middle;\n",
       "    }\n",
       "\n",
       "    .dataframe tbody tr th {\n",
       "        vertical-align: top;\n",
       "    }\n",
       "\n",
       "    .dataframe thead th {\n",
       "        text-align: right;\n",
       "    }\n",
       "</style>\n",
       "<table border=\"1\" class=\"dataframe\">\n",
       "  <thead>\n",
       "    <tr style=\"text-align: right;\">\n",
       "      <th></th>\n",
       "      <th>Supplier Origin</th>\n",
       "      <th>Tons Purchased</th>\n",
       "      <th>Percentage</th>\n",
       "      <th>percentage</th>\n",
       "    </tr>\n",
       "  </thead>\n",
       "  <tbody>\n",
       "    <tr>\n",
       "      <th>0</th>\n",
       "      <td>United States</td>\n",
       "      <td>78291.149803</td>\n",
       "      <td>39.875434</td>\n",
       "      <td>0.398754</td>\n",
       "    </tr>\n",
       "    <tr>\n",
       "      <th>1</th>\n",
       "      <td>India</td>\n",
       "      <td>51533.000000</td>\n",
       "      <td>26.246909</td>\n",
       "      <td>0.262469</td>\n",
       "    </tr>\n",
       "    <tr>\n",
       "      <th>2</th>\n",
       "      <td>Germany</td>\n",
       "      <td>21218.619550</td>\n",
       "      <td>10.807117</td>\n",
       "      <td>0.108071</td>\n",
       "    </tr>\n",
       "    <tr>\n",
       "      <th>3</th>\n",
       "      <td>Finland</td>\n",
       "      <td>15935.308829</td>\n",
       "      <td>8.116209</td>\n",
       "      <td>0.081162</td>\n",
       "    </tr>\n",
       "    <tr>\n",
       "      <th>4</th>\n",
       "      <td>Other</td>\n",
       "      <td>13364.630315</td>\n",
       "      <td>6.806905</td>\n",
       "      <td>0.068069</td>\n",
       "    </tr>\n",
       "    <tr>\n",
       "      <th>5</th>\n",
       "      <td>Brazil</td>\n",
       "      <td>7300.000000</td>\n",
       "      <td>3.718053</td>\n",
       "      <td>0.037181</td>\n",
       "    </tr>\n",
       "    <tr>\n",
       "      <th>6</th>\n",
       "      <td>Australia</td>\n",
       "      <td>4498.621784</td>\n",
       "      <td>2.291249</td>\n",
       "      <td>0.022912</td>\n",
       "    </tr>\n",
       "    <tr>\n",
       "      <th>7</th>\n",
       "      <td>Sweden</td>\n",
       "      <td>2890.999502</td>\n",
       "      <td>1.472451</td>\n",
       "      <td>0.014725</td>\n",
       "    </tr>\n",
       "    <tr>\n",
       "      <th>8</th>\n",
       "      <td>Norway</td>\n",
       "      <td>635.356496</td>\n",
       "      <td>0.323601</td>\n",
       "      <td>0.003236</td>\n",
       "    </tr>\n",
       "    <tr>\n",
       "      <th>9</th>\n",
       "      <td>France</td>\n",
       "      <td>464.932687</td>\n",
       "      <td>0.236801</td>\n",
       "      <td>0.002368</td>\n",
       "    </tr>\n",
       "    <tr>\n",
       "      <th>10</th>\n",
       "      <td>United Kingdom</td>\n",
       "      <td>206.687635</td>\n",
       "      <td>0.105271</td>\n",
       "      <td>0.001053</td>\n",
       "    </tr>\n",
       "  </tbody>\n",
       "</table>\n",
       "</div>"
      ],
      "text/plain": [
       "   Supplier Origin  Tons Purchased  Percentage  percentage\n",
       "0    United States    78291.149803   39.875434    0.398754\n",
       "1            India    51533.000000   26.246909    0.262469\n",
       "2          Germany    21218.619550   10.807117    0.108071\n",
       "3          Finland    15935.308829    8.116209    0.081162\n",
       "4            Other    13364.630315    6.806905    0.068069\n",
       "5           Brazil     7300.000000    3.718053    0.037181\n",
       "6        Australia     4498.621784    2.291249    0.022912\n",
       "7           Sweden     2890.999502    1.472451    0.014725\n",
       "8           Norway      635.356496    0.323601    0.003236\n",
       "9           France      464.932687    0.236801    0.002368\n",
       "10  United Kingdom      206.687635    0.105271    0.001053"
      ]
     },
     "execution_count": 126,
     "metadata": {},
     "output_type": "execute_result"
    }
   ],
   "source": [
    "# find the row where supplier origin is equal to \"Denmark\"\n",
    "ogp[\"percentage\"] = ogp[\"Tons Purchased\"] / ogp['Tons Purchased'].sum()\n",
    "ogp"
   ]
  },
  {
   "cell_type": "code",
   "execution_count": 127,
   "metadata": {},
   "outputs": [
    {
     "data": {
      "text/html": [
       "<div>\n",
       "<style scoped>\n",
       "    .dataframe tbody tr th:only-of-type {\n",
       "        vertical-align: middle;\n",
       "    }\n",
       "\n",
       "    .dataframe tbody tr th {\n",
       "        vertical-align: top;\n",
       "    }\n",
       "\n",
       "    .dataframe thead th {\n",
       "        text-align: right;\n",
       "    }\n",
       "</style>\n",
       "<table border=\"1\" class=\"dataframe\">\n",
       "  <thead>\n",
       "    <tr style=\"text-align: right;\">\n",
       "      <th></th>\n",
       "      <th>Supplier Origin</th>\n",
       "      <th>Tons Delivered</th>\n",
       "      <th>Tons Purchased</th>\n",
       "    </tr>\n",
       "  </thead>\n",
       "  <tbody>\n",
       "    <tr>\n",
       "      <th>0</th>\n",
       "      <td>United States</td>\n",
       "      <td>46981.969118</td>\n",
       "      <td>78291.149803</td>\n",
       "    </tr>\n",
       "    <tr>\n",
       "      <th>1</th>\n",
       "      <td>India</td>\n",
       "      <td>0.000000</td>\n",
       "      <td>51533.000000</td>\n",
       "    </tr>\n",
       "    <tr>\n",
       "      <th>2</th>\n",
       "      <td>Germany</td>\n",
       "      <td>2767.704408</td>\n",
       "      <td>21218.619550</td>\n",
       "    </tr>\n",
       "    <tr>\n",
       "      <th>3</th>\n",
       "      <td>Finland</td>\n",
       "      <td>3975.997829</td>\n",
       "      <td>15935.308829</td>\n",
       "    </tr>\n",
       "    <tr>\n",
       "      <th>4</th>\n",
       "      <td>Other</td>\n",
       "      <td>9095.894115</td>\n",
       "      <td>14671.607134</td>\n",
       "    </tr>\n",
       "    <tr>\n",
       "      <th>5</th>\n",
       "      <td>Brazil</td>\n",
       "      <td>7300.000000</td>\n",
       "      <td>7300.000000</td>\n",
       "    </tr>\n",
       "    <tr>\n",
       "      <th>6</th>\n",
       "      <td>Australia</td>\n",
       "      <td>1409.999784</td>\n",
       "      <td>4498.621784</td>\n",
       "    </tr>\n",
       "    <tr>\n",
       "      <th>7</th>\n",
       "      <td>Sweden</td>\n",
       "      <td>2650.999502</td>\n",
       "      <td>2890.999502</td>\n",
       "    </tr>\n",
       "  </tbody>\n",
       "</table>\n",
       "</div>"
      ],
      "text/plain": [
       "  Supplier Origin  Tons Delivered  Tons Purchased\n",
       "0   United States    46981.969118    78291.149803\n",
       "1           India        0.000000    51533.000000\n",
       "2         Germany     2767.704408    21218.619550\n",
       "3         Finland     3975.997829    15935.308829\n",
       "4           Other     9095.894115    14671.607134\n",
       "5          Brazil     7300.000000     7300.000000\n",
       "6       Australia     1409.999784     4498.621784\n",
       "7          Sweden     2650.999502     2890.999502"
      ]
     },
     "execution_count": 127,
     "metadata": {},
     "output_type": "execute_result"
    }
   ],
   "source": [
    "ogp = og.sort_values(\"Tons Purchased\", ascending=False)\n",
    "# Calculate total tons purchased\n",
    "total_tons = ogp['Tons Purchased'].sum()\n",
    "\n",
    "# Create a new column that represents the percentage of the total\n",
    "ogp['Percentage'] = 100 * ogp['Tons Purchased'] / total_tons\n",
    "# Update 'Supplier Origin' and 'Tons Purchased' for rows that represent less than 1% of the total\n",
    "ogp.loc[ogp['Percentage'] < 1, 'Supplier Origin'] = 'Other'\n",
    "ogp.loc[ogp['Supplier Origin'] == 'Other', 'Tons Purchased'] = ogp[ogp['Supplier Origin'] == 'Other']['Tons Purchased'].sum()\n",
    "\n",
    "ogp = ogp.drop(columns=['Percentage'])\n",
    "ogp = ogp.drop_duplicates(subset=['Supplier Origin']).reset_index(drop=True)\n",
    "ogp"
   ]
  },
  {
   "cell_type": "code",
   "execution_count": 128,
   "metadata": {},
   "outputs": [
    {
     "data": {
      "image/png": "[encoded data removed]",
      "text/plain": [
       "<Figure size 640x480 with 1 Axes>"
      ]
     },
     "metadata": {},
     "output_type": "display_data"
    }
   ],
   "source": [
    "labels = ogp[\"Supplier Origin\"]\n",
    "sizes = ogp[\"Tons Purchased\"]\n",
    "\n",
    "plt.pie(sizes, labels=labels, autopct='%1.1f%%')\n",
    "\n",
    "plt.axis('equal')  # Equal aspect ratio ensures that pie is drawn as a circle.\n",
    "\n",
    "plt.title(\"Percentage of Tons of CO2e Purchased by Supplier Origin\")\n",
    "\n",
    "plt.show()"
   ]
  },
  {
   "cell_type": "code",
   "execution_count": 129,
   "metadata": {},
   "outputs": [
    {
     "data": {
      "application/vnd.plotly.v1+json": {
       "config": {
        "plotlyServerURL": "https://plot.ly"
       },
       "data": [
        {
         "marker": {
          "color": "grey"
         },
         "text": [
          "39.88%",
          "26.25%",
          "10.81%",
          "8.12%",
          "7.47%",
          "3.72%",
          "2.29%",
          "1.47%"
         ],
         "textposition": "outside",
         "type": "bar",
         "x": [
          "United States",
          "India",
          "Germany",
          "Finland",
          "Other",
          "Brazil",
          "Australia",
          "Sweden"
         ],
         "y": [
          78291.1498025514,
          51533,
          21218.619550386,
          15935.308829169,
          14671.607133739,
          7300,
          4498.6217835104,
          2890.9995017404
         ]
        }
       ],
       "layout": {
        "autosize": false,
        "height": 600,
        "template": {
         "data": {
          "bar": [
           {
            "error_x": {
             "color": "#2a3f5f"
            },
            "error_y": {
             "color": "#2a3f5f"
            },
            "marker": {
             "line": {
              "color": "#E5ECF6",
              "width": 0.5
             },
             "pattern": {
              "fillmode": "overlay",
              "size": 10,
              "solidity": 0.2
             }
            },
            "type": "bar"
           }
          ],
          "barpolar": [
           {
            "marker": {
             "line": {
              "color": "#E5ECF6",
              "width": 0.5
             },
             "pattern": {
              "fillmode": "overlay",
              "size": 10,
              "solidity": 0.2
             }
            },
            "type": "barpolar"
           }
          ],
          "carpet": [
           {
            "aaxis": {
             "endlinecolor": "#2a3f5f",
             "gridcolor": "white",
             "linecolor": "white",
             "minorgridcolor": "white",
             "startlinecolor": "#2a3f5f"
            },
            "baxis": {
             "endlinecolor": "#2a3f5f",
             "gridcolor": "white",
             "linecolor": "white",
             "minorgridcolor": "white",
             "startlinecolor": "#2a3f5f"
            },
            "type": "carpet"
           }
          ],
          "choropleth": [
           {
            "colorbar": {
             "outlinewidth": 0,
             "ticks": ""
            },
            "type": "choropleth"
           }
          ],
          "contour": [
           {
            "colorbar": {
             "outlinewidth": 0,
             "ticks": ""
            },
            "colorscale": [
             [
              0,
              "#0d0887"
             ],
             [
              0.1111111111111111,
              "#46039f"
             ],
             [
              0.2222222222222222,
              "#7201a8"
             ],
             [
              0.3333333333333333,
              "#9c179e"
             ],
             [
              0.4444444444444444,
              "#bd3786"
             ],
             [
              0.5555555555555556,
              "#d8576b"
             ],
             [
              0.6666666666666666,
              "#ed7953"
             ],
             [
              0.7777777777777778,
              "#fb9f3a"
             ],
             [
              0.8888888888888888,
              "#fdca26"
             ],
             [
              1,
              "#f0f921"
             ]
            ],
            "type": "contour"
           }
          ],
          "contourcarpet": [
           {
            "colorbar": {
             "outlinewidth": 0,
             "ticks": ""
            },
            "type": "contourcarpet"
           }
          ],
          "heatmap": [
           {
            "colorbar": {
             "outlinewidth": 0,
             "ticks": ""
            },
            "colorscale": [
             [
              0,
              "#0d0887"
             ],
             [
              0.1111111111111111,
              "#46039f"
             ],
             [
              0.2222222222222222,
              "#7201a8"
             ],
             [
              0.3333333333333333,
              "#9c179e"
             ],
             [
              0.4444444444444444,
              "#bd3786"
             ],
             [
              0.5555555555555556,
              "#d8576b"
             ],
             [
              0.6666666666666666,
              "#ed7953"
             ],
             [
              0.7777777777777778,
              "#fb9f3a"
             ],
             [
              0.8888888888888888,
              "#fdca26"
             ],
             [
              1,
              "#f0f921"
             ]
            ],
            "type": "heatmap"
           }
          ],
          "heatmapgl": [
           {
            "colorbar": {
             "outlinewidth": 0,
             "ticks": ""
            },
            "colorscale": [
             [
              0,
              "#0d0887"
             ],
             [
              0.1111111111111111,
              "#46039f"
             ],
             [
              0.2222222222222222,
              "#7201a8"
             ],
             [
              0.3333333333333333,
              "#9c179e"
             ],
             [
              0.4444444444444444,
              "#bd3786"
             ],
             [
              0.5555555555555556,
              "#d8576b"
             ],
             [
              0.6666666666666666,
              "#ed7953"
             ],
             [
              0.7777777777777778,
              "#fb9f3a"
             ],
             [
              0.8888888888888888,
              "#fdca26"
             ],
             [
              1,
              "#f0f921"
             ]
            ],
            "type": "heatmapgl"
           }
          ],
          "histogram": [
           {
            "marker": {
             "pattern": {
              "fillmode": "overlay",
              "size": 10,
              "solidity": 0.2
             }
            },
            "type": "histogram"
           }
          ],
          "histogram2d": [
           {
            "colorbar": {
             "outlinewidth": 0,
             "ticks": ""
            },
            "colorscale": [
             [
              0,
              "#0d0887"
             ],
             [
              0.1111111111111111,
              "#46039f"
             ],
             [
              0.2222222222222222,
              "#7201a8"
             ],
             [
              0.3333333333333333,
              "#9c179e"
             ],
             [
              0.4444444444444444,
              "#bd3786"
             ],
             [
              0.5555555555555556,
              "#d8576b"
             ],
             [
              0.6666666666666666,
              "#ed7953"
             ],
             [
              0.7777777777777778,
              "#fb9f3a"
             ],
             [
              0.8888888888888888,
              "#fdca26"
             ],
             [
              1,
              "#f0f921"
             ]
            ],
            "type": "histogram2d"
           }
          ],
          "histogram2dcontour": [
           {
            "colorbar": {
             "outlinewidth": 0,
             "ticks": ""
            },
            "colorscale": [
             [
              0,
              "#0d0887"
             ],
             [
              0.1111111111111111,
              "#46039f"
             ],
             [
              0.2222222222222222,
              "#7201a8"
             ],
             [
              0.3333333333333333,
              "#9c179e"
             ],
             [
              0.4444444444444444,
              "#bd3786"
             ],
             [
              0.5555555555555556,
              "#d8576b"
             ],
             [
              0.6666666666666666,
              "#ed7953"
             ],
             [
              0.7777777777777778,
              "#fb9f3a"
             ],
             [
              0.8888888888888888,
              "#fdca26"
             ],
             [
              1,
              "#f0f921"
             ]
            ],
            "type": "histogram2dcontour"
           }
          ],
          "mesh3d": [
           {
            "colorbar": {
             "outlinewidth": 0,
             "ticks": ""
            },
            "type": "mesh3d"
           }
          ],
          "parcoords": [
           {
            "line": {
             "colorbar": {
              "outlinewidth": 0,
              "ticks": ""
             }
            },
            "type": "parcoords"
           }
          ],
          "pie": [
           {
            "automargin": true,
            "type": "pie"
           }
          ],
          "scatter": [
           {
            "fillpattern": {
             "fillmode": "overlay",
             "size": 10,
             "solidity": 0.2
            },
            "type": "scatter"
           }
          ],
          "scatter3d": [
           {
            "line": {
             "colorbar": {
              "outlinewidth": 0,
              "ticks": ""
             }
            },
            "marker": {
             "colorbar": {
              "outlinewidth": 0,
              "ticks": ""
             }
            },
            "type": "scatter3d"
           }
          ],
          "scattercarpet": [
           {
            "marker": {
             "colorbar": {
              "outlinewidth": 0,
              "ticks": ""
             }
            },
            "type": "scattercarpet"
           }
          ],
          "scattergeo": [
           {
            "marker": {
             "colorbar": {
              "outlinewidth": 0,
              "ticks": ""
             }
            },
            "type": "scattergeo"
           }
          ],
          "scattergl": [
           {
            "marker": {
             "colorbar": {
              "outlinewidth": 0,
              "ticks": ""
             }
            },
            "type": "scattergl"
           }
          ],
          "scattermapbox": [
           {
            "marker": {
             "colorbar": {
              "outlinewidth": 0,
              "ticks": ""
             }
            },
            "type": "scattermapbox"
           }
          ],
          "scatterpolar": [
           {
            "marker": {
             "colorbar": {
              "outlinewidth": 0,
              "ticks": ""
             }
            },
            "type": "scatterpolar"
           }
          ],
          "scatterpolargl": [
           {
            "marker": {
             "colorbar": {
              "outlinewidth": 0,
              "ticks": ""
             }
            },
            "type": "scatterpolargl"
           }
          ],
          "scatterternary": [
           {
            "marker": {
             "colorbar": {
              "outlinewidth": 0,
              "ticks": ""
             }
            },
            "type": "scatterternary"
           }
          ],
          "surface": [
           {
            "colorbar": {
             "outlinewidth": 0,
             "ticks": ""
            },
            "colorscale": [
             [
              0,
              "#0d0887"
             ],
             [
              0.1111111111111111,
              "#46039f"
             ],
             [
              0.2222222222222222,
              "#7201a8"
             ],
             [
              0.3333333333333333,
              "#9c179e"
             ],
             [
              0.4444444444444444,
              "#bd3786"
             ],
             [
              0.5555555555555556,
              "#d8576b"
             ],
             [
              0.6666666666666666,
              "#ed7953"
             ],
             [
              0.7777777777777778,
              "#fb9f3a"
             ],
             [
              0.8888888888888888,
              "#fdca26"
             ],
             [
              1,
              "#f0f921"
             ]
            ],
            "type": "surface"
           }
          ],
          "table": [
           {
            "cells": {
             "fill": {
              "color": "#EBF0F8"
             },
             "line": {
              "color": "white"
             }
            },
            "header": {
             "fill": {
              "color": "#C8D4E3"
             },
             "line": {
              "color": "white"
             }
            },
            "type": "table"
           }
          ]
         },
         "layout": {
          "annotationdefaults": {
           "arrowcolor": "#2a3f5f",
           "arrowhead": 0,
           "arrowwidth": 1
          },
          "autotypenumbers": "strict",
          "coloraxis": {
           "colorbar": {
            "outlinewidth": 0,
            "ticks": ""
           }
          },
          "colorscale": {
           "diverging": [
            [
             0,
             "#8e0152"
            ],
            [
             0.1,
             "#c51b7d"
            ],
            [
             0.2,
             "#de77ae"
            ],
            [
             0.3,
             "#f1b6da"
            ],
            [
             0.4,
             "#fde0ef"
            ],
            [
             0.5,
             "#f7f7f7"
            ],
            [
             0.6,
             "#e6f5d0"
            ],
            [
             0.7,
             "#b8e186"
            ],
            [
             0.8,
             "#7fbc41"
            ],
            [
             0.9,
             "#4d9221"
            ],
            [
             1,
             "#276419"
            ]
           ],
           "sequential": [
            [
             0,
             "#0d0887"
            ],
            [
             0.1111111111111111,
             "#46039f"
            ],
            [
             0.2222222222222222,
             "#7201a8"
            ],
            [
             0.3333333333333333,
             "#9c179e"
            ],
            [
             0.4444444444444444,
             "#bd3786"
            ],
            [
             0.5555555555555556,
             "#d8576b"
            ],
            [
             0.6666666666666666,
             "#ed7953"
            ],
            [
             0.7777777777777778,
             "#fb9f3a"
            ],
            [
             0.8888888888888888,
             "#fdca26"
            ],
            [
             1,
             "#f0f921"
            ]
           ],
           "sequentialminus": [
            [
             0,
             "#0d0887"
            ],
            [
             0.1111111111111111,
             "#46039f"
            ],
            [
             0.2222222222222222,
             "#7201a8"
            ],
            [
             0.3333333333333333,
             "#9c179e"
            ],
            [
             0.4444444444444444,
             "#bd3786"
            ],
            [
             0.5555555555555556,
             "#d8576b"
            ],
            [
             0.6666666666666666,
             "#ed7953"
            ],
            [
             0.7777777777777778,
             "#fb9f3a"
            ],
            [
             0.8888888888888888,
             "#fdca26"
            ],
            [
             1,
             "#f0f921"
            ]
           ]
          },
          "colorway": [
           "#636efa",
           "#EF553B",
           "#00cc96",
           "#ab63fa",
           "#FFA15A",
           "#19d3f3",
           "#FF6692",
           "#B6E880",
           "#FF97FF",
           "#FECB52"
          ],
          "font": {
           "color": "#2a3f5f"
          },
          "geo": {
           "bgcolor": "white",
           "lakecolor": "white",
           "landcolor": "#E5ECF6",
           "showlakes": true,
           "showland": true,
           "subunitcolor": "white"
          },
          "hoverlabel": {
           "align": "left"
          },
          "hovermode": "closest",
          "mapbox": {
           "style": "light"
          },
          "paper_bgcolor": "white",
          "plot_bgcolor": "#E5ECF6",
          "polar": {
           "angularaxis": {
            "gridcolor": "white",
            "linecolor": "white",
            "ticks": ""
           },
           "bgcolor": "#E5ECF6",
           "radialaxis": {
            "gridcolor": "white",
            "linecolor": "white",
            "ticks": ""
           }
          },
          "scene": {
           "xaxis": {
            "backgroundcolor": "#E5ECF6",
            "gridcolor": "white",
            "gridwidth": 2,
            "linecolor": "white",
            "showbackground": true,
            "ticks": "",
            "zerolinecolor": "white"
           },
           "yaxis": {
            "backgroundcolor": "#E5ECF6",
            "gridcolor": "white",
            "gridwidth": 2,
            "linecolor": "white",
            "showbackground": true,
            "ticks": "",
            "zerolinecolor": "white"
           },
           "zaxis": {
            "backgroundcolor": "#E5ECF6",
            "gridcolor": "white",
            "gridwidth": 2,
            "linecolor": "white",
            "showbackground": true,
            "ticks": "",
            "zerolinecolor": "white"
           }
          },
          "shapedefaults": {
           "line": {
            "color": "#2a3f5f"
           }
          },
          "ternary": {
           "aaxis": {
            "gridcolor": "white",
            "linecolor": "white",
            "ticks": ""
           },
           "baxis": {
            "gridcolor": "white",
            "linecolor": "white",
            "ticks": ""
           },
           "bgcolor": "#E5ECF6",
           "caxis": {
            "gridcolor": "white",
            "linecolor": "white",
            "ticks": ""
           }
          },
          "title": {
           "x": 0.05
          },
          "xaxis": {
           "automargin": true,
           "gridcolor": "white",
           "linecolor": "white",
           "ticks": "",
           "title": {
            "standoff": 15
           },
           "zerolinecolor": "white",
           "zerolinewidth": 2
          },
          "yaxis": {
           "automargin": true,
           "gridcolor": "white",
           "linecolor": "white",
           "ticks": "",
           "title": {
            "standoff": 15
           },
           "zerolinecolor": "white",
           "zerolinewidth": 2
          }
         }
        },
        "title": {
         "text": "Purchased Tons of CO2e in Biochar per Country"
        },
        "width": 1000,
        "xaxis": {
         "tickangle": 20
        },
        "yaxis": {
         "tickformat": ",",
         "title": {
          "text": "Tons of CO2e Purchased"
         }
        }
       }
      }
     },
     "metadata": {},
     "output_type": "display_data"
    }
   ],
   "source": [
    "import plotly.graph_objects as go\n",
    "\n",
    "# Calculate percentages\n",
    "ogp['Percentage'] = (ogp['Tons Purchased'] / ogp['Tons Purchased'].sum()) * 100\n",
    "\n",
    "# Create bar chart\n",
    "fig = go.Figure(data=go.Bar(\n",
    "    x=ogp['Supplier Origin'], \n",
    "    y=ogp['Tons Purchased'], \n",
    "    text=ogp['Percentage'].round(2).apply(lambda x: '{:,.2f}%'.format(x)),  # Add percentage annotations\n",
    "    textposition='outside', \n",
    "    marker_color='grey'\n",
    "))\n",
    "\n",
    "# Set figure size, y-axis label, and y-axis tick format\n",
    "fig.update_layout(\n",
    "    autosize=False,\n",
    "    width=1000,\n",
    "    height=600,\n",
    "    yaxis=dict(\n",
    "        title_text=\"Tons of CO2e Purchased\",\n",
    "        tickformat=\",\",  # Add comma separators\n",
    "    ),\n",
    "    title=\"Purchased Tons of CO2e in Biochar per Country\"\n",
    ")\n",
    "\n",
    "# Rotate x-axis labels\n",
    "fig.update_xaxes(tickangle=20)\n",
    "\n",
    "fig.show()"
   ]
  },
  {
   "attachments": {},
   "cell_type": "markdown",
   "metadata": {},
   "source": [
    "# Delivered"
   ]
  },
  {
   "cell_type": "code",
   "execution_count": 130,
   "metadata": {},
   "outputs": [
    {
     "data": {
      "text/html": [
       "<div>\n",
       "<style scoped>\n",
       "    .dataframe tbody tr th:only-of-type {\n",
       "        vertical-align: middle;\n",
       "    }\n",
       "\n",
       "    .dataframe tbody tr th {\n",
       "        vertical-align: top;\n",
       "    }\n",
       "\n",
       "    .dataframe thead th {\n",
       "        text-align: right;\n",
       "    }\n",
       "</style>\n",
       "<table border=\"1\" class=\"dataframe\">\n",
       "  <thead>\n",
       "    <tr style=\"text-align: right;\">\n",
       "      <th></th>\n",
       "      <th>Supplier Origin</th>\n",
       "      <th>Tons Delivered</th>\n",
       "    </tr>\n",
       "  </thead>\n",
       "  <tbody>\n",
       "    <tr>\n",
       "      <th>0</th>\n",
       "      <td>United States</td>\n",
       "      <td>46981.969118</td>\n",
       "    </tr>\n",
       "    <tr>\n",
       "      <th>4</th>\n",
       "      <td>Other</td>\n",
       "      <td>9095.894115</td>\n",
       "    </tr>\n",
       "    <tr>\n",
       "      <th>5</th>\n",
       "      <td>Brazil</td>\n",
       "      <td>7300.000000</td>\n",
       "    </tr>\n",
       "    <tr>\n",
       "      <th>3</th>\n",
       "      <td>Finland</td>\n",
       "      <td>3975.997829</td>\n",
       "    </tr>\n",
       "    <tr>\n",
       "      <th>2</th>\n",
       "      <td>Germany</td>\n",
       "      <td>2767.704408</td>\n",
       "    </tr>\n",
       "    <tr>\n",
       "      <th>7</th>\n",
       "      <td>Sweden</td>\n",
       "      <td>2650.999502</td>\n",
       "    </tr>\n",
       "    <tr>\n",
       "      <th>6</th>\n",
       "      <td>Australia</td>\n",
       "      <td>1409.999784</td>\n",
       "    </tr>\n",
       "    <tr>\n",
       "      <th>8</th>\n",
       "      <td>Norway</td>\n",
       "      <td>630.356496</td>\n",
       "    </tr>\n",
       "    <tr>\n",
       "      <th>9</th>\n",
       "      <td>France</td>\n",
       "      <td>464.932687</td>\n",
       "    </tr>\n",
       "    <tr>\n",
       "      <th>10</th>\n",
       "      <td>United Kingdom</td>\n",
       "      <td>206.687635</td>\n",
       "    </tr>\n",
       "    <tr>\n",
       "      <th>1</th>\n",
       "      <td>India</td>\n",
       "      <td>0.000000</td>\n",
       "    </tr>\n",
       "  </tbody>\n",
       "</table>\n",
       "</div>"
      ],
      "text/plain": [
       "   Supplier Origin  Tons Delivered\n",
       "0    United States    46981.969118\n",
       "4            Other     9095.894115\n",
       "5           Brazil     7300.000000\n",
       "3          Finland     3975.997829\n",
       "2          Germany     2767.704408\n",
       "7           Sweden     2650.999502\n",
       "6        Australia     1409.999784\n",
       "8           Norway      630.356496\n",
       "9           France      464.932687\n",
       "10  United Kingdom      206.687635\n",
       "1            India        0.000000"
      ]
     },
     "execution_count": 130,
     "metadata": {},
     "output_type": "execute_result"
    }
   ],
   "source": [
    "ogd = og.sort_values(\"Tons Delivered\", ascending=False)[[\"Supplier Origin\", \"Tons Delivered\"]]\n",
    "ogd"
   ]
  },
  {
   "cell_type": "code",
   "execution_count": 131,
   "metadata": {},
   "outputs": [
    {
     "data": {
      "application/vnd.plotly.v1+json": {
       "config": {
        "plotlyServerURL": "https://plot.ly"
       },
       "data": [
        {
         "marker": {
          "color": "grey"
         },
         "text": [
          "62.24%",
          "12.05%",
          "9.67%",
          "5.27%",
          "3.67%",
          "3.51%",
          "1.87%",
          "0.84%",
          "0.62%",
          "0.27%",
          "0.00%"
         ],
         "textposition": "outside",
         "type": "bar",
         "x": [
          "United States",
          "Other",
          "Brazil",
          "Finland",
          "Germany",
          "Sweden",
          "Australia",
          "Norway",
          "France",
          "United Kingdom",
          "India"
         ],
         "y": [
          46981.9691175514,
          9095.8941151,
          7300,
          3975.997829169,
          2767.704407645,
          2650.9995017404,
          1409.9997835104,
          630.35649609,
          464.93268727900005,
          206.68763527000002,
          0
         ]
        }
       ],
       "layout": {
        "autosize": false,
        "height": 600,
        "template": {
         "data": {
          "bar": [
           {
            "error_x": {
             "color": "#2a3f5f"
            },
            "error_y": {
             "color": "#2a3f5f"
            },
            "marker": {
             "line": {
              "color": "#E5ECF6",
              "width": 0.5
             },
             "pattern": {
              "fillmode": "overlay",
              "size": 10,
              "solidity": 0.2
             }
            },
            "type": "bar"
           }
          ],
          "barpolar": [
           {
            "marker": {
             "line": {
              "color": "#E5ECF6",
              "width": 0.5
             },
             "pattern": {
              "fillmode": "overlay",
              "size": 10,
              "solidity": 0.2
             }
            },
            "type": "barpolar"
           }
          ],
          "carpet": [
           {
            "aaxis": {
             "endlinecolor": "#2a3f5f",
             "gridcolor": "white",
             "linecolor": "white",
             "minorgridcolor": "white",
             "startlinecolor": "#2a3f5f"
            },
            "baxis": {
             "endlinecolor": "#2a3f5f",
             "gridcolor": "white",
             "linecolor": "white",
             "minorgridcolor": "white",
             "startlinecolor": "#2a3f5f"
            },
            "type": "carpet"
           }
          ],
          "choropleth": [
           {
            "colorbar": {
             "outlinewidth": 0,
             "ticks": ""
            },
            "type": "choropleth"
           }
          ],
          "contour": [
           {
            "colorbar": {
             "outlinewidth": 0,
             "ticks": ""
            },
            "colorscale": [
             [
              0,
              "#0d0887"
             ],
             [
              0.1111111111111111,
              "#46039f"
             ],
             [
              0.2222222222222222,
              "#7201a8"
             ],
             [
              0.3333333333333333,
              "#9c179e"
             ],
             [
              0.4444444444444444,
              "#bd3786"
             ],
             [
              0.5555555555555556,
              "#d8576b"
             ],
             [
              0.6666666666666666,
              "#ed7953"
             ],
             [
              0.7777777777777778,
              "#fb9f3a"
             ],
             [
              0.8888888888888888,
              "#fdca26"
             ],
             [
              1,
              "#f0f921"
             ]
            ],
            "type": "contour"
           }
          ],
          "contourcarpet": [
           {
            "colorbar": {
             "outlinewidth": 0,
             "ticks": ""
            },
            "type": "contourcarpet"
           }
          ],
          "heatmap": [
           {
            "colorbar": {
             "outlinewidth": 0,
             "ticks": ""
            },
            "colorscale": [
             [
              0,
              "#0d0887"
             ],
             [
              0.1111111111111111,
              "#46039f"
             ],
             [
              0.2222222222222222,
              "#7201a8"
             ],
             [
              0.3333333333333333,
              "#9c179e"
             ],
             [
              0.4444444444444444,
              "#bd3786"
             ],
             [
              0.5555555555555556,
              "#d8576b"
             ],
             [
              0.6666666666666666,
              "#ed7953"
             ],
             [
              0.7777777777777778,
              "#fb9f3a"
             ],
             [
              0.8888888888888888,
              "#fdca26"
             ],
             [
              1,
              "#f0f921"
             ]
            ],
            "type": "heatmap"
           }
          ],
          "heatmapgl": [
           {
            "colorbar": {
             "outlinewidth": 0,
             "ticks": ""
            },
            "colorscale": [
             [
              0,
              "#0d0887"
             ],
             [
              0.1111111111111111,
              "#46039f"
             ],
             [
              0.2222222222222222,
              "#7201a8"
             ],
             [
              0.3333333333333333,
              "#9c179e"
             ],
             [
              0.4444444444444444,
              "#bd3786"
             ],
             [
              0.5555555555555556,
              "#d8576b"
             ],
             [
              0.6666666666666666,
              "#ed7953"
             ],
             [
              0.7777777777777778,
              "#fb9f3a"
             ],
             [
              0.8888888888888888,
              "#fdca26"
             ],
             [
              1,
              "#f0f921"
             ]
            ],
            "type": "heatmapgl"
           }
          ],
          "histogram": [
           {
            "marker": {
             "pattern": {
              "fillmode": "overlay",
              "size": 10,
              "solidity": 0.2
             }
            },
            "type": "histogram"
           }
          ],
          "histogram2d": [
           {
            "colorbar": {
             "outlinewidth": 0,
             "ticks": ""
            },
            "colorscale": [
             [
              0,
              "#0d0887"
             ],
             [
              0.1111111111111111,
              "#46039f"
             ],
             [
              0.2222222222222222,
              "#7201a8"
             ],
             [
              0.3333333333333333,
              "#9c179e"
             ],
             [
              0.4444444444444444,
              "#bd3786"
             ],
             [
              0.5555555555555556,
              "#d8576b"
             ],
             [
              0.6666666666666666,
              "#ed7953"
             ],
             [
              0.7777777777777778,
              "#fb9f3a"
             ],
             [
              0.8888888888888888,
              "#fdca26"
             ],
             [
              1,
              "#f0f921"
             ]
            ],
            "type": "histogram2d"
           }
          ],
          "histogram2dcontour": [
           {
            "colorbar": {
             "outlinewidth": 0,
             "ticks": ""
            },
            "colorscale": [
             [
              0,
              "#0d0887"
             ],
             [
              0.1111111111111111,
              "#46039f"
             ],
             [
              0.2222222222222222,
              "#7201a8"
             ],
             [
              0.3333333333333333,
              "#9c179e"
             ],
             [
              0.4444444444444444,
              "#bd3786"
             ],
             [
              0.5555555555555556,
              "#d8576b"
             ],
             [
              0.6666666666666666,
              "#ed7953"
             ],
             [
              0.7777777777777778,
              "#fb9f3a"
             ],
             [
              0.8888888888888888,
              "#fdca26"
             ],
             [
              1,
              "#f0f921"
             ]
            ],
            "type": "histogram2dcontour"
           }
          ],
          "mesh3d": [
           {
            "colorbar": {
             "outlinewidth": 0,
             "ticks": ""
            },
            "type": "mesh3d"
           }
          ],
          "parcoords": [
           {
            "line": {
             "colorbar": {
              "outlinewidth": 0,
              "ticks": ""
             }
            },
            "type": "parcoords"
           }
          ],
          "pie": [
           {
            "automargin": true,
            "type": "pie"
           }
          ],
          "scatter": [
           {
            "fillpattern": {
             "fillmode": "overlay",
             "size": 10,
             "solidity": 0.2
            },
            "type": "scatter"
           }
          ],
          "scatter3d": [
           {
            "line": {
             "colorbar": {
              "outlinewidth": 0,
              "ticks": ""
             }
            },
            "marker": {
             "colorbar": {
              "outlinewidth": 0,
              "ticks": ""
             }
            },
            "type": "scatter3d"
           }
          ],
          "scattercarpet": [
           {
            "marker": {
             "colorbar": {
              "outlinewidth": 0,
              "ticks": ""
             }
            },
            "type": "scattercarpet"
           }
          ],
          "scattergeo": [
           {
            "marker": {
             "colorbar": {
              "outlinewidth": 0,
              "ticks": ""
             }
            },
            "type": "scattergeo"
           }
          ],
          "scattergl": [
           {
            "marker": {
             "colorbar": {
              "outlinewidth": 0,
              "ticks": ""
             }
            },
            "type": "scattergl"
           }
          ],
          "scattermapbox": [
           {
            "marker": {
             "colorbar": {
              "outlinewidth": 0,
              "ticks": ""
             }
            },
            "type": "scattermapbox"
           }
          ],
          "scatterpolar": [
           {
            "marker": {
             "colorbar": {
              "outlinewidth": 0,
              "ticks": ""
             }
            },
            "type": "scatterpolar"
           }
          ],
          "scatterpolargl": [
           {
            "marker": {
             "colorbar": {
              "outlinewidth": 0,
              "ticks": ""
             }
            },
            "type": "scatterpolargl"
           }
          ],
          "scatterternary": [
           {
            "marker": {
             "colorbar": {
              "outlinewidth": 0,
              "ticks": ""
             }
            },
            "type": "scatterternary"
           }
          ],
          "surface": [
           {
            "colorbar": {
             "outlinewidth": 0,
             "ticks": ""
            },
            "colorscale": [
             [
              0,
              "#0d0887"
             ],
             [
              0.1111111111111111,
              "#46039f"
             ],
             [
              0.2222222222222222,
              "#7201a8"
             ],
             [
              0.3333333333333333,
              "#9c179e"
             ],
             [
              0.4444444444444444,
              "#bd3786"
             ],
             [
              0.5555555555555556,
              "#d8576b"
             ],
             [
              0.6666666666666666,
              "#ed7953"
             ],
             [
              0.7777777777777778,
              "#fb9f3a"
             ],
             [
              0.8888888888888888,
              "#fdca26"
             ],
             [
              1,
              "#f0f921"
             ]
            ],
            "type": "surface"
           }
          ],
          "table": [
           {
            "cells": {
             "fill": {
              "color": "#EBF0F8"
             },
             "line": {
              "color": "white"
             }
            },
            "header": {
             "fill": {
              "color": "#C8D4E3"
             },
             "line": {
              "color": "white"
             }
            },
            "type": "table"
           }
          ]
         },
         "layout": {
          "annotationdefaults": {
           "arrowcolor": "#2a3f5f",
           "arrowhead": 0,
           "arrowwidth": 1
          },
          "autotypenumbers": "strict",
          "coloraxis": {
           "colorbar": {
            "outlinewidth": 0,
            "ticks": ""
           }
          },
          "colorscale": {
           "diverging": [
            [
             0,
             "#8e0152"
            ],
            [
             0.1,
             "#c51b7d"
            ],
            [
             0.2,
             "#de77ae"
            ],
            [
             0.3,
             "#f1b6da"
            ],
            [
             0.4,
             "#fde0ef"
            ],
            [
             0.5,
             "#f7f7f7"
            ],
            [
             0.6,
             "#e6f5d0"
            ],
            [
             0.7,
             "#b8e186"
            ],
            [
             0.8,
             "#7fbc41"
            ],
            [
             0.9,
             "#4d9221"
            ],
            [
             1,
             "#276419"
            ]
           ],
           "sequential": [
            [
             0,
             "#0d0887"
            ],
            [
             0.1111111111111111,
             "#46039f"
            ],
            [
             0.2222222222222222,
             "#7201a8"
            ],
            [
             0.3333333333333333,
             "#9c179e"
            ],
            [
             0.4444444444444444,
             "#bd3786"
            ],
            [
             0.5555555555555556,
             "#d8576b"
            ],
            [
             0.6666666666666666,
             "#ed7953"
            ],
            [
             0.7777777777777778,
             "#fb9f3a"
            ],
            [
             0.8888888888888888,
             "#fdca26"
            ],
            [
             1,
             "#f0f921"
            ]
           ],
           "sequentialminus": [
            [
             0,
             "#0d0887"
            ],
            [
             0.1111111111111111,
             "#46039f"
            ],
            [
             0.2222222222222222,
             "#7201a8"
            ],
            [
             0.3333333333333333,
             "#9c179e"
            ],
            [
             0.4444444444444444,
             "#bd3786"
            ],
            [
             0.5555555555555556,
             "#d8576b"
            ],
            [
             0.6666666666666666,
             "#ed7953"
            ],
            [
             0.7777777777777778,
             "#fb9f3a"
            ],
            [
             0.8888888888888888,
             "#fdca26"
            ],
            [
             1,
             "#f0f921"
            ]
           ]
          },
          "colorway": [
           "#636efa",
           "#EF553B",
           "#00cc96",
           "#ab63fa",
           "#FFA15A",
           "#19d3f3",
           "#FF6692",
           "#B6E880",
           "#FF97FF",
           "#FECB52"
          ],
          "font": {
           "color": "#2a3f5f"
          },
          "geo": {
           "bgcolor": "white",
           "lakecolor": "white",
           "landcolor": "#E5ECF6",
           "showlakes": true,
           "showland": true,
           "subunitcolor": "white"
          },
          "hoverlabel": {
           "align": "left"
          },
          "hovermode": "closest",
          "mapbox": {
           "style": "light"
          },
          "paper_bgcolor": "white",
          "plot_bgcolor": "#E5ECF6",
          "polar": {
           "angularaxis": {
            "gridcolor": "white",
            "linecolor": "white",
            "ticks": ""
           },
           "bgcolor": "#E5ECF6",
           "radialaxis": {
            "gridcolor": "white",
            "linecolor": "white",
            "ticks": ""
           }
          },
          "scene": {
           "xaxis": {
            "backgroundcolor": "#E5ECF6",
            "gridcolor": "white",
            "gridwidth": 2,
            "linecolor": "white",
            "showbackground": true,
            "ticks": "",
            "zerolinecolor": "white"
           },
           "yaxis": {
            "backgroundcolor": "#E5ECF6",
            "gridcolor": "white",
            "gridwidth": 2,
            "linecolor": "white",
            "showbackground": true,
            "ticks": "",
            "zerolinecolor": "white"
           },
           "zaxis": {
            "backgroundcolor": "#E5ECF6",
            "gridcolor": "white",
            "gridwidth": 2,
            "linecolor": "white",
            "showbackground": true,
            "ticks": "",
            "zerolinecolor": "white"
           }
          },
          "shapedefaults": {
           "line": {
            "color": "#2a3f5f"
           }
          },
          "ternary": {
           "aaxis": {
            "gridcolor": "white",
            "linecolor": "white",
            "ticks": ""
           },
           "baxis": {
            "gridcolor": "white",
            "linecolor": "white",
            "ticks": ""
           },
           "bgcolor": "#E5ECF6",
           "caxis": {
            "gridcolor": "white",
            "linecolor": "white",
            "ticks": ""
           }
          },
          "title": {
           "x": 0.05
          },
          "xaxis": {
           "automargin": true,
           "gridcolor": "white",
           "linecolor": "white",
           "ticks": "",
           "title": {
            "standoff": 15
           },
           "zerolinecolor": "white",
           "zerolinewidth": 2
          },
          "yaxis": {
           "automargin": true,
           "gridcolor": "white",
           "linecolor": "white",
           "ticks": "",
           "title": {
            "standoff": 15
           },
           "zerolinecolor": "white",
           "zerolinewidth": 2
          }
         }
        },
        "title": {
         "text": "Tons of Biochar CO2e Delivered per Country"
        },
        "width": 1000,
        "xaxis": {
         "tickangle": 20
        },
        "yaxis": {
         "tickformat": ",",
         "title": {
          "text": "Tons of CO2e Delivered"
         }
        }
       }
      }
     },
     "metadata": {},
     "output_type": "display_data"
    }
   ],
   "source": [
    "import plotly.graph_objects as go\n",
    "\n",
    "# Calculate percentages\n",
    "ogd['Percentage'] = (ogd['Tons Delivered'] / ogd['Tons Delivered'].sum()) * 100\n",
    "\n",
    "# Create bar chart\n",
    "fig = go.Figure(data=go.Bar(\n",
    "    x=ogd['Supplier Origin'], \n",
    "    y=ogd['Tons Delivered'], \n",
    "    text=ogd['Percentage'].round(2).apply(lambda x: '{:,.2f}%'.format(x)),  # Add percentage annotations\n",
    "    textposition='outside', \n",
    "    marker_color='grey'\n",
    "))\n",
    "\n",
    "# Set figure size, y-axis label, and y-axis tick format\n",
    "fig.update_layout(\n",
    "    autosize=False,\n",
    "    width=1000,\n",
    "    height=600,\n",
    "    yaxis=dict(\n",
    "        title_text=\"Tons of CO2e Delivered\",\n",
    "        tickformat=\",\",  # Add comma separators\n",
    "    ),\n",
    "    title=\"Tons of Biochar CO2e Delivered per Country\"\n",
    ")\n",
    "\n",
    "# Rotate x-axis labels\n",
    "fig.update_xaxes(tickangle=20)\n",
    "\n",
    "fig.show()"
   ]
  },
  {
   "cell_type": "code",
   "execution_count": 132,
   "metadata": {},
   "outputs": [
    {
     "name": "stdout",
     "output_type": "stream",
     "text": [
      "75484.5415733552\n"
     ]
    },
    {
     "data": {
      "text/html": [
       "<div>\n",
       "<style scoped>\n",
       "    .dataframe tbody tr th:only-of-type {\n",
       "        vertical-align: middle;\n",
       "    }\n",
       "\n",
       "    .dataframe tbody tr th {\n",
       "        vertical-align: top;\n",
       "    }\n",
       "\n",
       "    .dataframe thead th {\n",
       "        text-align: right;\n",
       "    }\n",
       "</style>\n",
       "<table border=\"1\" class=\"dataframe\">\n",
       "  <thead>\n",
       "    <tr style=\"text-align: right;\">\n",
       "      <th></th>\n",
       "      <th>Supplier Origin</th>\n",
       "      <th>Tons Delivered</th>\n",
       "      <th>Percentage</th>\n",
       "    </tr>\n",
       "  </thead>\n",
       "  <tbody>\n",
       "    <tr>\n",
       "      <th>0</th>\n",
       "      <td>United States</td>\n",
       "      <td>46981.969118</td>\n",
       "      <td>62.240517</td>\n",
       "    </tr>\n",
       "    <tr>\n",
       "      <th>4</th>\n",
       "      <td>Other</td>\n",
       "      <td>9095.894115</td>\n",
       "      <td>12.050009</td>\n",
       "    </tr>\n",
       "    <tr>\n",
       "      <th>5</th>\n",
       "      <td>Brazil</td>\n",
       "      <td>7300.000000</td>\n",
       "      <td>9.670854</td>\n",
       "    </tr>\n",
       "    <tr>\n",
       "      <th>3</th>\n",
       "      <td>Finland</td>\n",
       "      <td>3975.997829</td>\n",
       "      <td>5.267301</td>\n",
       "    </tr>\n",
       "    <tr>\n",
       "      <th>2</th>\n",
       "      <td>Germany</td>\n",
       "      <td>2767.704408</td>\n",
       "      <td>3.666584</td>\n",
       "    </tr>\n",
       "    <tr>\n",
       "      <th>7</th>\n",
       "      <td>Sweden</td>\n",
       "      <td>2650.999502</td>\n",
       "      <td>3.511977</td>\n",
       "    </tr>\n",
       "    <tr>\n",
       "      <th>6</th>\n",
       "      <td>Australia</td>\n",
       "      <td>1409.999784</td>\n",
       "      <td>1.867932</td>\n",
       "    </tr>\n",
       "    <tr>\n",
       "      <th>8</th>\n",
       "      <td>Norway</td>\n",
       "      <td>630.356496</td>\n",
       "      <td>0.835080</td>\n",
       "    </tr>\n",
       "    <tr>\n",
       "      <th>9</th>\n",
       "      <td>France</td>\n",
       "      <td>464.932687</td>\n",
       "      <td>0.615931</td>\n",
       "    </tr>\n",
       "    <tr>\n",
       "      <th>10</th>\n",
       "      <td>United Kingdom</td>\n",
       "      <td>206.687635</td>\n",
       "      <td>0.273815</td>\n",
       "    </tr>\n",
       "    <tr>\n",
       "      <th>1</th>\n",
       "      <td>India</td>\n",
       "      <td>0.000000</td>\n",
       "      <td>0.000000</td>\n",
       "    </tr>\n",
       "  </tbody>\n",
       "</table>\n",
       "</div>"
      ],
      "text/plain": [
       "   Supplier Origin  Tons Delivered  Percentage\n",
       "0    United States    46981.969118   62.240517\n",
       "4            Other     9095.894115   12.050009\n",
       "5           Brazil     7300.000000    9.670854\n",
       "3          Finland     3975.997829    5.267301\n",
       "2          Germany     2767.704408    3.666584\n",
       "7           Sweden     2650.999502    3.511977\n",
       "6        Australia     1409.999784    1.867932\n",
       "8           Norway      630.356496    0.835080\n",
       "9           France      464.932687    0.615931\n",
       "10  United Kingdom      206.687635    0.273815\n",
       "1            India        0.000000    0.000000"
      ]
     },
     "execution_count": 132,
     "metadata": {},
     "output_type": "execute_result"
    }
   ],
   "source": [
    "# find the row where supplier origin is equal to \"Denmark\"\n",
    "print(ogd[\"Tons Delivered\"].sum())\n",
    "ogd"
   ]
  },
  {
   "cell_type": "code",
   "execution_count": 134,
   "metadata": {},
   "outputs": [
    {
     "data": {
      "text/html": [
       "<div>\n",
       "<style scoped>\n",
       "    .dataframe tbody tr th:only-of-type {\n",
       "        vertical-align: middle;\n",
       "    }\n",
       "\n",
       "    .dataframe tbody tr th {\n",
       "        vertical-align: top;\n",
       "    }\n",
       "\n",
       "    .dataframe thead th {\n",
       "        text-align: right;\n",
       "    }\n",
       "</style>\n",
       "<table border=\"1\" class=\"dataframe\">\n",
       "  <thead>\n",
       "    <tr style=\"text-align: right;\">\n",
       "      <th></th>\n",
       "      <th>Announcement Date</th>\n",
       "      <th>Announcement Link</th>\n",
       "      <th>Demand-side Marketplace</th>\n",
       "      <th>Supply-side Marketplace</th>\n",
       "      <th>CDR Method</th>\n",
       "      <th>Total price (USD)</th>\n",
       "      <th>Purchaser</th>\n",
       "      <th>Status</th>\n",
       "      <th>Supplier</th>\n",
       "      <th>Tons Delivered</th>\n",
       "      <th>Tons Purchased</th>\n",
       "      <th>Price per Ton</th>\n",
       "      <th>Supplier Origin</th>\n",
       "    </tr>\n",
       "  </thead>\n",
       "  <tbody>\n",
       "    <tr>\n",
       "      <th>61</th>\n",
       "      <td>2023-01-16</td>\n",
       "      <td>https://cleantechnica.com/2023/01/16/carbonfut...</td>\n",
       "      <td>NaN</td>\n",
       "      <td>Carbonfuture</td>\n",
       "      <td>Biochar</td>\n",
       "      <td>NaN</td>\n",
       "      <td>Aggregate Purchase</td>\n",
       "      <td>undelivered</td>\n",
       "      <td>Mash makes</td>\n",
       "      <td>0.0</td>\n",
       "      <td>50000.0</td>\n",
       "      <td>NaN</td>\n",
       "      <td>India</td>\n",
       "    </tr>\n",
       "    <tr>\n",
       "      <th>155</th>\n",
       "      <td>2022-12-01</td>\n",
       "      <td>NaN</td>\n",
       "      <td>NaN</td>\n",
       "      <td>Milkywire</td>\n",
       "      <td>Biochar</td>\n",
       "      <td>17500.0</td>\n",
       "      <td>WRLD Foundation</td>\n",
       "      <td>undelivered</td>\n",
       "      <td>Mash makes</td>\n",
       "      <td>0.0</td>\n",
       "      <td>175.0</td>\n",
       "      <td>100.00000</td>\n",
       "      <td>India</td>\n",
       "    </tr>\n",
       "    <tr>\n",
       "      <th>341</th>\n",
       "      <td>2023-03-31</td>\n",
       "      <td>https://docs.google.com/spreadsheets/d/129BzKz...</td>\n",
       "      <td>Klimate</td>\n",
       "      <td>Klimate</td>\n",
       "      <td>Biochar</td>\n",
       "      <td>NaN</td>\n",
       "      <td>Aggregate Purchase</td>\n",
       "      <td>undelivered</td>\n",
       "      <td>Mash makes</td>\n",
       "      <td>0.0</td>\n",
       "      <td>500.0</td>\n",
       "      <td>NaN</td>\n",
       "      <td>India</td>\n",
       "    </tr>\n",
       "    <tr>\n",
       "      <th>481</th>\n",
       "      <td>2021-12-01</td>\n",
       "      <td>NaN</td>\n",
       "      <td>NaN</td>\n",
       "      <td>Milkywire</td>\n",
       "      <td>Biochar</td>\n",
       "      <td>1200.0</td>\n",
       "      <td>WRLD Foundation</td>\n",
       "      <td>undelivered</td>\n",
       "      <td>Mash makes</td>\n",
       "      <td>0.0</td>\n",
       "      <td>12.0</td>\n",
       "      <td>100.00000</td>\n",
       "      <td>India</td>\n",
       "    </tr>\n",
       "    <tr>\n",
       "      <th>728</th>\n",
       "      <td>2021-10-20</td>\n",
       "      <td>https://www.klarna.com/assets/sites/15/2021/10...</td>\n",
       "      <td>NaN</td>\n",
       "      <td>Carbonfuture</td>\n",
       "      <td>Biochar</td>\n",
       "      <td>100000.0</td>\n",
       "      <td>Klarna</td>\n",
       "      <td>undelivered</td>\n",
       "      <td>Mash makes</td>\n",
       "      <td>0.0</td>\n",
       "      <td>846.0</td>\n",
       "      <td>118.20331</td>\n",
       "      <td>India</td>\n",
       "    </tr>\n",
       "  </tbody>\n",
       "</table>\n",
       "</div>"
      ],
      "text/plain": [
       "    Announcement Date                                  Announcement Link   \n",
       "61         2023-01-16  https://cleantechnica.com/2023/01/16/carbonfut...  \\\n",
       "155        2022-12-01                                                NaN   \n",
       "341        2023-03-31  https://docs.google.com/spreadsheets/d/129BzKz...   \n",
       "481        2021-12-01                                                NaN   \n",
       "728        2021-10-20  https://www.klarna.com/assets/sites/15/2021/10...   \n",
       "\n",
       "    Demand-side Marketplace Supply-side Marketplace CDR Method   \n",
       "61                      NaN            Carbonfuture    Biochar  \\\n",
       "155                     NaN               Milkywire    Biochar   \n",
       "341                 Klimate                 Klimate    Biochar   \n",
       "481                     NaN               Milkywire    Biochar   \n",
       "728                     NaN            Carbonfuture    Biochar   \n",
       "\n",
       "     Total price (USD)           Purchaser       Status    Supplier   \n",
       "61                 NaN  Aggregate Purchase  undelivered  Mash makes  \\\n",
       "155            17500.0     WRLD Foundation  undelivered  Mash makes   \n",
       "341                NaN  Aggregate Purchase  undelivered  Mash makes   \n",
       "481             1200.0     WRLD Foundation  undelivered  Mash makes   \n",
       "728           100000.0              Klarna  undelivered  Mash makes   \n",
       "\n",
       "     Tons Delivered  Tons Purchased  Price per Ton Supplier Origin  \n",
       "61              0.0         50000.0            NaN           India  \n",
       "155             0.0           175.0      100.00000           India  \n",
       "341             0.0           500.0            NaN           India  \n",
       "481             0.0            12.0      100.00000           India  \n",
       "728             0.0           846.0      118.20331           India  "
      ]
     },
     "execution_count": 134,
     "metadata": {},
     "output_type": "execute_result"
    }
   ],
   "source": [
    "# show rows of the dataframe \"cdr_fyi\" where supplier origin is equal to \"Denmark\"\n",
    "cdr_fyi[cdr_fyi[\"Supplier Origin\"] == \"India\"]"
   ]
  },
  {
   "cell_type": "code",
   "execution_count": null,
   "metadata": {},
   "outputs": [],
   "source": []
  }
 ],
 "metadata": {
  "kernelspec": {
   "display_name": ".venv",
   "language": "python",
   "name": "python3"
  },
  "language_info": {
   "codemirror_mode": {
    "name": "ipython",
    "version": 3
   },
   "file_extension": ".py",
   "mimetype": "text/x-python",
   "name": "python",
   "nbconvert_exporter": "python",
   "pygments_lexer": "ipython3",
   "version": "3.11.4"
  },
  "orig_nbformat": 4
 },
 "nbformat": 4,
 "nbformat_minor": 2
}
